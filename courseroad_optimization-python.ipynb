{
 "cells": [
  {
   "cell_type": "markdown",
   "id": "387eb458-ff17-4adb-a170-ecf8dea9cb8f",
   "metadata": {},
   "source": [
    "# Courseroad Optimization"
   ]
  },
  {
   "cell_type": "markdown",
   "id": "a01da3ff-9e00-467a-b85e-ba31508175ef",
   "metadata": {},
   "source": [
    "## Installing Packages"
   ]
  },
  {
   "cell_type": "code",
   "execution_count": 491,
   "id": "9a8eae44-5561-4ae3-8365-a5fc386ef36f",
   "metadata": {},
   "outputs": [],
   "source": [
    "# Install packages\n",
    "import gurobipy as gp\n",
    "from gurobipy import Model, GRB\n",
    "import pandas as pd\n",
    "import numpy as np\n",
    "import ast\n",
    "import matplotlib.pyplot as plt"
   ]
  },
  {
   "cell_type": "markdown",
   "id": "4c03d2b8-0bb0-4600-a8c9-e61b9f8bfd6a",
   "metadata": {},
   "source": [
    "## Importing and Setting up Data"
   ]
  },
  {
   "cell_type": "code",
   "execution_count": 492,
   "id": "f6bce596-0f88-4d46-ac63-1d1d360628be",
   "metadata": {},
   "outputs": [],
   "source": [
    "# Read CSV files\n",
    "data_6_4 = pd.read_csv(\"6-4_requirements.csv\")\n",
    "course_data = pd.read_csv(\"course_data_predicted.csv\")\n",
    "\n",
    "# Inner join on the 'no' column\n",
    "data = pd.merge(course_data, data_6_4, on=\"no\")\n",
    "\n",
    "# Sort the resulting DataFrame by the 'no' column\n",
    "data.sort_values(by=\"no\", inplace=True)"
   ]
  },
  {
   "cell_type": "markdown",
   "id": "ededc5af",
   "metadata": {},
   "source": [
    "### (NEW) Remove Certain Classes that are unrealistic"
   ]
  },
  {
   "cell_type": "markdown",
   "id": "9f0af21b",
   "metadata": {},
   "source": [
    "#### Classes in non-numerical course department other than CMS, STS, or WGS"
   ]
  },
  {
   "cell_type": "code",
   "execution_count": 493,
   "id": "8b9df014",
   "metadata": {},
   "outputs": [],
   "source": [
    "data = data[data['no'].apply(lambda x: x[0].isdigit() or x.split('.')[0] in ['STS', 'CMS', 'WGS'])].reset_index(drop=True)"
   ]
  },
  {
   "cell_type": "code",
   "execution_count": null,
   "id": "4951a2b0",
   "metadata": {},
   "outputs": [],
   "source": []
  },
  {
   "cell_type": "markdown",
   "id": "d4a29e6b",
   "metadata": {},
   "source": [
    "#### Non-course 6 graduate classes"
   ]
  },
  {
   "cell_type": "code",
   "execution_count": 494,
   "id": "3d5ad71a",
   "metadata": {},
   "outputs": [],
   "source": [
    "cond1 = data['le'] == 'G'\n",
    "cond2 = ~data['no'].str.startswith('6')"
   ]
  },
  {
   "cell_type": "code",
   "execution_count": 495,
   "id": "f4de2c21",
   "metadata": {},
   "outputs": [],
   "source": [
    "data = data[~(cond1 & cond2)].reset_index(drop=True)"
   ]
  },
  {
   "cell_type": "code",
   "execution_count": null,
   "id": "b1a97bf4",
   "metadata": {},
   "outputs": [],
   "source": []
  },
  {
   "cell_type": "markdown",
   "id": "6ea878e2",
   "metadata": {},
   "source": [
    "#### Classes with <= than 6 units (other than 6.100A)"
   ]
  },
  {
   "cell_type": "code",
   "execution_count": 496,
   "id": "8acb629f",
   "metadata": {},
   "outputs": [],
   "source": [
    "cond1 = data['vu'] <= 6.0\n",
    "cond2 = data['no'] != '6.100A'"
   ]
  },
  {
   "cell_type": "code",
   "execution_count": 497,
   "id": "596721fa",
   "metadata": {},
   "outputs": [],
   "source": [
    "data = data[~(cond1 & cond2)].reset_index(drop=True)"
   ]
  },
  {
   "cell_type": "code",
   "execution_count": null,
   "id": "8f2ca5e6",
   "metadata": {},
   "outputs": [],
   "source": []
  },
  {
   "cell_type": "code",
   "execution_count": null,
   "id": "27050d20",
   "metadata": {},
   "outputs": [],
   "source": []
  },
  {
   "cell_type": "code",
   "execution_count": 500,
   "id": "adb32e4b-5184-4c2a-8f80-c8727ad1a555",
   "metadata": {},
   "outputs": [],
   "source": [
    "# Set Variables\n",
    "classes = len(data)\n",
    "semesters = 8"
   ]
  },
  {
   "cell_type": "code",
   "execution_count": 501,
   "id": "d132adc1",
   "metadata": {},
   "outputs": [
    {
     "data": {
      "text/plain": [
       "1207"
      ]
     },
     "execution_count": 501,
     "metadata": {},
     "output_type": "execute_result"
    }
   ],
   "source": [
    "classes"
   ]
  },
  {
   "cell_type": "code",
   "execution_count": null,
   "id": "9f091300",
   "metadata": {},
   "outputs": [],
   "source": []
  },
  {
   "cell_type": "markdown",
   "id": "869b1a5e-038c-4636-9716-917dd85949f0",
   "metadata": {},
   "source": [
    "### Data Directly from CSV"
   ]
  },
  {
   "cell_type": "code",
   "execution_count": 502,
   "id": "a96038b3-79e9-4070-8381-02eb87c222c5",
   "metadata": {},
   "outputs": [],
   "source": [
    "# Get basic class information\n",
    "names = data[\"no\"]\n",
    "fall = data[\"fa\"]\n",
    "spring = data[\"sp\"]\n",
    "U = data[\"vu\"]  # units\n",
    "R = data[\"ra\"]  # ratings\n",
    "H = data[\"h\"]   # hours\n",
    "same_as = data[\"sa\"]\n",
    "pre_reqs = data[\"pr\"]\n",
    "\n",
    "# Get GIR-related information\n",
    "hh = data[\"hh\"]\n",
    "ha = data[\"ha\"]\n",
    "hs = data[\"hs\"]\n",
    "he = data[\"he\"]\n",
    "cih = data[\"ci\"]\n",
    "ci_hw = data[\"cw\"]\n",
    "rest = data[\"re\"]\n",
    "lab = data[\"la\"]\n",
    "bio = data[\"bio\"]\n",
    "chem = data[\"ch\"]\n",
    "phys1 = data[\"p1\"]\n",
    "phys2 = data[\"p2\"]\n",
    "calc1 = data[\"c1\"]\n",
    "calc2 = data[\"c2\"]\n",
    "\n",
    "# Get 6-4-related information\n",
    "programming = data[\"p-64\"]\n",
    "foundation = data[\"f-64\"]\n",
    "math2 = data[\"m2-64\"]\n",
    "math3 = data[\"m3-64\"]\n",
    "datac = data[\"dac-64\"]\n",
    "mod = data[\"moc-64\"]\n",
    "decision = data[\"dec-64\"]\n",
    "compute = data[\"coc-64\"]\n",
    "human = data[\"huc-64\"]\n",
    "cim_6_4 = data[\"cim-64\"]\n",
    "cim2 = data[\"cim2-64\"]\n",
    "serc = data[\"serc\"]\n",
    "aus = data[\"aus\"]\n",
    "eecs = data[\"eecs\"]"
   ]
  },
  {
   "cell_type": "markdown",
   "id": "21ac3fab-75d7-447f-8c74-dc42ef018922",
   "metadata": {},
   "source": [
    "### Data Processing"
   ]
  },
  {
   "cell_type": "code",
   "execution_count": 503,
   "id": "6656f8f4",
   "metadata": {},
   "outputs": [],
   "source": [
    "# Convert pre_reqs to a nested list\n",
    "pre_reqs = [ast.literal_eval(pre_reqs[i]) for i in range(len(pre_reqs))]"
   ]
  },
  {
   "cell_type": "code",
   "execution_count": 504,
   "id": "4a8b8f66",
   "metadata": {},
   "outputs": [
    {
     "name": "stdout",
     "output_type": "stream",
     "text": [
      "[2.]\n"
     ]
    }
   ],
   "source": [
    "classes_w_pr = set()\n",
    "classes_are_pr = set()\n",
    "\n",
    "\n",
    "# Build lists classes_w_pr and classes_are_pr\n",
    "for i in range(classes):\n",
    "    p = pre_reqs[i]\n",
    "    \n",
    "    # class has pre reqs\n",
    "    if len(p) > 0:\n",
    "        classes_w_pr.add(i)\n",
    "    \n",
    "    for j in range(len(p)):\n",
    "        constraint = p[j]\n",
    "        \n",
    "        # add 1 to list for each constraint\n",
    "        for p_class in constraint:\n",
    "            try: # can't find some of the classes\n",
    "                ind = names.tolist().index(p_class)\n",
    "                classes_are_pr.add(ind)\n",
    "            except:\n",
    "                continue\n",
    "\n",
    "classes_w_pr = list(classes_w_pr)\n",
    "classes_w_pr.sort()\n",
    "\n",
    "classes_are_pr = list(classes_are_pr)\n",
    "classes_are_pr.sort()\n",
    "\n",
    "\n",
    "# Making matrix for pre-reqs\n",
    "PR = []\n",
    "\n",
    "\n",
    "for i in classes_w_pr:\n",
    "    \n",
    "    # now p should be non-empty\n",
    "    p = pre_reqs[i]\n",
    "                        \n",
    "    # initialize class_PR. Will be of size len(classes_are_pr) x len(p)\n",
    "    class_PR = []\n",
    "    \n",
    "    # initially class_PR will have one row for each pre-req\n",
    "    for j in range(len(p)):\n",
    "        constraint = p[j]\n",
    "        one_hot = np.zeros(len(classes_are_pr))\n",
    "        \n",
    "        # add 1 to list for each constraint\n",
    "        for p_class in constraint:\n",
    "            try: # can't find some of the classes\n",
    "                ind_by_name = names.tolist().index(p_class)\n",
    "                ind_classes_are_pr = classes_are_pr.index(ind_by_name)\n",
    "                one_hot[ind_classes_are_pr] = 1\n",
    "            except:\n",
    "                continue\n",
    "        class_PR.append(one_hot)\n",
    "                                    \n",
    "    PR.append(np.transpose(np.array(class_PR)))\n",
    "    \n",
    "# sanity check\n",
    "print(sum(PR[0])) # should be 2 for 1801 and 1801A"
   ]
  },
  {
   "cell_type": "code",
   "execution_count": 505,
   "id": "44ede74e-c6ff-431a-b121-c690e1b7e770",
   "metadata": {},
   "outputs": [],
   "source": [
    "# Determining which classes are hasses\n",
    "hass = [1 if (hh[i] == 1 or ha[i] == 1 or hs[i] == 1 or he[i] == 1) else 0 for i in range(classes)]\n",
    "\n",
    "# Making matrix of GIR requirements \n",
    "G = np.column_stack((ha, hs, hh, cih, hass, bio, phys1, phys2, calc1, calc2, chem, rest, lab))\n",
    "G_sat = [1, 1, 1, 2, 8, 1, 1, 1, 1, 1, 1, 12, 12]\n",
    "\n",
    "# Making matrix for fall/spring classes\n",
    "A = np.column_stack((fall, spring))\n",
    "\n",
    "# Make vector indicating whether a semester is a fall (1) or spring (2) semester\n",
    "S = [0 if j % 2 == 0 else 1 for j in range(semesters)]\n",
    "\n",
    "# Get 1801A and 1802A indices\n",
    "calc1A = names.tolist().index(\"18.01A\")\n",
    "calc2A = names.tolist().index(\"18.02A\")\n",
    "\n",
    "# Making matrices for 6-4 requirements\n",
    "# center = [1 if (datac[i] == 1 or mod[i] == 1 or decision[i] == 1 or compute[i] == 1 or human[i] == 1) else 0 for i in range(classes)]\n",
    "aus_cim6_4 = [1 if (aus[i] == 1 or cim_6_4[i] == 1) else 0 for i in range(classes)]\n",
    "aus_cim2 = [1 if (aus[i] == 1 or cim2[i] == 1) else 0 for i in range(classes)]\n",
    "\n",
    "M = np.column_stack((programming, foundation, math2, math3, datac, mod, decision, compute, human, serc, cim_6_4, cim2, aus_cim6_4, aus_cim2))\n",
    "M_sat = [1, 3, 1, 1, 1, 1, 1, 1, 1, 1, 1, 2, 2, 3]\n",
    "\n",
    "EM = eecs #[1 if (eecs[i] == 1 or names[i][:2] == \"18\") else 0 for i in range(classes)]\n",
    "EM = EM-calc1-calc2"
   ]
  },
  {
   "cell_type": "markdown",
   "id": "8ae2fed9-a067-40f7-b5e7-976c847486a8",
   "metadata": {},
   "source": [
    "## Tweakable variables"
   ]
  },
  {
   "cell_type": "code",
   "execution_count": 506,
   "id": "52d3858e-3ebf-4c04-8c76-6f59b575593c",
   "metadata": {},
   "outputs": [],
   "source": [
    "a = 1.0"
   ]
  },
  {
   "cell_type": "markdown",
   "id": "d78ea435-e426-499e-892d-c363ef3d5dc9",
   "metadata": {},
   "source": [
    "## Building the Model"
   ]
  },
  {
   "cell_type": "markdown",
   "id": "44ef17ec-22c2-4b58-b59b-d9e62e0f21bf",
   "metadata": {},
   "source": [
    "### Index references\n",
    "i: class\n",
    "\n",
    "j: semester\n",
    "\n",
    "k: index of GIR requirement\n",
    "\n",
    "l: index of 6-4 requirement"
   ]
  },
  {
   "cell_type": "markdown",
   "id": "78eaef05-1137-4778-8bbd-cf9168cb1239",
   "metadata": {},
   "source": [
    "### Model Definition"
   ]
  },
  {
   "cell_type": "code",
   "execution_count": 507,
   "id": "9d5cc7b9-a413-4ad5-8c9e-b30296d766b7",
   "metadata": {},
   "outputs": [],
   "source": [
    "# Create a Gurobi model\n",
    "model = Model()\n",
    "\n",
    "# Decision variables\n",
    "\n",
    "# Which classes to take\n",
    "X = {}\n",
    "for i in range(classes):\n",
    "    for j in range(semesters):\n",
    "        X[i, j] = model.addVar(vtype=GRB.BINARY, name=f\"X_{i}_{j}\")\n",
    "        \n",
    "# Whether class i counts towards 6-4 constraint l (listed in M)\n",
    "C = {}\n",
    "for i in range(classes):\n",
    "    for l in range(M.shape[1]):\n",
    "        C[i, l] = model.addVar(vtype=GRB.BINARY, name=f\"C_{i}_{l}\")\n",
    "                \n",
    "# Whether class i is an extra EECS math class\n",
    "E = {}\n",
    "for i in range(classes):\n",
    "    E[i] = model.addVar(vtype=GRB.BINARY, name=f\"E_{i}\")\n",
    "                \n",
    "        \n",
    "# Objective\n",
    "model.setObjective(\n",
    "    a * sum(H[i] * sum(X[i, j] for j in range(semesters)) for i in range(classes))\n",
    "    - (1 - a) * sum(R[i] * sum(X[i, j] for j in range(semesters)) for i in range(classes)),\n",
    "    GRB.MINIMIZE,\n",
    ")\n",
    "\n",
    "# ---- Variable Constraints ------\n",
    "\n",
    "# Class i must be eecs or math class to count as the extra eecs/math class\n",
    "for i in range(classes):\n",
    "    model.addConstr(E[i] <= EM[i])\n",
    "  \n",
    "# Class i cannot count towards ANY 6-4 constraint (cannot both be 1)\n",
    "for i in range(classes):\n",
    "    for l in range(M.shape[1]):\n",
    "        model.addConstr(E[i] + C[i,l] <= 1)\n",
    "                            \n",
    "# Cannot have C[i,l] = 1 if X[i,j] != 1 for any semester\n",
    "for i in range(classes):\n",
    "    for l in range(M.shape[1]):\n",
    "        model.addConstr(\n",
    "          C[i,l] <= sum(X[i,j] for j in range(semesters))            \n",
    "        )\n",
    "        \n",
    "#Cannot have E[i] = 1 if X[i,j] != 1 for any semester * added\n",
    "for i in range(classes):\n",
    "    model.addConstr(\n",
    "          E[i] <= sum(X[i,j] for j in range(semesters))            \n",
    "        )\n",
    "\n",
    "# Cannot have C[i,l] = 1 if M[i,l] != 1\n",
    "for i in range(classes):\n",
    "    for l in range(M.shape[1]):\n",
    "        model.addConstr(\n",
    "          C[i,l] <= M[i,l]           \n",
    "        )\n",
    "                                    \n",
    "# ---- General Constraints ------\n",
    "                                    \n",
    "# Cannot take a class more than once\n",
    "for i in range(classes):\n",
    "    model.addConstr(sum(X[i, j] for j in range(semesters)) <= 1, name=f\"num_times_{i}\")\n",
    "\n",
    "# Maximum and minimum number of units per semester\n",
    "for j in range(semesters):\n",
    "    model.addConstr(\n",
    "        sum(U[i] * X[i, j] for i in range(classes)) <= 60, name=f\"max_units_{j}\"\n",
    "    )\n",
    "    model.addConstr(\n",
    "        sum(U[i] * X[i, j] for i in range(classes)) >= 36, name=f\"min_units_{j}\"\n",
    "    )\n",
    "\n",
    "# Fall classes taken in fall, spring classes taken in spring\n",
    "for i in range(classes):\n",
    "    for j in range(semesters):\n",
    "        model.addConstr(X[i, j] - A[i, S[j]] <= 0, name=f\"fall_spring_{i}_{j}\")\n",
    "\n",
    "# Pre-reqs\n",
    "for i in range(len(classes_w_pr)):\n",
    "    for j in range(semesters):\n",
    "        for k in range(PR[i].shape[1]):\n",
    "            model.addConstr(\n",
    "                X[classes_w_pr[i], j] * sum(sum(X[classes_are_pr[z], w] for w in range(0,j)) * PR[i][z][k] for z in range(len(classes_are_pr)))\n",
    "                >= X[classes_w_pr[i], j] * 1,\n",
    "                name=f\"pre_req_constraint_{i}_{j}_{k}\",\n",
    "            )\n",
    "\n",
    "\n",
    "# ---- GIR Constraints ------\n",
    "\n",
    "# GIR requirements by classes\n",
    "for k in range(11):\n",
    "    model.addConstr(\n",
    "        sum(G[i, k] * X[i, j] for j in range(semesters) for i in range(classes)) >= G_sat[k],\n",
    "        name=f\"gir_classes_{k}\",\n",
    "    )\n",
    "\n",
    "# GIR requirements by units\n",
    "for k in range(11, 13):\n",
    "    model.addConstr(\n",
    "        sum(G[i, k] * X[i, j] * U[i] for j in range(semesters) for i in range(classes)) >= G_sat[k],\n",
    "        name=f\"gir_units_{k}\",\n",
    "    )\n",
    "\n",
    "\n",
    "# at least 180 units beyond GIR\n",
    "model.addConstr(\n",
    "    sum(\n",
    "        sum(U[i] * X[i, j] for j in range(semesters))\n",
    "        - sum(U[i] * X[i, j] for j in range(semesters))\n",
    "        * (sum(G[i, k] for k in range(G.shape[1])) >= 1)\n",
    "        for i in range(classes)\n",
    "    )\n",
    "    >= 180,\n",
    "    name=\"units_beyond_GIR\",\n",
    ")\n",
    "\n",
    "# Takes 1801A and 1802A in the same semester\n",
    "for j in range(semesters):\n",
    "    model.addConstr(X[calc1A, j] == X[calc2A, j], name=f\"calcA_sameas_{j}\")\n",
    "\n",
    "# ---- 6-4 Constraints ------\n",
    "\n",
    "# General requirements satisfied\n",
    "for l in range(M.shape[1]):\n",
    "    model.addConstr(\n",
    "        sum(M[i, l]* C[i,l] * sum(X[i, j] for j in range(semesters)) for i in range(classes)) == M_sat[l],\n",
    "        name=f\"general_64_{l}\",\n",
    "    )\n",
    "    \n",
    "#Different class for each center\n",
    "for i in range(classes):\n",
    "    model.addConstr(\n",
    "        gp.quicksum([C[i,l] for l in range(4,9)]+[C[i,11]]) <= 1, name=f\"one_center_{i}\",\n",
    "    )\n",
    "\n",
    "# One additional math/eecs course\n",
    "model.addConstr(\n",
    "    sum(E[i] for i in range(classes))== 1,\n",
    "    name=f\"math_eecs_{l}\",\n",
    ")\n",
    "\n",
    "\n",
    "# ------ Hard Coded Constraints ------\n",
    "\n",
    "# Can't take 18.06 and 18.C06\n",
    "model.addConstr(\n",
    "    sum(X[names.to_list().index('18.06'), j] + X[names.to_list().index('18.C06'), j] for j in range(semesters)) <= 1\n",
    ")\n",
    "\n",
    "\n",
    "# One hass class per semester\n",
    "for j in range(semesters):\n",
    "    model.addConstr(\n",
    "    sum(hass[i]*X[i,j] for i in range(classes)) == 1\n",
    "    )\n",
    "\n",
    "\n",
    "#normalize ratings and hours\n"
   ]
  },
  {
   "cell_type": "code",
   "execution_count": 508,
   "id": "1f9dd318",
   "metadata": {},
   "outputs": [],
   "source": [
    "model.write(\"model.lp\")"
   ]
  },
  {
   "cell_type": "code",
   "execution_count": 509,
   "id": "83703a5b-bd4d-4924-8e0c-d9a1febf3f2e",
   "metadata": {
    "scrolled": false
   },
   "outputs": [
    {
     "name": "stdout",
     "output_type": "stream",
     "text": [
      "Gurobi Optimizer version 10.0.3 build v10.0.3rc0 (mac64[rosetta2])\n",
      "\n",
      "CPU model: Apple M2\n",
      "Thread count: 8 physical cores, 8 logical processors, using up to 8 threads\n",
      "\n",
      "Optimize a model with 66355 rows, 27761 columns and 282264 nonzeros\n",
      "Model fingerprint: 0x3e1ce2f2\n",
      "Model has 7917 quadratic constraints\n",
      "Variable types: 0 continuous, 27761 integer (27761 binary)\n",
      "Coefficient statistics:\n",
      "  Matrix range     [1e+00, 2e+01]\n",
      "  QMatrix range    [1e+00, 1e+00]\n",
      "  QLMatrix range   [1e+00, 1e+00]\n",
      "  Objective range  [4e+00, 3e+01]\n",
      "  Bounds range     [1e+00, 1e+00]\n",
      "  RHS range        [1e+00, 2e+02]\n",
      "  QRHS range       [1e+00, 3e+00]\n",
      "Presolve removed 62620 rows and 23252 columns\n",
      "Presolve time: 0.20s\n",
      "Presolved: 4480 rows, 4753 columns, 34234 nonzeros\n",
      "Variable types: 0 continuous, 4753 integer (4753 binary)\n",
      "\n",
      "Root relaxation: objective 2.859170e+02, 771 iterations, 0.02 seconds (0.01 work units)\n",
      "\n",
      "    Nodes    |    Current Node    |     Objective Bounds      |     Work\n",
      " Expl Unexpl |  Obj  Depth IntInf | Incumbent    BestBd   Gap | It/Node Time\n",
      "\n",
      "     0     0  285.91698    0  144          -  285.91698      -     -    0s\n",
      "     0     0  301.02493    0   40          -  301.02493      -     -    0s\n",
      "H    0     0                     348.6244278  301.02493  13.7%     -    0s\n",
      "H    0     0                     321.4449414  301.02493  6.35%     -    0s\n",
      "H    0     0                     316.5915067  301.02493  4.92%     -    0s\n",
      "     0     0  301.02493    0   40  316.59151  301.02493  4.92%     -    0s\n",
      "     0     0  306.01376    0   19  316.59151  306.01376  3.34%     -    0s\n",
      "H    0     0                     308.4726787  306.01376  0.80%     -    0s\n",
      "H    0     0                     306.3389362  306.01376  0.11%     -    0s\n",
      "     0     0     cutoff    0       306.33894  306.33894  0.00%     -    0s\n",
      "\n",
      "Cutting planes:\n",
      "  Gomory: 2\n",
      "  Cover: 1\n",
      "  Flow cover: 1\n",
      "  GUB cover: 1\n",
      "\n",
      "Explored 1 nodes (1962 simplex iterations) in 0.71 seconds (0.84 work units)\n",
      "Thread count was 8 (of 8 available processors)\n",
      "\n",
      "Solution count 5: 306.339 308.473 316.592 ... 348.624\n",
      "\n",
      "Optimal solution found (tolerance 1.00e-04)\n",
      "Best objective 3.063389362394e+02, best bound 3.063389362394e+02, gap 0.0000%\n"
     ]
    }
   ],
   "source": [
    "model.optimize()"
   ]
  },
  {
   "cell_type": "code",
   "execution_count": 510,
   "id": "a76a280c-5cd5-4042-8ec7-5898095d65b2",
   "metadata": {},
   "outputs": [
    {
     "data": {
      "text/plain": [
       "306.3389362394262"
      ]
     },
     "execution_count": 510,
     "metadata": {},
     "output_type": "execute_result"
    }
   ],
   "source": [
    "model.objVal"
   ]
  },
  {
   "cell_type": "code",
   "execution_count": 513,
   "id": "d439ca70-5e52-42fc-ae9f-283b7e2dad41",
   "metadata": {},
   "outputs": [
    {
     "name": "stdout",
     "output_type": "stream",
     "text": [
      "semester 0 :  ['15.312', '24.221', '3.091', '6.S977', '7.015']\n",
      "semester 1 :  ['15.238', '18.01', '2.980']\n",
      "semester 2 :  ['18.022', '21M.622', '6.100A', '6.1200']\n",
      "semester 3 :  ['18.03', '18.06', '21M.600', '21M.862', '6.1010']\n",
      "semester 4 :  ['12.301', '24.234', '6.3900', '6.4590', '6.7201']\n",
      "semester 5 :  ['18.204', '21M.714', '6.8301', '8.011']\n",
      "semester 6 :  ['21M.704', '6.1210', '6.4210', '6.8371']\n",
      "semester 7 :  ['18.05', '21W.762', '6.1220', '6.3000', '8.02']\n",
      "semester 0  units:  60.0\n",
      "semester 1  units:  36.0\n",
      "semester 2  units:  42.0\n",
      "semester 3  units:  57.0\n",
      "semester 4  units:  60.0\n",
      "semester 5  units:  51.0\n",
      "semester 6  units:  48.0\n",
      "semester 7  units:  60.0\n"
     ]
    }
   ],
   "source": [
    "for j in range(semesters):\n",
    "    classes_taken = []\n",
    "    for i in range(classes):\n",
    "        val = X[i, j].X\n",
    "        if np.isclose(val, 1.0, rtol=1e-05):\n",
    "            classes_taken.append(names[i])\n",
    "    print(\"semester\", j, \": \", classes_taken)\n",
    "\n",
    "for j in range(semesters):\n",
    "    units = 0\n",
    "    for i in range(classes):\n",
    "        val = X[i, j].X\n",
    "        units += U[i]*val\n",
    "    print(\"semester\", j, \" units: \", units)\n",
    "\n",
    "# index_of_hass = names.tolist().index('21.THT')\n",
    "# print(U[index_of_hass])"
   ]
  },
  {
   "cell_type": "code",
   "execution_count": 514,
   "id": "516519da",
   "metadata": {
    "scrolled": true
   },
   "outputs": [
    {
     "name": "stdout",
     "output_type": "stream",
     "text": [
      "programming: 6.100A\n",
      "foundation: 6.1010, 6.1200, 6.1210\n",
      "math2: 18.06\n",
      "math3: 18.05\n",
      "data_centric: 6.3900\n",
      "model_centric: 6.3000\n",
      "decision_centric: 6.7201\n",
      "compute_centric: 6.1220\n",
      "human_centric: 6.4590\n",
      "serc: 6.4590\n",
      "cim_64: 6.4210\n",
      "cim2: 6.4210, 6.8301\n",
      "aus_cim6_4: 6.4210, 6.8371\n",
      "aus_cim2: 6.4210, 6.4590, 6.8301\n",
      "eecs: 18.03\n"
     ]
    }
   ],
   "source": [
    "# See what classes satisfy what 6-4 constraints\n",
    "constraints_64 = ['programming', 'foundation', 'math2', 'math3', \n",
    "                  'data_centric', 'model_centric', 'decision_centric', 'compute_centric', 'human_centric', \n",
    "                  'serc', 'cim_64', 'cim2', 'aus_cim6_4', 'aus_cim2']\n",
    "\n",
    "for j, constraint in enumerate(constraints_64):\n",
    "    courses= []\n",
    "    for i in range(len(M)):\n",
    "        val = C[i,j].X\n",
    "        if np.isclose(val, 1.0, rtol=1e-05):\n",
    "            np.isclose(val, 1.0, rtol=1e-05)\n",
    "            courses.append(data.iloc[i]['no'])\n",
    "    print(f'{constraint}: {\", \".join(courses)}')\n",
    "    \n",
    "for i in range(len(M)):\n",
    "    val = E[i].X\n",
    "    if np.isclose(val, 1.0, rtol=1e-05):\n",
    "        print(f'eecs: {names[i]}')\n",
    "    "
   ]
  },
  {
   "cell_type": "code",
   "execution_count": null,
   "id": "37a5e321",
   "metadata": {},
   "outputs": [],
   "source": []
  },
  {
   "cell_type": "code",
   "execution_count": null,
   "id": "85c2c3c0",
   "metadata": {},
   "outputs": [],
   "source": []
  },
  {
   "cell_type": "code",
   "execution_count": 515,
   "id": "1f0b6261",
   "metadata": {},
   "outputs": [
    {
     "data": {
      "text/plain": [
       "[Class     Name  15.312  24.221  3.091  6.S977  7.015\n",
       " 0        Hours     6.2     5.2   7.08     5.7    7.8\n",
       " 1      Ratings     6.0     6.9   5.20     6.7    5.9\n",
       " 2        Units    12.0    12.0  12.00    12.0   12.0,\n",
       " Class     Name     15.238  18.01  2.980\n",
       " 0        Hours   5.605757  11.92    6.0\n",
       " 1      Ratings   5.457172   5.34    5.7\n",
       " 2        Units  12.000000  12.00   12.0,\n",
       " Class     Name  18.022  21M.622  6.100A  6.1200\n",
       " 0        Hours     9.0      4.3   11.29   11.09\n",
       " 1      Ratings     6.0      7.0    5.16    4.91\n",
       " 2        Units    12.0     12.0    6.00   12.00,\n",
       " Class     Name  18.03  18.06  21M.600  21M.862  6.1010\n",
       " 0        Hours  10.13   8.60     6.02      6.5   10.44\n",
       " 1      Ratings   5.16   5.26     6.41      7.0    5.65\n",
       " 2        Units  12.00  12.00     9.00     12.0   12.00,\n",
       " Class     Name  12.301  24.234  6.3900  6.4590  6.7201\n",
       " 0        Hours     6.6     6.5   10.04    11.4    14.1\n",
       " 1      Ratings     5.0     2.0    5.04     6.2     4.9\n",
       " 2        Units    12.0    12.0   12.00    12.0    12.0,\n",
       " Class     Name  18.204    21M.714     6.8301  8.011\n",
       " 0        Hours    6.53   6.545750  11.367430  11.58\n",
       " 1      Ratings    5.77   6.286318   5.704416   4.20\n",
       " 2        Units   12.00  12.000000  15.000000  12.00,\n",
       " Class     Name  21M.704  6.1210  6.4210  6.8371\n",
       " 0        Hours      5.0   13.24    12.4     9.6\n",
       " 1      Ratings      6.4    5.64     6.5     6.6\n",
       " 2        Units      9.0   12.00    15.0    12.0,\n",
       " Class     Name  18.05  21W.762  6.1220  6.3000   8.02\n",
       " 0        Hours   9.75      5.4   11.82   11.33  10.26\n",
       " 1      Ratings   5.17      6.9    5.32    5.08   5.25\n",
       " 2        Units  12.00     12.0   12.00   12.00  12.00]"
      ]
     },
     "execution_count": 515,
     "metadata": {},
     "output_type": "execute_result"
    }
   ],
   "source": [
    "# Generate dataframe for each semester\n",
    "semester_dfs = []\n",
    "\n",
    "for j in range(semesters):\n",
    "\n",
    "    classes_taken = []\n",
    "    hours_by_class = []\n",
    "    ratings_by_class = []\n",
    "    units_by_class = []\n",
    "    for i in range(classes):\n",
    "        val = X[i, j].X\n",
    "        if np.isclose(val, 1.0, rtol=1e-05):\n",
    "            classes_taken.append(names[i])\n",
    "            hours_by_class.append(H[i])\n",
    "            ratings_by_class.append(R[i])\n",
    "            units_by_class.append(U[i])\n",
    "        \n",
    "    # Create a DataFrame\n",
    "    df = pd.DataFrame({\n",
    "        'Class': classes_taken,\n",
    "        'Hours': hours_by_class,\n",
    "        'Ratings': ratings_by_class,\n",
    "        'Units': units_by_class\n",
    "    })\n",
    "\n",
    "    # Reshaping the DataFrame using melt\n",
    "    df_melted = pd.melt(df, id_vars=['Class'], var_name='Name', value_name='Value')\n",
    "\n",
    "    # Pivot the melted DataFrame to get classes as columns\n",
    "    df_pivoted = df_melted.pivot(index='Name', columns='Class', values='Value').reset_index()\n",
    "\n",
    "    semester_dfs.append(df_pivoted)\n",
    "            \n",
    "semester_dfs\n"
   ]
  },
  {
   "cell_type": "code",
   "execution_count": 516,
   "id": "3430676a",
   "metadata": {},
   "outputs": [],
   "source": [
    "# Generate df of average hours and ratings and total units per semester\n",
    "hours_by_sem = [0 for j in range(semesters)]\n",
    "ratings_by_sem = [0 for j in range(semesters)]\n",
    "units_by_sem = [0 for j in range(semesters)]\n",
    "\n",
    "for j in range(semesters):\n",
    "    num_taken = 0\n",
    "    for i in range(classes):\n",
    "        num_taken += val\n",
    "        val = X[i, j].X\n",
    "        num_taken += val\n",
    "        hours_by_sem[j] += H[i]*val\n",
    "        units_by_sem[j] += U[i]*val\n",
    "        ratings_by_sem[j] += R[i]*val\n",
    "        \n",
    "    hours_by_sem[j] = hours_by_sem[j]/num_taken\n",
    "    ratings_by_sem[j] = ratings_by_sem[j]/num_taken\n",
    "        \n",
    "# Create a DataFrame\n",
    "results = {\n",
    "    'Semester': list(range(1, semesters + 1)),\n",
    "    'Hours': hours_by_sem,\n",
    "    'Ratings': ratings_by_sem,\n",
    "    'Units': units_by_sem\n",
    "}\n",
    "\n",
    "results_df = pd.DataFrame(results)"
   ]
  },
  {
   "cell_type": "code",
   "execution_count": 517,
   "id": "f2b19664",
   "metadata": {},
   "outputs": [
    {
     "data": {
      "image/png": "[encoded data removed]",
      "text/plain": [
       "<Figure size 432x288 with 1 Axes>"
      ]
     },
     "metadata": {
      "needs_background": "light"
     },
     "output_type": "display_data"
    }
   ],
   "source": [
    "# Plot the values\n",
    "plt.plot(results_df['Hours'])\n",
    "\n",
    "# Add labels and title\n",
    "plt.xlabel('Semester')\n",
    "plt.ylabel('Average hrs')\n",
    "plt.title('Average number of hours per semester')\n",
    "\n",
    "# Show the plot\n",
    "plt.show()"
   ]
  },
  {
   "cell_type": "code",
   "execution_count": 518,
   "id": "b8894890",
   "metadata": {},
   "outputs": [
    {
     "data": {
      "image/png": "[encoded data removed]",
      "text/plain": [
       "<Figure size 432x288 with 1 Axes>"
      ]
     },
     "metadata": {
      "needs_background": "light"
     },
     "output_type": "display_data"
    }
   ],
   "source": [
    "# Plot the values\n",
    "plt.plot(results_df['Ratings'])\n",
    "\n",
    "# Add labels and title\n",
    "plt.xlabel('Semester')\n",
    "plt.ylabel('Average rating')\n",
    "plt.title('Average rating per semester')\n",
    "\n",
    "# Show the plot\n",
    "plt.show()"
   ]
  },
  {
   "cell_type": "code",
   "execution_count": 519,
   "id": "71485f1f",
   "metadata": {},
   "outputs": [
    {
     "data": {
      "image/png": "[encoded data removed]",
      "text/plain": [
       "<Figure size 432x288 with 1 Axes>"
      ]
     },
     "metadata": {
      "needs_background": "light"
     },
     "output_type": "display_data"
    }
   ],
   "source": [
    "# Plot the values\n",
    "plt.plot(results_df['Units'])\n",
    "\n",
    "# Add labels and title\n",
    "plt.xlabel('Semester')\n",
    "plt.ylabel('Number of units')\n",
    "plt.title('Number of units per semester')\n",
    "\n",
    "# Show the plot\n",
    "plt.show()"
   ]
  },
  {
   "cell_type": "code",
   "execution_count": null,
   "id": "edf38ba6",
   "metadata": {},
   "outputs": [],
   "source": []
  }
 ],
 "metadata": {
  "kernelspec": {
   "display_name": "Python 3",
   "language": "python",
   "name": "python3"
  },
  "language_info": {
   "codemirror_mode": {
    "name": "ipython",
    "version": 3
   },
   "file_extension": ".py",
   "mimetype": "text/x-python",
   "name": "python",
   "nbconvert_exporter": "python",
   "pygments_lexer": "ipython3",
   "version": "3.7.6"
  }
 },
 "nbformat": 4,
 "nbformat_minor": 5
}
