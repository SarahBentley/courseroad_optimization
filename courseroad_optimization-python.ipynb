{
 "cells": [
  {
   "cell_type": "markdown",
   "id": "387eb458-ff17-4adb-a170-ecf8dea9cb8f",
   "metadata": {},
   "source": [
    "# Courseroad Optimization"
   ]
  },
  {
   "cell_type": "markdown",
   "id": "a01da3ff-9e00-467a-b85e-ba31508175ef",
   "metadata": {},
   "source": [
    "## Installing Packages"
   ]
  },
  {
   "cell_type": "code",
   "execution_count": 1,
   "id": "9a8eae44-5561-4ae3-8365-a5fc386ef36f",
   "metadata": {},
   "outputs": [],
   "source": [
    "# Install packages\n",
    "import gurobipy as gp\n",
    "from gurobipy import Model, GRB\n",
    "import pandas as pd\n",
    "import numpy as np\n",
    "import ast\n",
    "import matplotlib.pyplot as plt"
   ]
  },
  {
   "cell_type": "markdown",
   "id": "4c03d2b8-0bb0-4600-a8c9-e61b9f8bfd6a",
   "metadata": {},
   "source": [
    "## Importing and Setting up Data"
   ]
  },
  {
   "cell_type": "code",
   "execution_count": 2,
   "id": "f6bce596-0f88-4d46-ac63-1d1d360628be",
   "metadata": {},
   "outputs": [],
   "source": [
    "# Read CSV files\n",
    "data_6_4 = pd.read_csv(\"6-4_requirements.csv\")\n",
    "course_data = pd.read_csv(\"course_data_predicted.csv\")\n",
    "\n",
    "# Inner join on the 'no' column\n",
    "data = pd.merge(course_data, data_6_4, on=\"no\")\n",
    "\n",
    "# Sort the resulting DataFrame by the 'no' column\n",
    "data.sort_values(by=\"no\", inplace=True)"
   ]
  },
  {
   "cell_type": "markdown",
   "id": "ededc5af",
   "metadata": {},
   "source": [
    "### (NEW) Remove Certain Classes that are unrealistic"
   ]
  },
  {
   "cell_type": "markdown",
   "id": "9f0af21b",
   "metadata": {},
   "source": [
    "#### Classes in non-numerical course department other than CMS, STS, or WGS"
   ]
  },
  {
   "cell_type": "code",
   "execution_count": 3,
   "id": "8b9df014",
   "metadata": {},
   "outputs": [],
   "source": [
    "data = data[data['no'].apply(lambda x: x[0].isdigit() or x.split('.')[0] in ['STS', 'CMS', 'WGS'])].reset_index(drop=True)"
   ]
  },
  {
   "cell_type": "code",
   "execution_count": null,
   "id": "4951a2b0",
   "metadata": {},
   "outputs": [],
   "source": []
  },
  {
   "cell_type": "markdown",
   "id": "d4a29e6b",
   "metadata": {},
   "source": [
    "#### Non-course 6 graduate classes"
   ]
  },
  {
   "cell_type": "code",
   "execution_count": 4,
   "id": "3d5ad71a",
   "metadata": {},
   "outputs": [],
   "source": [
    "cond1 = data['le'] == 'G'\n",
    "cond2 = ~data['no'].str.startswith('6')"
   ]
  },
  {
   "cell_type": "code",
   "execution_count": 5,
   "id": "f4de2c21",
   "metadata": {},
   "outputs": [],
   "source": [
    "data = data[~(cond1 & cond2)].reset_index(drop=True)"
   ]
  },
  {
   "cell_type": "code",
   "execution_count": null,
   "id": "b1a97bf4",
   "metadata": {},
   "outputs": [],
   "source": []
  },
  {
   "cell_type": "markdown",
   "id": "6ea878e2",
   "metadata": {},
   "source": [
    "#### Classes with <= than 6 units (other than 6.100A)"
   ]
  },
  {
   "cell_type": "code",
   "execution_count": 6,
   "id": "8acb629f",
   "metadata": {},
   "outputs": [],
   "source": [
    "cond1 = data['vu'] <= 6.0\n",
    "cond2 = data['no'] != '6.100A'"
   ]
  },
  {
   "cell_type": "code",
   "execution_count": 7,
   "id": "596721fa",
   "metadata": {},
   "outputs": [],
   "source": [
    "data = data[~(cond1 & cond2)].reset_index(drop=True)"
   ]
  },
  {
   "cell_type": "markdown",
   "id": "0c576aeb",
   "metadata": {},
   "source": [
    "#### Classes that are no longer offered"
   ]
  },
  {
   "cell_type": "code",
   "execution_count": 33,
   "id": "27050d20",
   "metadata": {},
   "outputs": [],
   "source": [
    "cond = data['no'] != '24.221'\n",
    "data = data[cond].reset_index(drop=True)"
   ]
  },
  {
   "cell_type": "code",
   "execution_count": 34,
   "id": "adb32e4b-5184-4c2a-8f80-c8727ad1a555",
   "metadata": {},
   "outputs": [],
   "source": [
    "# Set Variables\n",
    "classes = len(data)\n",
    "semesters = 8"
   ]
  },
  {
   "cell_type": "code",
   "execution_count": 35,
   "id": "d132adc1",
   "metadata": {},
   "outputs": [
    {
     "data": {
      "text/plain": [
       "1206"
      ]
     },
     "execution_count": 35,
     "metadata": {},
     "output_type": "execute_result"
    }
   ],
   "source": [
    "classes"
   ]
  },
  {
   "cell_type": "code",
   "execution_count": null,
   "id": "9f091300",
   "metadata": {},
   "outputs": [],
   "source": []
  },
  {
   "cell_type": "markdown",
   "id": "869b1a5e-038c-4636-9716-917dd85949f0",
   "metadata": {},
   "source": [
    "### Data Directly from CSV"
   ]
  },
  {
   "cell_type": "code",
   "execution_count": 36,
   "id": "a96038b3-79e9-4070-8381-02eb87c222c5",
   "metadata": {},
   "outputs": [],
   "source": [
    "# Get basic class information\n",
    "names = data[\"no\"]\n",
    "fall = data[\"fa\"]\n",
    "spring = data[\"sp\"]\n",
    "U = data[\"vu\"]  # units\n",
    "R = data[\"ra\"]  # ratings\n",
    "H = data[\"h\"]   # hours\n",
    "same_as = data[\"sa\"]\n",
    "pre_reqs = data[\"pr\"]\n",
    "\n",
    "# Get GIR-related information\n",
    "hh = data[\"hh\"]\n",
    "ha = data[\"ha\"]\n",
    "hs = data[\"hs\"]\n",
    "he = data[\"he\"]\n",
    "cih = data[\"ci\"]\n",
    "ci_hw = data[\"cw\"]\n",
    "rest = data[\"re\"]\n",
    "lab = data[\"la\"]\n",
    "bio = data[\"bio\"]\n",
    "chem = data[\"ch\"]\n",
    "phys1 = data[\"p1\"]\n",
    "phys2 = data[\"p2\"]\n",
    "calc1 = data[\"c1\"]\n",
    "calc2 = data[\"c2\"]\n",
    "\n",
    "# Get 6-4-related information\n",
    "programming = data[\"p-64\"]\n",
    "foundation = data[\"f-64\"]\n",
    "math2 = data[\"m2-64\"]\n",
    "math3 = data[\"m3-64\"]\n",
    "datac = data[\"dac-64\"]\n",
    "mod = data[\"moc-64\"]\n",
    "decision = data[\"dec-64\"]\n",
    "compute = data[\"coc-64\"]\n",
    "human = data[\"huc-64\"]\n",
    "cim_6_4 = data[\"cim-64\"]\n",
    "cim2 = data[\"cim2-64\"]\n",
    "serc = data[\"serc\"]\n",
    "aus = data[\"aus\"]\n",
    "eecs = data[\"eecs\"]"
   ]
  },
  {
   "cell_type": "markdown",
   "id": "21ac3fab-75d7-447f-8c74-dc42ef018922",
   "metadata": {},
   "source": [
    "### Data Processing"
   ]
  },
  {
   "cell_type": "code",
   "execution_count": 37,
   "id": "6656f8f4",
   "metadata": {},
   "outputs": [],
   "source": [
    "# Convert pre_reqs to a nested list\n",
    "pre_reqs = [ast.literal_eval(pre_reqs[i]) for i in range(len(pre_reqs))]"
   ]
  },
  {
   "cell_type": "code",
   "execution_count": 38,
   "id": "4a8b8f66",
   "metadata": {},
   "outputs": [
    {
     "name": "stdout",
     "output_type": "stream",
     "text": [
      "[2.]\n"
     ]
    }
   ],
   "source": [
    "classes_w_pr = set()\n",
    "classes_are_pr = set()\n",
    "\n",
    "\n",
    "# Build lists classes_w_pr and classes_are_pr\n",
    "for i in range(classes):\n",
    "    p = pre_reqs[i]\n",
    "    \n",
    "    # class has pre reqs\n",
    "    if len(p) > 0:\n",
    "        classes_w_pr.add(i)\n",
    "    \n",
    "    for j in range(len(p)):\n",
    "        constraint = p[j]\n",
    "        \n",
    "        # add 1 to list for each constraint\n",
    "        for p_class in constraint:\n",
    "            try: # can't find some of the classes\n",
    "                ind = names.tolist().index(p_class)\n",
    "                classes_are_pr.add(ind)\n",
    "            except:\n",
    "                continue\n",
    "\n",
    "classes_w_pr = list(classes_w_pr)\n",
    "classes_w_pr.sort()\n",
    "\n",
    "classes_are_pr = list(classes_are_pr)\n",
    "classes_are_pr.sort()\n",
    "\n",
    "\n",
    "# Making matrix for pre-reqs\n",
    "PR = []\n",
    "\n",
    "\n",
    "for i in classes_w_pr:\n",
    "    \n",
    "    # now p should be non-empty\n",
    "    p = pre_reqs[i]\n",
    "                        \n",
    "    # initialize class_PR. Will be of size len(classes_are_pr) x len(p)\n",
    "    class_PR = []\n",
    "    \n",
    "    # initially class_PR will have one row for each pre-req\n",
    "    for j in range(len(p)):\n",
    "        constraint = p[j]\n",
    "        one_hot = np.zeros(len(classes_are_pr))\n",
    "        \n",
    "        # add 1 to list for each constraint\n",
    "        for p_class in constraint:\n",
    "            try: # can't find some of the classes\n",
    "                ind_by_name = names.tolist().index(p_class)\n",
    "                ind_classes_are_pr = classes_are_pr.index(ind_by_name)\n",
    "                one_hot[ind_classes_are_pr] = 1\n",
    "            except:\n",
    "                continue\n",
    "        class_PR.append(one_hot)\n",
    "                                    \n",
    "    PR.append(np.transpose(np.array(class_PR)))\n",
    "    \n",
    "# sanity check\n",
    "print(sum(PR[0])) # should be 2 for 1801 and 1801A"
   ]
  },
  {
   "cell_type": "code",
   "execution_count": 39,
   "id": "44ede74e-c6ff-431a-b121-c690e1b7e770",
   "metadata": {},
   "outputs": [],
   "source": [
    "# Determining which classes are hasses\n",
    "hass = [1 if (hh[i] == 1 or ha[i] == 1 or hs[i] == 1 or he[i] == 1) else 0 for i in range(classes)]\n",
    "\n",
    "# Making matrix of GIR requirements \n",
    "G = np.column_stack((ha, hs, hh, cih, hass, bio, phys1, phys2, calc1, calc2, chem, rest, lab))\n",
    "G_sat = [1, 1, 1, 2, 8, 1, 1, 1, 1, 1, 1, 12, 12]\n",
    "\n",
    "# Making matrix for fall/spring classes\n",
    "A = np.column_stack((fall, spring))\n",
    "\n",
    "# Make vector indicating whether a semester is a fall (1) or spring (2) semester\n",
    "S = [0 if j % 2 == 0 else 1 for j in range(semesters)]\n",
    "\n",
    "# Get 1801A and 1802A indices\n",
    "calc1A = names.tolist().index(\"18.01A\")\n",
    "calc2A = names.tolist().index(\"18.02A\")\n",
    "\n",
    "# Making matrices for 6-4 requirements\n",
    "# center = [1 if (datac[i] == 1 or mod[i] == 1 or decision[i] == 1 or compute[i] == 1 or human[i] == 1) else 0 for i in range(classes)]\n",
    "aus_cim6_4 = [1 if (aus[i] == 1 or cim_6_4[i] == 1) else 0 for i in range(classes)]\n",
    "aus_cim2 = [1 if (aus[i] == 1 or cim2[i] == 1) else 0 for i in range(classes)]\n",
    "\n",
    "M = np.column_stack((programming, foundation, math2, math3, datac, mod, decision, compute, human, serc, cim_6_4, cim2, aus_cim6_4, aus_cim2))\n",
    "M_sat = [1, 3, 1, 1, 1, 1, 1, 1, 1, 1, 1, 2, 2, 3]\n",
    "\n",
    "EM = eecs #[1 if (eecs[i] == 1 or names[i][:2] == \"18\") else 0 for i in range(classes)]\n",
    "EM = EM-calc1-calc2"
   ]
  },
  {
   "cell_type": "code",
   "execution_count": 112,
   "id": "3ee438ba",
   "metadata": {},
   "outputs": [],
   "source": [
    "# Normalize each array separately\n",
    "min_val_H, max_val_H = np.min(H), np.max(H)\n",
    "min_val_R, max_val_R = np.min(R), np.max(R)\n",
    "\n",
    "normalized_H = (H - min_val_H) / (max_val_H - min_val_H)\n",
    "normalized_R = (R - min_val_R) / (max_val_R - min_val_R)\n",
    "\n",
    "# Adjust scaling factors to make the sum of weights equal\n",
    "H_scaled = normalized_H * (1.0 / (1.0 + (max_val_R - min_val_R) / (max_val_H - min_val_H)))\n",
    "R_scaled = normalized_R * (1.0 / (1.0 + (max_val_H - min_val_H) / (max_val_R - min_val_R)))"
   ]
  },
  {
   "cell_type": "markdown",
   "id": "8ae2fed9-a067-40f7-b5e7-976c847486a8",
   "metadata": {},
   "source": [
    "## Tweakable variables"
   ]
  },
  {
   "cell_type": "code",
   "execution_count": 168,
   "id": "52d3858e-3ebf-4c04-8c76-6f59b575593c",
   "metadata": {},
   "outputs": [],
   "source": [
    "a = 0.0"
   ]
  },
  {
   "cell_type": "markdown",
   "id": "d78ea435-e426-499e-892d-c363ef3d5dc9",
   "metadata": {},
   "source": [
    "## Building the Model"
   ]
  },
  {
   "cell_type": "markdown",
   "id": "44ef17ec-22c2-4b58-b59b-d9e62e0f21bf",
   "metadata": {},
   "source": [
    "### Index references\n",
    "i: class\n",
    "\n",
    "j: semester\n",
    "\n",
    "k: index of GIR requirement\n",
    "\n",
    "l: index of 6-4 requirement"
   ]
  },
  {
   "cell_type": "markdown",
   "id": "78eaef05-1137-4778-8bbd-cf9168cb1239",
   "metadata": {},
   "source": [
    "### Model Definition"
   ]
  },
  {
   "cell_type": "code",
   "execution_count": 169,
   "id": "9d5cc7b9-a413-4ad5-8c9e-b30296d766b7",
   "metadata": {},
   "outputs": [],
   "source": [
    "# Create a Gurobi model\n",
    "model = Model()\n",
    "\n",
    "# Decision variables\n",
    "\n",
    "# Which classes to take\n",
    "X = {}\n",
    "for i in range(classes):\n",
    "    for j in range(semesters):\n",
    "        X[i, j] = model.addVar(vtype=GRB.BINARY, name=f\"X_{i}_{j}\")\n",
    "        \n",
    "# Whether class i counts towards 6-4 constraint l (listed in M)\n",
    "C = {}\n",
    "for i in range(classes):\n",
    "    for l in range(M.shape[1]):\n",
    "        C[i, l] = model.addVar(vtype=GRB.BINARY, name=f\"C_{i}_{l}\")\n",
    "                \n",
    "# Whether class i is an extra EECS math class\n",
    "E = {}\n",
    "for i in range(classes):\n",
    "    E[i] = model.addVar(vtype=GRB.BINARY, name=f\"E_{i}\")\n",
    "                \n",
    "        \n",
    "# Objective\n",
    "model.setObjective(\n",
    "    a * sum(H_scaled[i] * sum(X[i, j] for j in range(semesters)) for i in range(classes))\n",
    "    - (1 - a) * sum(R_scaled[i] * sum(X[i, j] for j in range(semesters)) for i in range(classes)),\n",
    "    GRB.MINIMIZE,\n",
    ")\n",
    "\n",
    "# ---- Variable Constraints ------\n",
    "\n",
    "# Class i must be eecs or math class to count as the extra eecs/math class\n",
    "for i in range(classes):\n",
    "    model.addConstr(E[i] <= EM[i])\n",
    "  \n",
    "# Class i cannot count towards ANY 6-4 constraint (cannot both be 1)\n",
    "for i in range(classes):\n",
    "    for l in range(M.shape[1]):\n",
    "        model.addConstr(E[i] + C[i,l] <= 1)\n",
    "                            \n",
    "# Cannot have C[i,l] = 1 if X[i,j] != 1 for any semester\n",
    "for i in range(classes):\n",
    "    for l in range(M.shape[1]):\n",
    "        model.addConstr(\n",
    "          C[i,l] <= sum(X[i,j] for j in range(semesters))            \n",
    "        )\n",
    "        \n",
    "#Cannot have E[i] = 1 if X[i,j] != 1 for any semester * added\n",
    "for i in range(classes):\n",
    "    model.addConstr(\n",
    "          E[i] <= sum(X[i,j] for j in range(semesters))            \n",
    "        )\n",
    "\n",
    "# Cannot have C[i,l] = 1 if M[i,l] != 1\n",
    "for i in range(classes):\n",
    "    for l in range(M.shape[1]):\n",
    "        model.addConstr(\n",
    "          C[i,l] <= M[i,l]           \n",
    "        )\n",
    "                                    \n",
    "# ---- General Constraints ------\n",
    "                                    \n",
    "# Cannot take a class more than once\n",
    "for i in range(classes):\n",
    "    model.addConstr(sum(X[i, j] for j in range(semesters)) <= 1, name=f\"num_times_{i}\")\n",
    "\n",
    "# Maximum and minimum number of units per semester\n",
    "for j in range(semesters):\n",
    "    model.addConstr(\n",
    "        sum(U[i] * X[i, j] for i in range(classes)) <= 60, name=f\"max_units_{j}\"\n",
    "    )\n",
    "    model.addConstr(\n",
    "        sum(U[i] * X[i, j] for i in range(classes)) >= 36, name=f\"min_units_{j}\"\n",
    "    )\n",
    "\n",
    "# Fall classes taken in fall, spring classes taken in spring\n",
    "for i in range(classes):\n",
    "    for j in range(semesters):\n",
    "        model.addConstr(X[i, j] - A[i, S[j]] <= 0, name=f\"fall_spring_{i}_{j}\")\n",
    "\n",
    "# Pre-reqs\n",
    "for i in range(len(classes_w_pr)):\n",
    "    for j in range(semesters):\n",
    "        for k in range(PR[i].shape[1]):\n",
    "            model.addConstr(\n",
    "                X[classes_w_pr[i], j] * sum(sum(X[classes_are_pr[z], w] for w in range(0,j)) * PR[i][z][k] for z in range(len(classes_are_pr)))\n",
    "                >= X[classes_w_pr[i], j] * 1,\n",
    "                name=f\"pre_req_constraint_{i}_{j}_{k}\",\n",
    "            )\n",
    "\n",
    "\n",
    "# ---- GIR Constraints ------\n",
    "\n",
    "# GIR requirements by classes\n",
    "for k in range(11):\n",
    "    model.addConstr(\n",
    "        sum(G[i, k] * X[i, j] for j in range(semesters) for i in range(classes)) >= G_sat[k],\n",
    "        name=f\"gir_classes_{k}\",\n",
    "    )\n",
    "\n",
    "# GIR requirements by units\n",
    "for k in range(11, 13):\n",
    "    model.addConstr(\n",
    "        sum(G[i, k] * X[i, j] * U[i] for j in range(semesters) for i in range(classes)) >= G_sat[k],\n",
    "        name=f\"gir_units_{k}\",\n",
    "    )\n",
    "\n",
    "\n",
    "# at least 180 units beyond GIR\n",
    "model.addConstr(\n",
    "    sum(\n",
    "        sum(U[i] * X[i, j] for j in range(semesters))\n",
    "        - sum(U[i] * X[i, j] for j in range(semesters))\n",
    "        * (sum(G[i, k] for k in range(G.shape[1])) >= 1)\n",
    "        for i in range(classes)\n",
    "    )\n",
    "    >= 180,\n",
    "    name=\"units_beyond_GIR\",\n",
    ")\n",
    "\n",
    "# Takes 1801A and 1802A in the same semester\n",
    "for j in range(semesters):\n",
    "    model.addConstr(X[calc1A, j] == X[calc2A, j], name=f\"calcA_sameas_{j}\")\n",
    "\n",
    "# ---- 6-4 Constraints ------\n",
    "\n",
    "# General requirements satisfied\n",
    "for l in range(M.shape[1]):\n",
    "    model.addConstr(\n",
    "        sum(M[i, l]* C[i,l] * sum(X[i, j] for j in range(semesters)) for i in range(classes)) == M_sat[l],\n",
    "        name=f\"general_64_{l}\",\n",
    "    )\n",
    "    \n",
    "#Different class for each center\n",
    "for i in range(classes):\n",
    "    model.addConstr(\n",
    "        gp.quicksum([C[i,l] for l in range(4,9)]+[C[i,11]]) <= 1, name=f\"one_center_{i}\",\n",
    "    )\n",
    "\n",
    "# One additional math/eecs course\n",
    "model.addConstr(\n",
    "    sum(E[i] for i in range(classes))== 1,\n",
    "    name=f\"math_eecs_{l}\",\n",
    ")\n",
    "\n",
    "\n",
    "# ------ Hard Coded Constraints ------\n",
    "\n",
    "# Can't take 18.06 and 18.C06\n",
    "model.addConstr(\n",
    "    sum(X[names.to_list().index('18.06'), j] + X[names.to_list().index('18.C06'), j] for j in range(semesters)) <= 1\n",
    ")\n",
    "\n",
    "\n",
    "# One hass class per semester\n",
    "for j in range(semesters):\n",
    "    model.addConstr(\n",
    "    sum(hass[i]*X[i,j] for i in range(classes)) == 1\n",
    "    )\n",
    "\n",
    "\n",
    "#normalize ratings and hours\n"
   ]
  },
  {
   "cell_type": "code",
   "execution_count": 163,
   "id": "1f9dd318",
   "metadata": {},
   "outputs": [],
   "source": [
    "model.write(\"model.lp\")"
   ]
  },
  {
   "cell_type": "code",
   "execution_count": 170,
   "id": "83703a5b-bd4d-4924-8e0c-d9a1febf3f2e",
   "metadata": {
    "scrolled": false
   },
   "outputs": [
    {
     "name": "stdout",
     "output_type": "stream",
     "text": [
      "Gurobi Optimizer version 9.5.2 build v9.5.2rc0 (mac64[x86])\n",
      "Thread count: 6 physical cores, 12 logical processors, using up to 12 threads\n",
      "Optimize a model with 66301 rows, 27738 columns and 282023 nonzeros\n",
      "Model fingerprint: 0xafa80512\n",
      "Model has 7917 quadratic constraints\n",
      "Variable types: 0 continuous, 27738 integer (27738 binary)\n",
      "Coefficient statistics:\n",
      "  Matrix range     [1e+00, 2e+01]\n",
      "  QMatrix range    [1e+00, 1e+00]\n",
      "  QLMatrix range   [1e+00, 1e+00]\n",
      "  Objective range  [4e-02, 1e-01]\n",
      "  Bounds range     [1e+00, 1e+00]\n",
      "  RHS range        [1e+00, 2e+02]\n",
      "  QRHS range       [1e+00, 3e+00]\n",
      "Presolve removed 62567 rows and 23233 columns\n",
      "Presolve time: 0.27s\n",
      "Presolved: 4479 rows, 4749 columns, 34218 nonzeros\n",
      "Variable types: 0 continuous, 4749 integer (4749 binary)\n",
      "\n",
      "Root relaxation: objective -5.700032e+00, 5471 iterations, 0.18 seconds (0.23 work units)\n",
      "\n",
      "    Nodes    |    Current Node    |     Objective Bounds      |     Work\n",
      " Expl Unexpl |  Obj  Depth IntInf | Incumbent    BestBd   Gap | It/Node Time\n",
      "\n",
      "     0     0   -5.61904    0   39          -   -5.61904      -     -    0s\n",
      "H    0     0                      -5.3536046   -5.61904  4.96%     -    0s\n",
      "H    0     0                      -5.3840779   -5.61904  4.36%     -    0s\n",
      "H    0     0                      -5.5257393   -5.61904  1.69%     -    0s\n",
      "H    0     0                      -5.5656398   -5.61904  0.96%     -    0s\n",
      "     0     0   -5.57718    0   17   -5.56564   -5.57718  0.21%     -    0s\n",
      "     0     0   -5.57718    0    2   -5.56564   -5.57718  0.21%     -    0s\n",
      "     0     0   -5.57718    0    4   -5.56564   -5.57718  0.21%     -    0s\n",
      "H    0     0                      -5.5771783   -5.57718  0.00%     -    0s\n",
      "     0     0          -    0        -5.57718   -5.57718  0.00%     -    0s\n",
      "\n",
      "Cutting planes:\n",
      "  Cover: 5\n",
      "  Mod-K: 1\n",
      "  RLT: 4\n",
      "\n",
      "Explored 1 nodes (6848 simplex iterations) in 0.99 seconds (0.85 work units)\n",
      "Thread count was 12 (of 12 available processors)\n",
      "\n",
      "Solution count 7: -5.57718 -5.56564 -5.55059 ... -5.3536\n",
      "No other solutions better than -5.57718\n",
      "\n",
      "Optimal solution found (tolerance 1.00e-04)\n",
      "Best objective -5.577178260192e+00, best bound -5.577178260192e+00, gap 0.0000%\n"
     ]
    }
   ],
   "source": [
    "model.optimize()"
   ]
  },
  {
   "cell_type": "code",
   "execution_count": 171,
   "id": "a76a280c-5cd5-4042-8ec7-5898095d65b2",
   "metadata": {},
   "outputs": [
    {
     "data": {
      "text/plain": [
       "-5.577178260192022"
      ]
     },
     "execution_count": 171,
     "metadata": {},
     "output_type": "execute_result"
    }
   ],
   "source": [
    "model.objVal"
   ]
  },
  {
   "cell_type": "code",
   "execution_count": 172,
   "id": "d439ca70-5e52-42fc-ae9f-283b7e2dad41",
   "metadata": {},
   "outputs": [
    {
     "name": "stdout",
     "output_type": "stream",
     "text": [
      "semester 1 :  ['1.057', '15.0111', '15.305', '20.005', '3.983', '6.100A', '6.UAT']\n",
      "semester 2 :  ['11.139', '15.0251', '15.9001', '18.01', '6.1010', '9.55']\n",
      "semester 3 :  ['15.874', '18.022', '21M.605', '21M.809', '6.9280', '8.01L']\n",
      "semester 4 :  ['1.016', '18.03', '2.00B', '21M.490', '6.4200', '8.282']\n",
      "semester 5 :  ['18.C06', '6.1200', '6.4590', '6.8371', '7.015']\n",
      "semester 6 :  ['12.402', '2.00A', '20.260', '21M.480', '6.3700', '8.022']\n",
      "semester 7 :  ['12.385', '12.387', '2.110', '3.096', '5.112', '6.1210']\n",
      "semester 8 :  ['21W.775', '6.1220', '6.3000', '6.3100', '6.3720']\n",
      "semester 1  units:  60.0\n",
      "semester 2  units:  60.0\n",
      "semester 3  units:  60.0\n",
      "semester 4  units:  60.0\n",
      "semester 5  units:  60.0\n",
      "semester 6  units:  60.0\n",
      "semester 7  units:  60.0\n",
      "semester 8  units:  60.0\n"
     ]
    }
   ],
   "source": [
    "for j in range(semesters):\n",
    "    classes_taken = []\n",
    "    for i in range(classes):\n",
    "        val = X[i, j].X\n",
    "        if np.isclose(val, 1.0, rtol=1e-05):\n",
    "            classes_taken.append(names[i])\n",
    "    print(\"semester\", j+1, \": \", classes_taken)\n",
    "\n",
    "for j in range(semesters):\n",
    "    units = 0\n",
    "    for i in range(classes):\n",
    "        val = X[i, j].X\n",
    "        units += U[i]*val\n",
    "    print(\"semester\", j+1, \" units: \", units)\n",
    "\n",
    "# index_of_hass = names.tolist().index('21.THT')\n",
    "# print(U[index_of_hass])"
   ]
  },
  {
   "cell_type": "code",
   "execution_count": 174,
   "id": "516519da",
   "metadata": {
    "scrolled": true
   },
   "outputs": [
    {
     "name": "stdout",
     "output_type": "stream",
     "text": [
      "programming: 6.100A\n",
      "foundation: 6.1010, 6.1200, 6.1210\n",
      "math2: 18.C06\n",
      "math3: 6.3700\n",
      "data_centric: 6.3720\n",
      "model_centric: 6.3000\n",
      "decision_centric: 6.3100\n",
      "compute_centric: 6.1220\n",
      "human_centric: 6.4590\n",
      "serc: 6.4590\n",
      "cim_64: 6.4200\n",
      "cim2: 6.4200, 6.UAT\n",
      "aus_cim6_4: 6.4200, 6.8371\n",
      "aus_cim2: 6.4200, 6.4590, 6.8371\n",
      "eecs: 18.03\n",
      "hasses: 11.139, 21M.480, 21M.490, 21M.605, 21W.775, 3.096, 3.983, 6.4590\n"
     ]
    }
   ],
   "source": [
    "# See what classes satisfy what 6-4 constraints\n",
    "constraints_64 = ['programming', 'foundation', 'math2', 'math3', \n",
    "                  'data_centric', 'model_centric', 'decision_centric', 'compute_centric', 'human_centric', \n",
    "                  'serc', 'cim_64', 'cim2', 'aus_cim6_4', 'aus_cim2']\n",
    "\n",
    "for j, constraint in enumerate(constraints_64):\n",
    "    courses= []\n",
    "    for i in range(len(M)):\n",
    "        val = C[i,j].X\n",
    "        if np.isclose(val, 1.0, rtol=1e-05):\n",
    "            np.isclose(val, 1.0, rtol=1e-05)\n",
    "            courses.append(data.iloc[i]['no'])\n",
    "    print(f'{constraint}: {\", \".join(courses)}')\n",
    "    \n",
    "for i in range(len(M)):\n",
    "    val = E[i].X\n",
    "    if np.isclose(val, 1.0, rtol=1e-05):\n",
    "        print(f'eecs: {names[i]}')\n",
    "\n",
    "hasses = []\n",
    "for i in range(classes):\n",
    "    for j in range(semesters):\n",
    "        val = X[i,j].X\n",
    "        if np.isclose(val, 1.0, rtol=1e-05):\n",
    "            if hass[i]: hasses.append(data.iloc[i]['no'])\n",
    "print(f'hasses: {\", \".join(hasses)}')\n",
    "    "
   ]
  },
  {
   "cell_type": "code",
   "execution_count": 149,
   "id": "3430676a",
   "metadata": {},
   "outputs": [],
   "source": [
    "# Generate df of average hours and ratings and total units per semester\n",
    "hours_by_sem = [0 for j in range(semesters)]\n",
    "ratings_by_sem = [0 for j in range(semesters)]\n",
    "units_by_sem = [0 for j in range(semesters)]\n",
    "\n",
    "for j in range(semesters):\n",
    "    num_taken = 0\n",
    "    for i in range(classes):\n",
    "        val = X[i, j].X\n",
    "        if np.isclose(val, 1.0, rtol=1e-05):\n",
    "            num_taken += 1\n",
    "            hours_by_sem[j] += H[i]*1\n",
    "            units_by_sem[j] += U[i]*1\n",
    "            ratings_by_sem[j] += R[i]*1\n",
    "        \n",
    "    hours_by_sem[j] = hours_by_sem[j]/num_taken\n",
    "    ratings_by_sem[j] = ratings_by_sem[j]/num_taken\n",
    "        \n",
    "# Create a DataFrame\n",
    "results = {\n",
    "    'Semester': list(range(1, semesters + 1)),\n",
    "    'Hours': hours_by_sem,\n",
    "    'Ratings': ratings_by_sem,\n",
    "    'Units': units_by_sem\n",
    "}\n",
    "\n",
    "results_df1 = pd.DataFrame(results)"
   ]
  },
  {
   "cell_type": "code",
   "execution_count": 175,
   "id": "f2b19664",
   "metadata": {},
   "outputs": [
    {
     "data": {
      "image/png": "[encoded data removed]",
      "text/plain": [
       "<Figure size 432x288 with 1 Axes>"
      ]
     },
     "metadata": {
      "needs_background": "light"
     },
     "output_type": "display_data"
    }
   ],
   "source": [
    "# Plot the values\n",
    "plt.plot(results_df0['Semester'], results_df0['Hours'], label=\"alpha=0.0\")\n",
    "plt.plot(results_df5['Semester'], results_df5['Hours'], label=\"alpha=0.5\")\n",
    "plt.plot(results_df1['Semester'], results_df1['Hours'], label=\"alpha=1.0\")\n",
    "\n",
    "# Add labels and title\n",
    "plt.xlabel('Semester')\n",
    "plt.ylabel('Average hrs')\n",
    "plt.title('Average number of hours per semester')\n",
    "plt.legend()\n",
    "\n",
    "# Show the plot\n",
    "plt.show()"
   ]
  },
  {
   "cell_type": "code",
   "execution_count": 176,
   "id": "b8894890",
   "metadata": {},
   "outputs": [
    {
     "data": {
      "image/png": "[encoded data removed]",
      "text/plain": [
       "<Figure size 432x288 with 1 Axes>"
      ]
     },
     "metadata": {
      "needs_background": "light"
     },
     "output_type": "display_data"
    }
   ],
   "source": [
    "# Plot the values\n",
    "plt.plot(results_df0['Semester'], results_df0['Ratings'], label=\"alpha=0.0\")\n",
    "plt.plot(results_df5['Semester'], results_df5['Ratings'], label=\"alpha=0.5\")\n",
    "plt.plot(results_df1['Semester'], results_df1['Ratings'], label=\"alpha=1.0\")\n",
    "\n",
    "# Add labels and title\n",
    "plt.xlabel('Semester')\n",
    "plt.ylabel('Average rating')\n",
    "plt.title('Average rating per semester')\n",
    "plt.legend()\n",
    "\n",
    "# Show the plot\n",
    "plt.show()"
   ]
  },
  {
   "cell_type": "code",
   "execution_count": 177,
   "id": "71485f1f",
   "metadata": {},
   "outputs": [
    {
     "data": {
      "image/png": "[encoded data removed]",
      "text/plain": [
       "<Figure size 432x288 with 1 Axes>"
      ]
     },
     "metadata": {
      "needs_background": "light"
     },
     "output_type": "display_data"
    }
   ],
   "source": [
    "# Plot the values\n",
    "plt.plot(results_df0['Semester'], results_df0['Units'], label=\"alpha=0.0\")\n",
    "plt.plot(results_df5['Semester'], results_df5['Units'], label=\"alpha=0.5\")\n",
    "plt.plot(results_df1['Semester'], results_df1['Units'], label=\"alpha=1.0\")\n",
    "\n",
    "\n",
    "# Add labels and title\n",
    "plt.xlabel('Semester')\n",
    "plt.ylabel('Number of units')\n",
    "plt.title('Number of units per semester')\n",
    "plt.legend()\n",
    "\n",
    "# Show the plot\n",
    "plt.show()"
   ]
  },
  {
   "cell_type": "code",
   "execution_count": null,
   "id": "edf38ba6",
   "metadata": {},
   "outputs": [],
   "source": []
  }
 ],
 "metadata": {
  "kernelspec": {
   "display_name": "Python 3",
   "language": "python",
   "name": "python3"
  },
  "language_info": {
   "codemirror_mode": {
    "name": "ipython",
    "version": 3
   },
   "file_extension": ".py",
   "mimetype": "text/x-python",
   "name": "python",
   "nbconvert_exporter": "python",
   "pygments_lexer": "ipython3",
   "version": "3.9.1"
  }
 },
 "nbformat": 4,
 "nbformat_minor": 5
}
