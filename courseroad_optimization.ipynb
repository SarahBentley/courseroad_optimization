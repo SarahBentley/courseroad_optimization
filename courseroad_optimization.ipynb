{
 "cells": [
  {
   "cell_type": "markdown",
   "id": "387eb458-ff17-4adb-a170-ecf8dea9cb8f",
   "metadata": {},
   "source": [
    "# Courseroad Optimization"
   ]
  },
  {
   "cell_type": "markdown",
   "id": "a01da3ff-9e00-467a-b85e-ba31508175ef",
   "metadata": {},
   "source": [
    "## Installing Packages"
   ]
  },
  {
   "cell_type": "code",
   "execution_count": 1,
   "id": "9a8eae44-5561-4ae3-8365-a5fc386ef36f",
   "metadata": {},
   "outputs": [
    {
     "name": "stderr",
     "output_type": "stream",
     "text": [
      "\u001b[32m\u001b[1m    Updating\u001b[22m\u001b[39m registry at `~/.julia/registries/General.toml`\n",
      "\u001b[32m\u001b[1m   Resolving\u001b[22m\u001b[39m package versions...\n",
      "\u001b[32m\u001b[1m  No Changes\u001b[22m\u001b[39m to `~/.julia/environments/v1.9/Project.toml`\n",
      "\u001b[32m\u001b[1m  No Changes\u001b[22m\u001b[39m to `~/.julia/environments/v1.9/Manifest.toml`\n",
      "\u001b[32m\u001b[1m   Resolving\u001b[22m\u001b[39m package versions...\n",
      "\u001b[32m\u001b[1m  No Changes\u001b[22m\u001b[39m to `~/.julia/environments/v1.9/Project.toml`\n",
      "\u001b[32m\u001b[1m  No Changes\u001b[22m\u001b[39m to `~/.julia/environments/v1.9/Manifest.toml`\n",
      "\u001b[32m\u001b[1m   Resolving\u001b[22m\u001b[39m package versions...\n",
      "\u001b[32m\u001b[1m  No Changes\u001b[22m\u001b[39m to `~/.julia/environments/v1.9/Project.toml`\n",
      "\u001b[32m\u001b[1m  No Changes\u001b[22m\u001b[39m to `~/.julia/environments/v1.9/Manifest.toml`\n",
      "\u001b[32m\u001b[1m   Resolving\u001b[22m\u001b[39m package versions...\n",
      "\u001b[32m\u001b[1m  No Changes\u001b[22m\u001b[39m to `~/.julia/environments/v1.9/Project.toml`\n",
      "\u001b[32m\u001b[1m  No Changes\u001b[22m\u001b[39m to `~/.julia/environments/v1.9/Manifest.toml`\n",
      "\u001b[32m\u001b[1m   Resolving\u001b[22m\u001b[39m package versions...\n",
      "\u001b[32m\u001b[1m  No Changes\u001b[22m\u001b[39m to `~/.julia/environments/v1.9/Project.toml`\n",
      "\u001b[32m\u001b[1m  No Changes\u001b[22m\u001b[39m to `~/.julia/environments/v1.9/Manifest.toml`\n"
     ]
    }
   ],
   "source": [
    "# Install packages\n",
    "using Pkg\n",
    "Pkg.add(\"CSV\")\n",
    "Pkg.add(\"DataFrames\")\n",
    "Pkg.add(\"JuMP\")\n",
    "Pkg.add(\"Gurobi\")\n",
    "Pkg.add(\"Plots\")"
   ]
  },
  {
   "cell_type": "code",
   "execution_count": 2,
   "id": "04569e45-2dbb-434d-a0a1-956e4c53e56d",
   "metadata": {},
   "outputs": [],
   "source": [
    "using CSV, DataFrames, JuMP, Gurobi, Plots"
   ]
  },
  {
   "cell_type": "markdown",
   "id": "4c03d2b8-0bb0-4600-a8c9-e61b9f8bfd6a",
   "metadata": {},
   "source": [
    "## Importing and Setting up Data"
   ]
  },
  {
   "cell_type": "code",
   "execution_count": 3,
   "id": "f6bce596-0f88-4d46-ac63-1d1d360628be",
   "metadata": {},
   "outputs": [
    {
     "data": {
      "text/html": [
       "<div><div style = \"float: left;\"><span>3535×29 DataFrame</span></div><div style = \"float: right;\"><span style = \"font-style: italic;\">3510 rows omitted</span></div><div style = \"clear: both;\"></div></div><div class = \"data-frame\" style = \"overflow-x: scroll;\"><table class = \"data-frame\" style = \"margin-bottom: 6px;\"><thead><tr class = \"header\"><th class = \"rowNumber\" style = \"font-weight: bold; text-align: right;\">Row</th><th style = \"text-align: left;\">no</th><th style = \"text-align: left;\">co</th><th style = \"text-align: left;\">cl</th><th style = \"text-align: left;\">hh</th><th style = \"text-align: left;\">ha</th><th style = \"text-align: left;\">hs</th><th style = \"text-align: left;\">he</th><th style = \"text-align: left;\">ci</th><th style = \"text-align: left;\">cw</th><th style = \"text-align: left;\">re</th><th style = \"text-align: left;\">la</th><th style = \"text-align: left;\">u1</th><th style = \"text-align: left;\">u2</th><th style = \"text-align: left;\">u3</th><th style = \"text-align: left;\">le</th><th style = \"text-align: left;\">sa</th><th style = \"text-align: left;\">mw</th><th style = \"text-align: left;\">pr</th><th style = \"text-align: left;\">on</th><th style = \"text-align: left;\">ra</th><th style = \"text-align: left;\">h</th><th style = \"text-align: left;\">si</th><th style = \"text-align: left;\">nx</th><th style = \"text-align: left;\">rp</th><th style = \"text-align: left;\">f</th><th style = \"text-align: left;\">hf</th><th style = \"text-align: left;\">vu</th><th style = \"text-align: left;\">fa</th><th style = \"text-align: left;\">sp</th></tr><tr class = \"subheader headerLastRow\"><th class = \"rowNumber\" style = \"font-weight: bold; text-align: right;\"></th><th title = \"String7\" style = \"text-align: left;\">String7</th><th title = \"String3\" style = \"text-align: left;\">String3</th><th title = \"String7\" style = \"text-align: left;\">String7</th><th title = \"Int64\" style = \"text-align: left;\">Int64</th><th title = \"Int64\" style = \"text-align: left;\">Int64</th><th title = \"Int64\" style = \"text-align: left;\">Int64</th><th title = \"Int64\" style = \"text-align: left;\">Int64</th><th title = \"Int64\" style = \"text-align: left;\">Int64</th><th title = \"Int64\" style = \"text-align: left;\">Int64</th><th title = \"Int64\" style = \"text-align: left;\">Int64</th><th title = \"Int64\" style = \"text-align: left;\">Int64</th><th title = \"Int64\" style = \"text-align: left;\">Int64</th><th title = \"Int64\" style = \"text-align: left;\">Int64</th><th title = \"Int64\" style = \"text-align: left;\">Int64</th><th title = \"String1\" style = \"text-align: left;\">String1</th><th title = \"String\" style = \"text-align: left;\">String</th><th title = \"String\" style = \"text-align: left;\">String</th><th title = \"String\" style = \"text-align: left;\">String</th><th title = \"Union{Missing, String7}\" style = \"text-align: left;\">String7?</th><th title = \"Float64\" style = \"text-align: left;\">Float64</th><th title = \"Float64\" style = \"text-align: left;\">Float64</th><th title = \"Float64\" style = \"text-align: left;\">Float64</th><th title = \"Int64\" style = \"text-align: left;\">Int64</th><th title = \"Int64\" style = \"text-align: left;\">Int64</th><th title = \"Int64\" style = \"text-align: left;\">Int64</th><th title = \"Int64\" style = \"text-align: left;\">Int64</th><th title = \"Float64\" style = \"text-align: left;\">Float64</th><th title = \"Int64\" style = \"text-align: left;\">Int64</th><th title = \"Int64\" style = \"text-align: left;\">Int64</th></tr></thead><tbody><tr><td class = \"rowNumber\" style = \"font-weight: bold; text-align: right;\">1</td><td style = \"text-align: left;\">1.00</td><td style = \"text-align: left;\">1</td><td style = \"text-align: left;\">00</td><td style = \"text-align: right;\">0</td><td style = \"text-align: right;\">0</td><td style = \"text-align: right;\">0</td><td style = \"text-align: right;\">0</td><td style = \"text-align: right;\">0</td><td style = \"text-align: right;\">0</td><td style = \"text-align: right;\">1</td><td style = \"text-align: right;\">0</td><td style = \"text-align: right;\">3</td><td style = \"text-align: right;\">2</td><td style = \"text-align: right;\">7</td><td style = \"text-align: left;\">U</td><td style = \"text-align: left;\">[&apos;&apos;]</td><td style = \"text-align: left;\">[&apos;1.001&apos;]</td><td style = \"text-align: left;\">[[&apos;18.01&apos;, &apos;18.01A&apos;]]</td><td style = \"font-style: italic; text-align: left;\">missing</td><td style = \"text-align: right;\">5.57</td><td style = \"text-align: right;\">13.33</td><td style = \"text-align: right;\">32.75</td><td style = \"text-align: right;\">0</td><td style = \"text-align: right;\">0</td><td style = \"text-align: right;\">0</td><td style = \"text-align: right;\">0</td><td style = \"text-align: right;\">12.0</td><td style = \"text-align: right;\">0</td><td style = \"text-align: right;\">1</td></tr><tr><td class = \"rowNumber\" style = \"font-weight: bold; text-align: right;\">2</td><td style = \"text-align: left;\">1.000</td><td style = \"text-align: left;\">1</td><td style = \"text-align: left;\">000</td><td style = \"text-align: right;\">0</td><td style = \"text-align: right;\">0</td><td style = \"text-align: right;\">0</td><td style = \"text-align: right;\">0</td><td style = \"text-align: right;\">0</td><td style = \"text-align: right;\">0</td><td style = \"text-align: right;\">1</td><td style = \"text-align: right;\">0</td><td style = \"text-align: right;\">3</td><td style = \"text-align: right;\">2</td><td style = \"text-align: right;\">7</td><td style = \"text-align: left;\">U</td><td style = \"text-align: left;\">[&apos;&apos;]</td><td style = \"text-align: left;\">[&apos;&apos;]</td><td style = \"text-align: left;\">[[&apos;18.03&apos;]]</td><td style = \"font-style: italic; text-align: left;\">missing</td><td style = \"text-align: right;\">5.7</td><td style = \"text-align: right;\">9.6</td><td style = \"text-align: right;\">13.3</td><td style = \"text-align: right;\">0</td><td style = \"text-align: right;\">0</td><td style = \"text-align: right;\">1</td><td style = \"text-align: right;\">0</td><td style = \"text-align: right;\">12.0</td><td style = \"text-align: right;\">1</td><td style = \"text-align: right;\">0</td></tr><tr><td class = \"rowNumber\" style = \"font-weight: bold; text-align: right;\">3</td><td style = \"text-align: left;\">1.001</td><td style = \"text-align: left;\">1</td><td style = \"text-align: left;\">001</td><td style = \"text-align: right;\">0</td><td style = \"text-align: right;\">0</td><td style = \"text-align: right;\">0</td><td style = \"text-align: right;\">0</td><td style = \"text-align: right;\">0</td><td style = \"text-align: right;\">0</td><td style = \"text-align: right;\">0</td><td style = \"text-align: right;\">0</td><td style = \"text-align: right;\">3</td><td style = \"text-align: right;\">2</td><td style = \"text-align: right;\">7</td><td style = \"text-align: left;\">G</td><td style = \"text-align: left;\">[&apos;&apos;]</td><td style = \"text-align: left;\">[&apos;1.00&apos;]</td><td style = \"text-align: left;\">[[&apos;18.01&apos;, &apos;18.01A&apos;]]</td><td style = \"font-style: italic; text-align: left;\">missing</td><td style = \"text-align: right;\">5.57</td><td style = \"text-align: right;\">13.33</td><td style = \"text-align: right;\">32.75</td><td style = \"text-align: right;\">0</td><td style = \"text-align: right;\">0</td><td style = \"text-align: right;\">0</td><td style = \"text-align: right;\">0</td><td style = \"text-align: right;\">12.0</td><td style = \"text-align: right;\">0</td><td style = \"text-align: right;\">1</td></tr><tr><td class = \"rowNumber\" style = \"font-weight: bold; text-align: right;\">4</td><td style = \"text-align: left;\">1.005</td><td style = \"text-align: left;\">1</td><td style = \"text-align: left;\">005</td><td style = \"text-align: right;\">0</td><td style = \"text-align: right;\">0</td><td style = \"text-align: right;\">0</td><td style = \"text-align: right;\">0</td><td style = \"text-align: right;\">0</td><td style = \"text-align: right;\">0</td><td style = \"text-align: right;\">0</td><td style = \"text-align: right;\">0</td><td style = \"text-align: right;\">1</td><td style = \"text-align: right;\">0</td><td style = \"text-align: right;\">2</td><td style = \"text-align: left;\">U</td><td style = \"text-align: left;\">[&apos;&apos;]</td><td style = \"text-align: left;\">[&apos;&apos;]</td><td style = \"text-align: left;\">[]</td><td style = \"font-style: italic; text-align: left;\">missing</td><td style = \"text-align: right;\">6.1</td><td style = \"text-align: right;\">2.7</td><td style = \"text-align: right;\">19.0</td><td style = \"text-align: right;\">0</td><td style = \"text-align: right;\">0</td><td style = \"text-align: right;\">0</td><td style = \"text-align: right;\">0</td><td style = \"text-align: right;\">3.0</td><td style = \"text-align: right;\">1</td><td style = \"text-align: right;\">0</td></tr><tr><td class = \"rowNumber\" style = \"font-weight: bold; text-align: right;\">5</td><td style = \"text-align: left;\">1.008</td><td style = \"text-align: left;\">1</td><td style = \"text-align: left;\">008</td><td style = \"text-align: right;\">0</td><td style = \"text-align: right;\">0</td><td style = \"text-align: right;\">0</td><td style = \"text-align: right;\">0</td><td style = \"text-align: right;\">0</td><td style = \"text-align: right;\">0</td><td style = \"text-align: right;\">0</td><td style = \"text-align: right;\">0</td><td style = \"text-align: right;\">1</td><td style = \"text-align: right;\">1</td><td style = \"text-align: right;\">1</td><td style = \"text-align: left;\">U</td><td style = \"text-align: left;\">[&apos;&apos;]</td><td style = \"text-align: left;\">[&apos;&apos;]</td><td style = \"text-align: left;\">[]</td><td style = \"font-style: italic; text-align: left;\">missing</td><td style = \"text-align: right;\">6.5</td><td style = \"text-align: right;\">2.4</td><td style = \"text-align: right;\">13.0</td><td style = \"text-align: right;\">0</td><td style = \"text-align: right;\">0</td><td style = \"text-align: right;\">0</td><td style = \"text-align: right;\">0</td><td style = \"text-align: right;\">3.0</td><td style = \"text-align: right;\">1</td><td style = \"text-align: right;\">0</td></tr><tr><td class = \"rowNumber\" style = \"font-weight: bold; text-align: right;\">6</td><td style = \"text-align: left;\">1.009</td><td style = \"text-align: left;\">1</td><td style = \"text-align: left;\">009</td><td style = \"text-align: right;\">0</td><td style = \"text-align: right;\">0</td><td style = \"text-align: right;\">0</td><td style = \"text-align: right;\">0</td><td style = \"text-align: right;\">0</td><td style = \"text-align: right;\">0</td><td style = \"text-align: right;\">0</td><td style = \"text-align: right;\">0</td><td style = \"text-align: right;\">1</td><td style = \"text-align: right;\">0</td><td style = \"text-align: right;\">2</td><td style = \"text-align: left;\">U</td><td style = \"text-align: left;\">[&apos;&apos;]</td><td style = \"text-align: left;\">[&apos;&apos;]</td><td style = \"text-align: left;\">[]</td><td style = \"font-style: italic; text-align: left;\">missing</td><td style = \"text-align: right;\">5.7</td><td style = \"text-align: right;\">2.8</td><td style = \"text-align: right;\">27.0</td><td style = \"text-align: right;\">0</td><td style = \"text-align: right;\">0</td><td style = \"text-align: right;\">0</td><td style = \"text-align: right;\">0</td><td style = \"text-align: right;\">3.0</td><td style = \"text-align: right;\">1</td><td style = \"text-align: right;\">0</td></tr><tr><td class = \"rowNumber\" style = \"font-weight: bold; text-align: right;\">7</td><td style = \"text-align: left;\">1.010</td><td style = \"text-align: left;\">1</td><td style = \"text-align: left;\">010</td><td style = \"text-align: right;\">0</td><td style = \"text-align: right;\">0</td><td style = \"text-align: right;\">0</td><td style = \"text-align: right;\">0</td><td style = \"text-align: right;\">0</td><td style = \"text-align: right;\">0</td><td style = \"text-align: right;\">0</td><td style = \"text-align: right;\">0</td><td style = \"text-align: right;\">5</td><td style = \"text-align: right;\">0</td><td style = \"text-align: right;\">7</td><td style = \"text-align: left;\">U</td><td style = \"text-align: left;\">[&apos;&apos;]</td><td style = \"text-align: left;\">[&apos;&apos;]</td><td style = \"text-align: left;\">[[&apos;18.02&apos;, &apos;18.02A&apos;, &apos;18.022&apos;]]</td><td style = \"font-style: italic; text-align: left;\">missing</td><td style = \"text-align: right;\">5.4</td><td style = \"text-align: right;\">8.8</td><td style = \"text-align: right;\">21.0</td><td style = \"text-align: right;\">0</td><td style = \"text-align: right;\">0</td><td style = \"text-align: right;\">0</td><td style = \"text-align: right;\">0</td><td style = \"text-align: right;\">12.0</td><td style = \"text-align: right;\">1</td><td style = \"text-align: right;\">0</td></tr><tr><td class = \"rowNumber\" style = \"font-weight: bold; text-align: right;\">8</td><td style = \"text-align: left;\">1.013</td><td style = \"text-align: left;\">1</td><td style = \"text-align: left;\">013</td><td style = \"text-align: right;\">0</td><td style = \"text-align: right;\">0</td><td style = \"text-align: right;\">0</td><td style = \"text-align: right;\">0</td><td style = \"text-align: right;\">0</td><td style = \"text-align: right;\">0</td><td style = \"text-align: right;\">0</td><td style = \"text-align: right;\">0</td><td style = \"text-align: right;\">1</td><td style = \"text-align: right;\">3</td><td style = \"text-align: right;\">2</td><td style = \"text-align: left;\">U</td><td style = \"text-align: left;\">[&apos;&apos;]</td><td style = \"text-align: left;\">[&apos;&apos;]</td><td style = \"text-align: left;\">[]</td><td style = \"font-style: italic; text-align: left;\">missing</td><td style = \"text-align: right;\">3.52</td><td style = \"text-align: right;\">11.17</td><td style = \"text-align: right;\">19.5</td><td style = \"text-align: right;\">0</td><td style = \"text-align: right;\">1</td><td style = \"text-align: right;\">0</td><td style = \"text-align: right;\">0</td><td style = \"text-align: right;\">6.0</td><td style = \"text-align: right;\">1</td><td style = \"text-align: right;\">1</td></tr><tr><td class = \"rowNumber\" style = \"font-weight: bold; text-align: right;\">9</td><td style = \"text-align: left;\">1.015</td><td style = \"text-align: left;\">1</td><td style = \"text-align: left;\">015</td><td style = \"text-align: right;\">0</td><td style = \"text-align: right;\">0</td><td style = \"text-align: right;\">0</td><td style = \"text-align: right;\">0</td><td style = \"text-align: right;\">0</td><td style = \"text-align: right;\">0</td><td style = \"text-align: right;\">0</td><td style = \"text-align: right;\">0</td><td style = \"text-align: right;\">3</td><td style = \"text-align: right;\">3</td><td style = \"text-align: right;\">6</td><td style = \"text-align: left;\">U</td><td style = \"text-align: left;\">[&apos;2.017&apos;]</td><td style = \"text-align: left;\">[&apos;&apos;]</td><td style = \"text-align: left;\">[[&apos;2.003&apos;], [&apos;2.016&apos;], [&apos;2.678&apos;]]</td><td style = \"font-style: italic; text-align: left;\">missing</td><td style = \"text-align: right;\">5.8</td><td style = \"text-align: right;\">13.26</td><td style = \"text-align: right;\">18.75</td><td style = \"text-align: right;\">0</td><td style = \"text-align: right;\">0</td><td style = \"text-align: right;\">0</td><td style = \"text-align: right;\">0</td><td style = \"text-align: right;\">12.0</td><td style = \"text-align: right;\">0</td><td style = \"text-align: right;\">1</td></tr><tr><td class = \"rowNumber\" style = \"font-weight: bold; text-align: right;\">10</td><td style = \"text-align: left;\">1.016</td><td style = \"text-align: left;\">1</td><td style = \"text-align: left;\">016</td><td style = \"text-align: right;\">0</td><td style = \"text-align: right;\">0</td><td style = \"text-align: right;\">0</td><td style = \"text-align: right;\">0</td><td style = \"text-align: right;\">0</td><td style = \"text-align: right;\">0</td><td style = \"text-align: right;\">0</td><td style = \"text-align: right;\">0</td><td style = \"text-align: right;\">3</td><td style = \"text-align: right;\">1</td><td style = \"text-align: right;\">5</td><td style = \"text-align: left;\">U</td><td style = \"text-align: left;\">[&apos;2.00C&apos;, &apos; EC.746&apos;]</td><td style = \"text-align: left;\">[&apos;&apos;]</td><td style = \"text-align: left;\">[]</td><td style = \"font-style: italic; text-align: left;\">missing</td><td style = \"text-align: right;\">5.97</td><td style = \"text-align: right;\">8.55</td><td style = \"text-align: right;\">13.0</td><td style = \"text-align: right;\">0</td><td style = \"text-align: right;\">0</td><td style = \"text-align: right;\">0</td><td style = \"text-align: right;\">0</td><td style = \"text-align: right;\">9.0</td><td style = \"text-align: right;\">0</td><td style = \"text-align: right;\">1</td></tr><tr><td class = \"rowNumber\" style = \"font-weight: bold; text-align: right;\">11</td><td style = \"text-align: left;\">1.018</td><td style = \"text-align: left;\">1</td><td style = \"text-align: left;\">018</td><td style = \"text-align: right;\">0</td><td style = \"text-align: right;\">0</td><td style = \"text-align: right;\">0</td><td style = \"text-align: right;\">0</td><td style = \"text-align: right;\">0</td><td style = \"text-align: right;\">0</td><td style = \"text-align: right;\">1</td><td style = \"text-align: right;\">0</td><td style = \"text-align: right;\">4</td><td style = \"text-align: right;\">0</td><td style = \"text-align: right;\">8</td><td style = \"text-align: left;\">U</td><td style = \"text-align: left;\">[&apos;7.30&apos;, &apos; 12.031&apos;]</td><td style = \"text-align: left;\">[&apos;&apos;]</td><td style = \"text-align: left;\">[]</td><td style = \"font-style: italic; text-align: left;\">missing</td><td style = \"text-align: right;\">5.9</td><td style = \"text-align: right;\">7.9</td><td style = \"text-align: right;\">19.5</td><td style = \"text-align: right;\">0</td><td style = \"text-align: right;\">0</td><td style = \"text-align: right;\">1</td><td style = \"text-align: right;\">0</td><td style = \"text-align: right;\">12.0</td><td style = \"text-align: right;\">1</td><td style = \"text-align: right;\">0</td></tr><tr><td class = \"rowNumber\" style = \"font-weight: bold; text-align: right;\">12</td><td style = \"text-align: left;\">1.021</td><td style = \"text-align: left;\">1</td><td style = \"text-align: left;\">021</td><td style = \"text-align: right;\">0</td><td style = \"text-align: right;\">0</td><td style = \"text-align: right;\">0</td><td style = \"text-align: right;\">0</td><td style = \"text-align: right;\">0</td><td style = \"text-align: right;\">0</td><td style = \"text-align: right;\">1</td><td style = \"text-align: right;\">0</td><td style = \"text-align: right;\">4</td><td style = \"text-align: right;\">0</td><td style = \"text-align: right;\">8</td><td style = \"text-align: left;\">U</td><td style = \"text-align: left;\">[&apos;&apos;]</td><td style = \"text-align: left;\">[&apos;&apos;]</td><td style = \"text-align: left;\">[[&apos;18.03&apos;, &apos;3.016B&apos;]]</td><td style = \"font-style: italic; text-align: left;\">missing</td><td style = \"text-align: right;\">5.23</td><td style = \"text-align: right;\">8.94</td><td style = \"text-align: right;\">10.33</td><td style = \"text-align: right;\">0</td><td style = \"text-align: right;\">0</td><td style = \"text-align: right;\">0</td><td style = \"text-align: right;\">0</td><td style = \"text-align: right;\">12.0</td><td style = \"text-align: right;\">0</td><td style = \"text-align: right;\">1</td></tr><tr><td class = \"rowNumber\" style = \"font-weight: bold; text-align: right;\">13</td><td style = \"text-align: left;\">1.022</td><td style = \"text-align: left;\">1</td><td style = \"text-align: left;\">022</td><td style = \"text-align: right;\">0</td><td style = \"text-align: right;\">0</td><td style = \"text-align: right;\">0</td><td style = \"text-align: right;\">0</td><td style = \"text-align: right;\">0</td><td style = \"text-align: right;\">0</td><td style = \"text-align: right;\">0</td><td style = \"text-align: right;\">0</td><td style = \"text-align: right;\">4</td><td style = \"text-align: right;\">0</td><td style = \"text-align: right;\">8</td><td style = \"text-align: left;\">U</td><td style = \"text-align: left;\">[&apos;&apos;]</td><td style = \"text-align: left;\">[&apos;&apos;]</td><td style = \"text-align: left;\">[[&apos;1.010&apos;], [&apos;18.03&apos;], [&apos;1.00&apos;], [&apos;1.000&apos;]]</td><td style = \"font-style: italic; text-align: left;\">missing</td><td style = \"text-align: right;\">5.8</td><td style = \"text-align: right;\">8.0</td><td style = \"text-align: right;\">4.3</td><td style = \"text-align: right;\">0</td><td style = \"text-align: right;\">0</td><td style = \"text-align: right;\">0</td><td style = \"text-align: right;\">0</td><td style = \"text-align: right;\">12.0</td><td style = \"text-align: right;\">1</td><td style = \"text-align: right;\">0</td></tr><tr><td style = \"text-align: right;\">&vellip;</td><td style = \"text-align: right;\">&vellip;</td><td style = \"text-align: right;\">&vellip;</td><td style = \"text-align: right;\">&vellip;</td><td style = \"text-align: right;\">&vellip;</td><td style = \"text-align: right;\">&vellip;</td><td style = \"text-align: right;\">&vellip;</td><td style = \"text-align: right;\">&vellip;</td><td style = \"text-align: right;\">&vellip;</td><td style = \"text-align: right;\">&vellip;</td><td style = \"text-align: right;\">&vellip;</td><td style = \"text-align: right;\">&vellip;</td><td style = \"text-align: right;\">&vellip;</td><td style = \"text-align: right;\">&vellip;</td><td style = \"text-align: right;\">&vellip;</td><td style = \"text-align: right;\">&vellip;</td><td style = \"text-align: right;\">&vellip;</td><td style = \"text-align: right;\">&vellip;</td><td style = \"text-align: right;\">&vellip;</td><td style = \"text-align: right;\">&vellip;</td><td style = \"text-align: right;\">&vellip;</td><td style = \"text-align: right;\">&vellip;</td><td style = \"text-align: right;\">&vellip;</td><td style = \"text-align: right;\">&vellip;</td><td style = \"text-align: right;\">&vellip;</td><td style = \"text-align: right;\">&vellip;</td><td style = \"text-align: right;\">&vellip;</td><td style = \"text-align: right;\">&vellip;</td><td style = \"text-align: right;\">&vellip;</td><td style = \"text-align: right;\">&vellip;</td></tr><tr><td class = \"rowNumber\" style = \"font-weight: bold; text-align: right;\">3524</td><td style = \"text-align: left;\">WGS.303</td><td style = \"text-align: left;\">WGS</td><td style = \"text-align: left;\">303</td><td style = \"text-align: right;\">1</td><td style = \"text-align: right;\">0</td><td style = \"text-align: right;\">0</td><td style = \"text-align: right;\">0</td><td style = \"text-align: right;\">0</td><td style = \"text-align: right;\">0</td><td style = \"text-align: right;\">0</td><td style = \"text-align: right;\">0</td><td style = \"text-align: right;\">3</td><td style = \"text-align: right;\">0</td><td style = \"text-align: right;\">9</td><td style = \"text-align: left;\">U</td><td style = \"text-align: left;\">[&apos;21H.109&apos;]</td><td style = \"text-align: left;\">[&apos;21H.983&apos;, &apos; WGS.310&apos;]</td><td style = \"text-align: left;\">[]</td><td style = \"font-style: italic; text-align: left;\">missing</td><td style = \"text-align: right;\">0.0</td><td style = \"text-align: right;\">0.0</td><td style = \"text-align: right;\">0.0</td><td style = \"text-align: right;\">1</td><td style = \"text-align: right;\">0</td><td style = \"text-align: right;\">0</td><td style = \"text-align: right;\">0</td><td style = \"text-align: right;\">12.0</td><td style = \"text-align: right;\">0</td><td style = \"text-align: right;\">1</td></tr><tr><td class = \"rowNumber\" style = \"font-weight: bold; text-align: right;\">3525</td><td style = \"text-align: left;\">WGS.310</td><td style = \"text-align: left;\">WGS</td><td style = \"text-align: left;\">310</td><td style = \"text-align: right;\">0</td><td style = \"text-align: right;\">0</td><td style = \"text-align: right;\">0</td><td style = \"text-align: right;\">0</td><td style = \"text-align: right;\">0</td><td style = \"text-align: right;\">0</td><td style = \"text-align: right;\">0</td><td style = \"text-align: right;\">0</td><td style = \"text-align: right;\">3</td><td style = \"text-align: right;\">0</td><td style = \"text-align: right;\">9</td><td style = \"text-align: left;\">G</td><td style = \"text-align: left;\">[&apos;21H.983&apos;]</td><td style = \"text-align: left;\">[&apos;21H.109&apos;, &apos; WGS.303&apos;]</td><td style = \"text-align: left;\">[]</td><td style = \"font-style: italic; text-align: left;\">missing</td><td style = \"text-align: right;\">0.0</td><td style = \"text-align: right;\">0.0</td><td style = \"text-align: right;\">0.0</td><td style = \"text-align: right;\">1</td><td style = \"text-align: right;\">0</td><td style = \"text-align: right;\">0</td><td style = \"text-align: right;\">0</td><td style = \"text-align: right;\">12.0</td><td style = \"text-align: right;\">0</td><td style = \"text-align: right;\">1</td></tr><tr><td class = \"rowNumber\" style = \"font-weight: bold; text-align: right;\">3526</td><td style = \"text-align: left;\">WGS.321</td><td style = \"text-align: left;\">WGS</td><td style = \"text-align: left;\">321</td><td style = \"text-align: right;\">1</td><td style = \"text-align: right;\">0</td><td style = \"text-align: right;\">0</td><td style = \"text-align: right;\">0</td><td style = \"text-align: right;\">0</td><td style = \"text-align: right;\">0</td><td style = \"text-align: right;\">0</td><td style = \"text-align: right;\">0</td><td style = \"text-align: right;\">3</td><td style = \"text-align: right;\">0</td><td style = \"text-align: right;\">9</td><td style = \"text-align: left;\">U</td><td style = \"text-align: left;\">[&apos;21G.344&apos;, &apos; 21L.621&apos;]</td><td style = \"text-align: left;\">[&apos;&apos;]</td><td style = \"text-align: left;\">[]</td><td style = \"font-style: italic; text-align: left;\">missing</td><td style = \"text-align: right;\">0.0</td><td style = \"text-align: right;\">0.0</td><td style = \"text-align: right;\">0.0</td><td style = \"text-align: right;\">1</td><td style = \"text-align: right;\">0</td><td style = \"text-align: right;\">0</td><td style = \"text-align: right;\">0</td><td style = \"text-align: right;\">12.0</td><td style = \"text-align: right;\">1</td><td style = \"text-align: right;\">0</td></tr><tr><td class = \"rowNumber\" style = \"font-weight: bold; text-align: right;\">3527</td><td style = \"text-align: left;\">WGS.400</td><td style = \"text-align: left;\">WGS</td><td style = \"text-align: left;\">400</td><td style = \"text-align: right;\">0</td><td style = \"text-align: right;\">0</td><td style = \"text-align: right;\">0</td><td style = \"text-align: right;\">0</td><td style = \"text-align: right;\">0</td><td style = \"text-align: right;\">0</td><td style = \"text-align: right;\">0</td><td style = \"text-align: right;\">0</td><td style = \"text-align: right;\">0</td><td style = \"text-align: right;\">0</td><td style = \"text-align: right;\">0</td><td style = \"text-align: left;\">U</td><td style = \"text-align: left;\">[&apos;&apos;]</td><td style = \"text-align: left;\">[&apos;&apos;]</td><td style = \"text-align: left;\">[]</td><td style = \"font-style: italic; text-align: left;\">missing</td><td style = \"text-align: right;\">0.0</td><td style = \"text-align: right;\">0.0</td><td style = \"text-align: right;\">0.0</td><td style = \"text-align: right;\">0</td><td style = \"text-align: right;\">1</td><td style = \"text-align: right;\">0</td><td style = \"text-align: right;\">0</td><td style = \"text-align: right;\">0.0</td><td style = \"text-align: right;\">1</td><td style = \"text-align: right;\">1</td></tr><tr><td class = \"rowNumber\" style = \"font-weight: bold; text-align: right;\">3528</td><td style = \"text-align: left;\">WGS.610</td><td style = \"text-align: left;\">WGS</td><td style = \"text-align: left;\">610</td><td style = \"text-align: right;\">0</td><td style = \"text-align: right;\">0</td><td style = \"text-align: right;\">0</td><td style = \"text-align: right;\">0</td><td style = \"text-align: right;\">0</td><td style = \"text-align: right;\">0</td><td style = \"text-align: right;\">0</td><td style = \"text-align: right;\">0</td><td style = \"text-align: right;\">3</td><td style = \"text-align: right;\">0</td><td style = \"text-align: right;\">9</td><td style = \"text-align: left;\">G</td><td style = \"text-align: left;\">[&apos;&apos;]</td><td style = \"text-align: left;\">[&apos;&apos;]</td><td style = \"text-align: left;\">[]</td><td style = \"font-style: italic; text-align: left;\">missing</td><td style = \"text-align: right;\">0.0</td><td style = \"text-align: right;\">0.0</td><td style = \"text-align: right;\">0.0</td><td style = \"text-align: right;\">0</td><td style = \"text-align: right;\">1</td><td style = \"text-align: right;\">0</td><td style = \"text-align: right;\">0</td><td style = \"text-align: right;\">12.0</td><td style = \"text-align: right;\">1</td><td style = \"text-align: right;\">0</td></tr><tr><td class = \"rowNumber\" style = \"font-weight: bold; text-align: right;\">3529</td><td style = \"text-align: left;\">WGS.615</td><td style = \"text-align: left;\">WGS</td><td style = \"text-align: left;\">615</td><td style = \"text-align: right;\">0</td><td style = \"text-align: right;\">0</td><td style = \"text-align: right;\">0</td><td style = \"text-align: right;\">0</td><td style = \"text-align: right;\">0</td><td style = \"text-align: right;\">0</td><td style = \"text-align: right;\">0</td><td style = \"text-align: right;\">0</td><td style = \"text-align: right;\">3</td><td style = \"text-align: right;\">0</td><td style = \"text-align: right;\">9</td><td style = \"text-align: left;\">G</td><td style = \"text-align: left;\">[&apos;&apos;]</td><td style = \"text-align: left;\">[&apos;&apos;]</td><td style = \"text-align: left;\">[]</td><td style = \"font-style: italic; text-align: left;\">missing</td><td style = \"text-align: right;\">0.0</td><td style = \"text-align: right;\">0.0</td><td style = \"text-align: right;\">0.0</td><td style = \"text-align: right;\">0</td><td style = \"text-align: right;\">1</td><td style = \"text-align: right;\">0</td><td style = \"text-align: right;\">0</td><td style = \"text-align: right;\">12.0</td><td style = \"text-align: right;\">0</td><td style = \"text-align: right;\">1</td></tr><tr><td class = \"rowNumber\" style = \"font-weight: bold; text-align: right;\">3530</td><td style = \"text-align: left;\">WGS.640</td><td style = \"text-align: left;\">WGS</td><td style = \"text-align: left;\">640</td><td style = \"text-align: right;\">0</td><td style = \"text-align: right;\">0</td><td style = \"text-align: right;\">0</td><td style = \"text-align: right;\">0</td><td style = \"text-align: right;\">0</td><td style = \"text-align: right;\">0</td><td style = \"text-align: right;\">0</td><td style = \"text-align: right;\">0</td><td style = \"text-align: right;\">3</td><td style = \"text-align: right;\">0</td><td style = \"text-align: right;\">9</td><td style = \"text-align: left;\">G</td><td style = \"text-align: left;\">[&apos;&apos;]</td><td style = \"text-align: left;\">[&apos;&apos;]</td><td style = \"text-align: left;\">[]</td><td style = \"font-style: italic; text-align: left;\">missing</td><td style = \"text-align: right;\">0.0</td><td style = \"text-align: right;\">0.0</td><td style = \"text-align: right;\">0.0</td><td style = \"text-align: right;\">0</td><td style = \"text-align: right;\">1</td><td style = \"text-align: right;\">0</td><td style = \"text-align: right;\">0</td><td style = \"text-align: right;\">12.0</td><td style = \"text-align: right;\">0</td><td style = \"text-align: right;\">1</td></tr><tr><td class = \"rowNumber\" style = \"font-weight: bold; text-align: right;\">3531</td><td style = \"text-align: left;\">WGS.645</td><td style = \"text-align: left;\">WGS</td><td style = \"text-align: left;\">645</td><td style = \"text-align: right;\">0</td><td style = \"text-align: right;\">0</td><td style = \"text-align: right;\">0</td><td style = \"text-align: right;\">0</td><td style = \"text-align: right;\">0</td><td style = \"text-align: right;\">0</td><td style = \"text-align: right;\">0</td><td style = \"text-align: right;\">0</td><td style = \"text-align: right;\">3</td><td style = \"text-align: right;\">0</td><td style = \"text-align: right;\">9</td><td style = \"text-align: left;\">G</td><td style = \"text-align: left;\">[&apos;&apos;]</td><td style = \"text-align: left;\">[&apos;&apos;]</td><td style = \"text-align: left;\">[]</td><td style = \"font-style: italic; text-align: left;\">missing</td><td style = \"text-align: right;\">0.0</td><td style = \"text-align: right;\">0.0</td><td style = \"text-align: right;\">0.0</td><td style = \"text-align: right;\">0</td><td style = \"text-align: right;\">1</td><td style = \"text-align: right;\">0</td><td style = \"text-align: right;\">0</td><td style = \"text-align: right;\">12.0</td><td style = \"text-align: right;\">0</td><td style = \"text-align: right;\">1</td></tr><tr><td class = \"rowNumber\" style = \"font-weight: bold; text-align: right;\">3532</td><td style = \"text-align: left;\">WGS.700</td><td style = \"text-align: left;\">WGS</td><td style = \"text-align: left;\">700</td><td style = \"text-align: right;\">0</td><td style = \"text-align: right;\">0</td><td style = \"text-align: right;\">0</td><td style = \"text-align: right;\">0</td><td style = \"text-align: right;\">0</td><td style = \"text-align: right;\">0</td><td style = \"text-align: right;\">0</td><td style = \"text-align: right;\">0</td><td style = \"text-align: right;\">3</td><td style = \"text-align: right;\">0</td><td style = \"text-align: right;\">9</td><td style = \"text-align: left;\">G</td><td style = \"text-align: left;\">[&apos;&apos;]</td><td style = \"text-align: left;\">[&apos;&apos;]</td><td style = \"text-align: left;\">[]</td><td style = \"font-style: italic; text-align: left;\">missing</td><td style = \"text-align: right;\">0.0</td><td style = \"text-align: right;\">0.0</td><td style = \"text-align: right;\">0.0</td><td style = \"text-align: right;\">0</td><td style = \"text-align: right;\">1</td><td style = \"text-align: right;\">0</td><td style = \"text-align: right;\">0</td><td style = \"text-align: right;\">12.0</td><td style = \"text-align: right;\">1</td><td style = \"text-align: right;\">0</td></tr><tr><td class = \"rowNumber\" style = \"font-weight: bold; text-align: right;\">3533</td><td style = \"text-align: left;\">WGS.S10</td><td style = \"text-align: left;\">WGS</td><td style = \"text-align: left;\">S10</td><td style = \"text-align: right;\">0</td><td style = \"text-align: right;\">0</td><td style = \"text-align: right;\">0</td><td style = \"text-align: right;\">0</td><td style = \"text-align: right;\">0</td><td style = \"text-align: right;\">0</td><td style = \"text-align: right;\">0</td><td style = \"text-align: right;\">0</td><td style = \"text-align: right;\">3</td><td style = \"text-align: right;\">0</td><td style = \"text-align: right;\">9</td><td style = \"text-align: left;\">G</td><td style = \"text-align: left;\">[&apos;&apos;]</td><td style = \"text-align: left;\">[&apos;&apos;]</td><td style = \"text-align: left;\">[]</td><td style = \"font-style: italic; text-align: left;\">missing</td><td style = \"text-align: right;\">5.83</td><td style = \"text-align: right;\">10.13</td><td style = \"text-align: right;\">6.67</td><td style = \"text-align: right;\">0</td><td style = \"text-align: right;\">1</td><td style = \"text-align: right;\">0</td><td style = \"text-align: right;\">0</td><td style = \"text-align: right;\">12.0</td><td style = \"text-align: right;\">1</td><td style = \"text-align: right;\">1</td></tr><tr><td class = \"rowNumber\" style = \"font-weight: bold; text-align: right;\">3534</td><td style = \"text-align: left;\">WGS.UR</td><td style = \"text-align: left;\">WGS</td><td style = \"text-align: left;\">UR</td><td style = \"text-align: right;\">0</td><td style = \"text-align: right;\">0</td><td style = \"text-align: right;\">0</td><td style = \"text-align: right;\">0</td><td style = \"text-align: right;\">0</td><td style = \"text-align: right;\">0</td><td style = \"text-align: right;\">0</td><td style = \"text-align: right;\">0</td><td style = \"text-align: right;\">0</td><td style = \"text-align: right;\">0</td><td style = \"text-align: right;\">0</td><td style = \"text-align: left;\">U</td><td style = \"text-align: left;\">[&apos;&apos;]</td><td style = \"text-align: left;\">[&apos;&apos;]</td><td style = \"text-align: left;\">[]</td><td style = \"font-style: italic; text-align: left;\">missing</td><td style = \"text-align: right;\">0.0</td><td style = \"text-align: right;\">0.0</td><td style = \"text-align: right;\">0.0</td><td style = \"text-align: right;\">0</td><td style = \"text-align: right;\">1</td><td style = \"text-align: right;\">0</td><td style = \"text-align: right;\">0</td><td style = \"text-align: right;\">0.0</td><td style = \"text-align: right;\">1</td><td style = \"text-align: right;\">1</td></tr><tr><td class = \"rowNumber\" style = \"font-weight: bold; text-align: right;\">3535</td><td style = \"text-align: left;\">WGS.URG</td><td style = \"text-align: left;\">WGS</td><td style = \"text-align: left;\">URG</td><td style = \"text-align: right;\">0</td><td style = \"text-align: right;\">0</td><td style = \"text-align: right;\">0</td><td style = \"text-align: right;\">0</td><td style = \"text-align: right;\">0</td><td style = \"text-align: right;\">0</td><td style = \"text-align: right;\">0</td><td style = \"text-align: right;\">0</td><td style = \"text-align: right;\">0</td><td style = \"text-align: right;\">0</td><td style = \"text-align: right;\">0</td><td style = \"text-align: left;\">U</td><td style = \"text-align: left;\">[&apos;&apos;]</td><td style = \"text-align: left;\">[&apos;&apos;]</td><td style = \"text-align: left;\">[]</td><td style = \"font-style: italic; text-align: left;\">missing</td><td style = \"text-align: right;\">0.0</td><td style = \"text-align: right;\">0.0</td><td style = \"text-align: right;\">0.0</td><td style = \"text-align: right;\">0</td><td style = \"text-align: right;\">1</td><td style = \"text-align: right;\">0</td><td style = \"text-align: right;\">0</td><td style = \"text-align: right;\">0.0</td><td style = \"text-align: right;\">1</td><td style = \"text-align: right;\">1</td></tr></tbody></table></div>"
      ],
      "text/latex": [
       "\\begin{tabular}{r|cccccccccccc}\n",
       "\t& no & co & cl & hh & ha & hs & he & ci & cw & re & la & \\\\\n",
       "\t\\hline\n",
       "\t& String7 & String3 & String7 & Int64 & Int64 & Int64 & Int64 & Int64 & Int64 & Int64 & Int64 & \\\\\n",
       "\t\\hline\n",
       "\t1 & 1.00 & 1 & 00 & 0 & 0 & 0 & 0 & 0 & 0 & 1 & 0 & $\\dots$ \\\\\n",
       "\t2 & 1.000 & 1 & 000 & 0 & 0 & 0 & 0 & 0 & 0 & 1 & 0 & $\\dots$ \\\\\n",
       "\t3 & 1.001 & 1 & 001 & 0 & 0 & 0 & 0 & 0 & 0 & 0 & 0 & $\\dots$ \\\\\n",
       "\t4 & 1.005 & 1 & 005 & 0 & 0 & 0 & 0 & 0 & 0 & 0 & 0 & $\\dots$ \\\\\n",
       "\t5 & 1.008 & 1 & 008 & 0 & 0 & 0 & 0 & 0 & 0 & 0 & 0 & $\\dots$ \\\\\n",
       "\t6 & 1.009 & 1 & 009 & 0 & 0 & 0 & 0 & 0 & 0 & 0 & 0 & $\\dots$ \\\\\n",
       "\t7 & 1.010 & 1 & 010 & 0 & 0 & 0 & 0 & 0 & 0 & 0 & 0 & $\\dots$ \\\\\n",
       "\t8 & 1.013 & 1 & 013 & 0 & 0 & 0 & 0 & 0 & 0 & 0 & 0 & $\\dots$ \\\\\n",
       "\t9 & 1.015 & 1 & 015 & 0 & 0 & 0 & 0 & 0 & 0 & 0 & 0 & $\\dots$ \\\\\n",
       "\t10 & 1.016 & 1 & 016 & 0 & 0 & 0 & 0 & 0 & 0 & 0 & 0 & $\\dots$ \\\\\n",
       "\t11 & 1.018 & 1 & 018 & 0 & 0 & 0 & 0 & 0 & 0 & 1 & 0 & $\\dots$ \\\\\n",
       "\t12 & 1.021 & 1 & 021 & 0 & 0 & 0 & 0 & 0 & 0 & 1 & 0 & $\\dots$ \\\\\n",
       "\t13 & 1.022 & 1 & 022 & 0 & 0 & 0 & 0 & 0 & 0 & 0 & 0 & $\\dots$ \\\\\n",
       "\t14 & 1.032 & 1 & 032 & 0 & 0 & 0 & 0 & 0 & 0 & 0 & 0 & $\\dots$ \\\\\n",
       "\t15 & 1.036 & 1 & 036 & 0 & 0 & 0 & 0 & 0 & 0 & 0 & 0 & $\\dots$ \\\\\n",
       "\t16 & 1.041 & 1 & 041 & 0 & 0 & 0 & 0 & 0 & 0 & 0 & 0 & $\\dots$ \\\\\n",
       "\t17 & 1.050 & 1 & 050 & 0 & 0 & 0 & 0 & 0 & 0 & 1 & 0 & $\\dots$ \\\\\n",
       "\t18 & 1.052 & 1 & 052 & 0 & 0 & 0 & 0 & 0 & 0 & 0 & 0 & $\\dots$ \\\\\n",
       "\t19 & 1.053 & 1 & 053 & 0 & 0 & 0 & 0 & 0 & 0 & 1 & 0 & $\\dots$ \\\\\n",
       "\t20 & 1.054 & 1 & 054 & 0 & 0 & 0 & 0 & 0 & 0 & 0 & 0 & $\\dots$ \\\\\n",
       "\t21 & 1.056 & 1 & 056 & 0 & 0 & 0 & 0 & 0 & 0 & 1 & 0 & $\\dots$ \\\\\n",
       "\t22 & 1.057 & 1 & 057 & 0 & 0 & 0 & 0 & 0 & 0 & 0 & 0 & $\\dots$ \\\\\n",
       "\t23 & 1.058 & 1 & 058 & 0 & 0 & 0 & 0 & 0 & 0 & 0 & 0 & $\\dots$ \\\\\n",
       "\t24 & 1.060 & 1 & 060 & 0 & 0 & 0 & 0 & 0 & 0 & 0 & 0 & $\\dots$ \\\\\n",
       "\t25 & 1.060A & 1 & 060A & 0 & 0 & 0 & 0 & 0 & 0 & 0 & 0 & $\\dots$ \\\\\n",
       "\t26 & 1.061 & 1 & 061 & 0 & 0 & 0 & 0 & 0 & 0 & 0 & 0 & $\\dots$ \\\\\n",
       "\t27 & 1.061A & 1 & 061A & 0 & 0 & 0 & 0 & 0 & 0 & 0 & 0 & $\\dots$ \\\\\n",
       "\t28 & 1.062 & 1 & 062 & 0 & 0 & 0 & 0 & 0 & 0 & 0 & 0 & $\\dots$ \\\\\n",
       "\t29 & 1.063 & 1 & 063 & 0 & 0 & 0 & 0 & 0 & 0 & 0 & 0 & $\\dots$ \\\\\n",
       "\t30 & 1.066 & 1 & 066 & 0 & 0 & 0 & 0 & 0 & 0 & 0 & 0 & $\\dots$ \\\\\n",
       "\t$\\dots$ & $\\dots$ & $\\dots$ & $\\dots$ & $\\dots$ & $\\dots$ & $\\dots$ & $\\dots$ & $\\dots$ & $\\dots$ & $\\dots$ & $\\dots$ &  \\\\\n",
       "\\end{tabular}\n"
      ],
      "text/plain": [
       "\u001b[1m3535×29 DataFrame\u001b[0m\n",
       "\u001b[1m  Row \u001b[0m│\u001b[1m no      \u001b[0m\u001b[1m co      \u001b[0m\u001b[1m cl      \u001b[0m\u001b[1m hh    \u001b[0m\u001b[1m ha    \u001b[0m\u001b[1m hs    \u001b[0m\u001b[1m he    \u001b[0m\u001b[1m ci    \u001b[0m\u001b[1m cw    \u001b[0m\u001b[1m r\u001b[0m ⋯\n",
       "      │\u001b[90m String7 \u001b[0m\u001b[90m String3 \u001b[0m\u001b[90m String7 \u001b[0m\u001b[90m Int64 \u001b[0m\u001b[90m Int64 \u001b[0m\u001b[90m Int64 \u001b[0m\u001b[90m Int64 \u001b[0m\u001b[90m Int64 \u001b[0m\u001b[90m Int64 \u001b[0m\u001b[90m I\u001b[0m ⋯\n",
       "──────┼─────────────────────────────────────────────────────────────────────────\n",
       "    1 │ 1.00     1        00           0      0      0      0      0      0    ⋯\n",
       "    2 │ 1.000    1        000          0      0      0      0      0      0\n",
       "    3 │ 1.001    1        001          0      0      0      0      0      0\n",
       "    4 │ 1.005    1        005          0      0      0      0      0      0\n",
       "    5 │ 1.008    1        008          0      0      0      0      0      0    ⋯\n",
       "    6 │ 1.009    1        009          0      0      0      0      0      0\n",
       "    7 │ 1.010    1        010          0      0      0      0      0      0\n",
       "    8 │ 1.013    1        013          0      0      0      0      0      0\n",
       "    9 │ 1.015    1        015          0      0      0      0      0      0    ⋯\n",
       "   10 │ 1.016    1        016          0      0      0      0      0      0\n",
       "   11 │ 1.018    1        018          0      0      0      0      0      0\n",
       "  ⋮   │    ⋮        ⋮        ⋮       ⋮      ⋮      ⋮      ⋮      ⋮      ⋮      ⋱\n",
       " 3526 │ WGS.321  WGS      321          1      0      0      0      0      0\n",
       " 3527 │ WGS.400  WGS      400          0      0      0      0      0      0    ⋯\n",
       " 3528 │ WGS.610  WGS      610          0      0      0      0      0      0\n",
       " 3529 │ WGS.615  WGS      615          0      0      0      0      0      0\n",
       " 3530 │ WGS.640  WGS      640          0      0      0      0      0      0\n",
       " 3531 │ WGS.645  WGS      645          0      0      0      0      0      0    ⋯\n",
       " 3532 │ WGS.700  WGS      700          0      0      0      0      0      0\n",
       " 3533 │ WGS.S10  WGS      S10          0      0      0      0      0      0\n",
       " 3534 │ WGS.UR   WGS      UR           0      0      0      0      0      0\n",
       " 3535 │ WGS.URG  WGS      URG          0      0      0      0      0      0    ⋯\n",
       "\u001b[36m                                                20 columns and 3514 rows omitted\u001b[0m"
      ]
     },
     "execution_count": 3,
     "metadata": {},
     "output_type": "execute_result"
    }
   ],
   "source": [
    "course_data = CSV.read(\"course_data.csv\", DataFrame)"
   ]
  },
  {
   "cell_type": "code",
   "execution_count": 14,
   "id": "adb32e4b-5184-4c2a-8f80-c8727ad1a555",
   "metadata": {},
   "outputs": [
    {
     "data": {
      "text/plain": [
       "3535-element Vector{Int64}:\n",
       " 0\n",
       " 0\n",
       " 0\n",
       " 0\n",
       " 0\n",
       " 0\n",
       " 0\n",
       " 0\n",
       " 0\n",
       " 0\n",
       " 0\n",
       " 0\n",
       " 0\n",
       " ⋮\n",
       " 0\n",
       " 0\n",
       " 0\n",
       " 0\n",
       " 0\n",
       " 0\n",
       " 0\n",
       " 0\n",
       " 0\n",
       " 0\n",
       " 0\n",
       " 0"
      ]
     },
     "execution_count": 14,
     "metadata": {},
     "output_type": "execute_result"
    }
   ],
   "source": [
    "# Build sets\n",
    "classes = 1:nrow(course_data)\n",
    "semesters = 1:8"
   ]
  },
  {
   "cell_type": "markdown",
   "id": "869b1a5e-038c-4636-9716-917dd85949f0",
   "metadata": {},
   "source": [
    "### Data Directly from CSV"
   ]
  },
  {
   "cell_type": "code",
   "execution_count": 64,
   "id": "a96038b3-79e9-4070-8381-02eb87c222c5",
   "metadata": {},
   "outputs": [
    {
     "data": {
      "text/plain": [
       "3535-element Vector{Int64}:\n",
       " 0\n",
       " 0\n",
       " 0\n",
       " 0\n",
       " 0\n",
       " 0\n",
       " 0\n",
       " 0\n",
       " 0\n",
       " 0\n",
       " 0\n",
       " 0\n",
       " 0\n",
       " ⋮\n",
       " 0\n",
       " 0\n",
       " 0\n",
       " 0\n",
       " 0\n",
       " 0\n",
       " 0\n",
       " 0\n",
       " 0\n",
       " 0\n",
       " 0\n",
       " 0"
      ]
     },
     "execution_count": 64,
     "metadata": {},
     "output_type": "execute_result"
    }
   ],
   "source": [
    "# Get basic class information\n",
    "names = course_data.\"no\"\n",
    "fall = course_data.\"fa\"\n",
    "spring = course_data.\"sp\"\n",
    "U = course_data.\"vu\" # units\n",
    "R = course_data.\"ra\" # ratings\n",
    "H = course_data.\"h\" # hours\n",
    "\n",
    "\n",
    "# Get GIR-related information\n",
    "hh = course_data.\"hh\"\n",
    "ha = course_data.\"ha\"\n",
    "hs = course_data.\"hs\"\n",
    "he = course_data.\"he\"\n",
    "cih = course_data.\"ci\"\n",
    "ci_hw = course_data.\"cw\"\n",
    "rest = course_data.\"re\"\n",
    "lab = course_data.\"la\""
   ]
  },
  {
   "cell_type": "markdown",
   "id": "21ac3fab-75d7-447f-8c74-dc42ef018922",
   "metadata": {},
   "source": [
    "### Data Processing"
   ]
  },
  {
   "cell_type": "code",
   "execution_count": 60,
   "id": "44ede74e-c6ff-431a-b121-c690e1b7e770",
   "metadata": {},
   "outputs": [
    {
     "data": {
      "text/plain": [
       "8-element Vector{Int64}:\n",
       " 1\n",
       " 2\n",
       " 1\n",
       " 2\n",
       " 1\n",
       " 2\n",
       " 1\n",
       " 2"
      ]
     },
     "execution_count": 60,
     "metadata": {},
     "output_type": "execute_result"
    }
   ],
   "source": [
    "# Determining which classes are hasses\n",
    "hass = []\n",
    "for i in classes\n",
    "    if hass_h[i] == 1 | hass_a[i] == 1 | hass_s[i] == 1 | hass_e[i] == 1\n",
    "        push!(hass, 1)\n",
    "    else\n",
    "        push!(hass, 0)\n",
    "    end\n",
    "end\n",
    "\n",
    "# Enumerating classes satisfying each specific GIR requirement\n",
    "satisfying_bio = [\"7.012\", \"7.013\", \"7.014\", \"7.015\", \"7.016\"]\n",
    "\n",
    "satisfying_chem = [\"3.091\", \"5.111\", \"5.112\"]\n",
    "\n",
    "satisfying_phys1 = [\"8.01\", \"8.011\", \"8.012\", \"8.01L\"]\n",
    "satisfying_phys2 = [\"8.02\", \"8.021\", \"8.022\"]\n",
    "\n",
    "satisfying_calc1 = [\"18.01\", \"18.01A\"]\n",
    "satisfying_calc2 = [\"18.01\", \"18.01A\"]\n",
    "\n",
    "# Building one-hot vectors\n",
    "bio = [names[i] in satisfying_bio ? 1 : 0 for i in classes]\n",
    "chem = [names[i] in satisfying_chem ? 1 : 0 for i in classes]\n",
    "phys1 = [names[i] in satisfying_phys1 ? 1 : 0 for i in classes]\n",
    "phys2 = [names[i] in satisfying_phys2 ? 1 : 0 for i in classes]\n",
    "calc1 = [names[i] in satisfying_calc1 ? 1 : 0 for i in classes]\n",
    "calc2 = [names[i] in satisfying_calc2 ? 1 : 0 for i in classes]\n",
    "\n",
    "\n",
    "# Making matrix of GIR requirements \n",
    "G = hcat(ha, hs, hh, cih, hass, bio, phys1, phys2, calc1, calc2, chem, rest, lab)\n",
    "G_sat = [1, 1, 1, 2, 8, 1, 1, 1, 1, 1, 1, 12, 12]\n",
    "\n",
    "\n",
    "# Making matrix for fall/spring classes\n",
    "A = hcat(fall, spring)\n",
    "\n",
    "# Make vector indicating whether a semester is a fall (1) or spring (2) semester\n",
    "S = [ (j%2 == 1) ? 1 : 2 for j in semesters]"
   ]
  },
  {
   "cell_type": "markdown",
   "id": "8ae2fed9-a067-40f7-b5e7-976c847486a8",
   "metadata": {},
   "source": [
    "## Tweakable variables"
   ]
  },
  {
   "cell_type": "code",
   "execution_count": 63,
   "id": "52d3858e-3ebf-4c04-8c76-6f59b575593c",
   "metadata": {},
   "outputs": [
    {
     "data": {
      "text/plain": [
       "0.5"
      ]
     },
     "execution_count": 63,
     "metadata": {},
     "output_type": "execute_result"
    }
   ],
   "source": [
    "alpha = 0.5"
   ]
  },
  {
   "cell_type": "markdown",
   "id": "d78ea435-e426-499e-892d-c363ef3d5dc9",
   "metadata": {},
   "source": [
    "## Building the Model"
   ]
  },
  {
   "cell_type": "markdown",
   "id": "44ef17ec-22c2-4b58-b59b-d9e62e0f21bf",
   "metadata": {},
   "source": [
    "### Index references\n",
    "i: class\n",
    "\n",
    "j: semester\n",
    "\n",
    "k: index of GIR requirement"
   ]
  },
  {
   "cell_type": "markdown",
   "id": "78eaef05-1137-4778-8bbd-cf9168cb1239",
   "metadata": {},
   "source": [
    "### Model Definition"
   ]
  },
  {
   "cell_type": "code",
   "execution_count": 65,
   "id": "9d5cc7b9-a413-4ad5-8c9e-b30296d766b7",
   "metadata": {},
   "outputs": [
    {
     "name": "stdout",
     "output_type": "stream",
     "text": [
      "Set parameter Username\n",
      "Academic license - for non-commercial use only - expires 2024-09-07\n"
     ]
    }
   ],
   "source": [
    "model = Model(Gurobi.Optimizer)\n",
    "\n",
    "# Decision variables\n",
    "@variable(model, X[classes, semesters], Bin);\n",
    "\n",
    "# Objective\n",
    "@objective(model, Min, alpha*sum(H[i]*sum(X[i,j] for j in semesters) for i in classes) - (1- alpha)*sum(R[i]*sum(X[i,j] for j in semesters) for i in classes));\n",
    "\n",
    "# ---- General Constraints ------\n",
    "\n",
    "# Cannot take a class more than once\n",
    "@constraint(model, num_times[i in classes], sum(X[i,j] for j in semesters) <= 1);\n",
    "\n",
    "# Maximum and minimum number of units per semester\n",
    "@constraint(model, max_units[j in semesters], sum(U[i]*X[i,j] for i in classes) <= 60);\n",
    "@constraint(model, min_units[j in semesters], sum(U[i]*X[i,j] for i in classes) >= 36);\n",
    "\n",
    "# Fall classes taken in fall, spring classes taken in spring\n",
    "@constraint(model, fall_spring[i in classes, j in semesters], X[i,j] - A[i, S[j]] <= 0);\n",
    "\n",
    "# ---- GIR Constraints ------\n",
    "\n"
   ]
  }
 ],
 "metadata": {
  "kernelspec": {
   "display_name": "Julia 1.9.3",
   "language": "julia",
   "name": "julia-1.9"
  },
  "language_info": {
   "file_extension": ".jl",
   "mimetype": "application/julia",
   "name": "julia",
   "version": "1.9.3"
  }
 },
 "nbformat": 4,
 "nbformat_minor": 5
}
