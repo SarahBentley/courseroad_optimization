{
 "cells": [
  {
   "cell_type": "markdown",
   "id": "387eb458-ff17-4adb-a170-ecf8dea9cb8f",
   "metadata": {},
   "source": [
    "# Courseroad Optimization"
   ]
  },
  {
   "cell_type": "markdown",
   "id": "a01da3ff-9e00-467a-b85e-ba31508175ef",
   "metadata": {},
   "source": [
    "## Installing Packages"
   ]
  },
  {
   "cell_type": "code",
   "execution_count": null,
   "id": "9a8eae44-5561-4ae3-8365-a5fc386ef36f",
   "metadata": {},
   "outputs": [],
   "source": [
    "# Install packages\n",
    "using Pkg\n",
    "Pkg.add(\"CSV\")\n",
    "Pkg.add(\"DataFrames\")\n",
    "Pkg.add(\"JuMP\")\n",
    "Pkg.add(\"Gurobi\")\n",
    "Pkg.add(\"Plots\")\n",
    "Pkg.add(\"JSON\")\n",
    "Pkg.add(\"PyCall\")"
   ]
  },
  {
   "cell_type": "code",
   "execution_count": 1,
   "id": "04569e45-2dbb-434d-a0a1-956e4c53e56d",
   "metadata": {},
   "outputs": [],
   "source": [
    "using CSV, DataFrames, JuMP, Gurobi, Plots, PyCall, DelimitedFiles"
   ]
  },
  {
   "cell_type": "code",
   "execution_count": 2,
   "id": "423d3fd3-9a37-4ae9-bf18-f0bd0f708256",
   "metadata": {},
   "outputs": [
    {
     "data": {
      "text/plain": [
       "PyObject <module 'numpy' from '/Users/bella/.julia/conda/3/lib/python3.10/site-packages/numpy/__init__.py'>"
      ]
     },
     "execution_count": 2,
     "metadata": {},
     "output_type": "execute_result"
    }
   ],
   "source": [
    "np = pyimport(\"numpy\")"
   ]
  },
  {
   "cell_type": "code",
   "execution_count": 3,
   "id": "b4a6ba38",
   "metadata": {},
   "outputs": [
    {
     "data": {
      "text/plain": [
       "\"/Users/bella/Downloads/6.7201/gurobi.lic\""
      ]
     },
     "execution_count": 3,
     "metadata": {},
     "output_type": "execute_result"
    }
   ],
   "source": [
    "ENV[\"GRB_LICENSE_FILE\"] = \"/Users/bella/Downloads/6.7201/gurobi.lic\""
   ]
  },
  {
   "cell_type": "markdown",
   "id": "4c03d2b8-0bb0-4600-a8c9-e61b9f8bfd6a",
   "metadata": {},
   "source": [
    "## Importing and Setting up Data"
   ]
  },
  {
   "cell_type": "code",
   "execution_count": 4,
   "id": "f6bce596-0f88-4d46-ac63-1d1d360628be",
   "metadata": {},
   "outputs": [
    {
     "data": {
      "text/plain": [
       "DataFrame"
      ]
     },
     "execution_count": 4,
     "metadata": {},
     "output_type": "execute_result"
    }
   ],
   "source": [
    "data_6_4  = CSV.read(\"6-4_requirements.csv\", DataFrame)\n",
    "course_data = CSV.read(\"course_data.csv\", DataFrame)\n",
    "data = innerjoin(course_data, data_6_4, on = :no)\n",
    "sort!(data, :no)\n",
    "typeof(data)"
   ]
  },
  {
   "cell_type": "code",
   "execution_count": null,
   "id": "deea7fae-37d2-4581-be2e-aa58ad823af0",
   "metadata": {},
   "outputs": [],
   "source": [
    "# my attempt at loading in pre_reqs.txt but this runs into issues between np and julia\n",
    "# loaded_arr = np.loadtxt(\"pre_reqs.txt\") \n",
    "# PR = np.reshape(loaded_arr, (size(loaded_arr, 0), size(loaded_arr, 1) // arr.shape[2], arr.shape[2]))\n",
    "loaded_arr = readdlm(\"pre_reqs.txt\")\n",
    "\n",
    "# Calculate the dimensions for reshaping\n",
    "m = size(loaded_arr, 1)  # Size of the first dimension\n",
    "n = size(loaded_arr, 2) ÷ m  # Size of the second dimension divided by m\n",
    "o = m  # Set p equal to m\n",
    "\n",
    "# Reshape the array\n",
    "P = reshape(loaded_arr, m, o, n)"
   ]
  },
  {
   "cell_type": "code",
   "execution_count": 5,
   "id": "adb32e4b-5184-4c2a-8f80-c8727ad1a555",
   "metadata": {},
   "outputs": [
    {
     "data": {
      "text/plain": [
       "DataFrame"
      ]
     },
     "execution_count": 5,
     "metadata": {},
     "output_type": "execute_result"
    }
   ],
   "source": [
    "# Build sets\n",
    "classes = 1:nrow(data)\n",
    "semesters = 1:8\n",
    "typeof(data)"
   ]
  },
  {
   "cell_type": "markdown",
   "id": "869b1a5e-038c-4636-9716-917dd85949f0",
   "metadata": {},
   "source": [
    "### Data Directly from CSV"
   ]
  },
  {
   "cell_type": "code",
   "execution_count": 6,
   "id": "a96038b3-79e9-4070-8381-02eb87c222c5",
   "metadata": {},
   "outputs": [
    {
     "data": {
      "text/plain": [
       "3535-element Vector{Int64}:\n",
       " 0\n",
       " 0\n",
       " 0\n",
       " 0\n",
       " 0\n",
       " 0\n",
       " 0\n",
       " 0\n",
       " 0\n",
       " 0\n",
       " 0\n",
       " 0\n",
       " 0\n",
       " ⋮\n",
       " 0\n",
       " 0\n",
       " 0\n",
       " 0\n",
       " 0\n",
       " 0\n",
       " 0\n",
       " 0\n",
       " 0\n",
       " 0\n",
       " 0\n",
       " 0"
      ]
     },
     "execution_count": 6,
     "metadata": {},
     "output_type": "execute_result"
    }
   ],
   "source": [
    "# Get basic class information\n",
    "names = data.\"no\"\n",
    "fall = data.\"fa\"\n",
    "spring = data.\"sp\"\n",
    "U = data.\"vu\" # units\n",
    "R = data.\"ra\" # ratings\n",
    "H = data.\"h\" # hours\n",
    "same_as = data.\"sa\"\n",
    "pre_reqs = data.\"pr\"\n",
    "\n",
    "\n",
    "# Get GIR-related information\n",
    "hh = data.\"hh\"\n",
    "ha = data.\"ha\"\n",
    "hs = data.\"hs\"\n",
    "he = data.\"he\"\n",
    "cih = data.\"ci\"\n",
    "ci_hw = data.\"cw\"\n",
    "rest = data.\"re\"\n",
    "lab = data.\"la\"\n",
    "bio = data.\"bio\"\n",
    "chem = data.\"ch\"\n",
    "phys1 = data.\"p1\"\n",
    "phys2 = data.\"p2\"\n",
    "calc1 = data.\"c1\"\n",
    "calc2 = data.\"c2\"\n",
    "\n",
    "# Get 6-4-related information\n",
    "programming = data.\"p-64\"\n",
    "foundation = data.\"f-64\"\n",
    "math2 = data.\"m2-64\"\n",
    "math3 = data.\"m3-64\"\n",
    "datac = data.\"dac-64\"\n",
    "mod = data.\"moc-64\"\n",
    "decision = data.\"dec-64\"\n",
    "compute = data.\"coc-64\"\n",
    "human = data.\"huc-64\"\n",
    "cim_6_4 = data.\"cim-64\"\n",
    "cim2 = data.\"cim2-64\"\n",
    "serc = data.\"serc\"\n",
    "aus = data.\"aus\"\n",
    "eecs = data.\"eecs\""
   ]
  },
  {
   "cell_type": "markdown",
   "id": "21ac3fab-75d7-447f-8c74-dc42ef018922",
   "metadata": {},
   "source": [
    "### Data Processing"
   ]
  },
  {
   "cell_type": "code",
   "execution_count": 33,
   "id": "44ede74e-c6ff-431a-b121-c690e1b7e770",
   "metadata": {},
   "outputs": [
    {
     "data": {
      "text/plain": [
       "1:8"
      ]
     },
     "execution_count": 33,
     "metadata": {},
     "output_type": "execute_result"
    }
   ],
   "source": [
    "# Determining which classes are hasses\n",
    "hass = [(hh[i] == 1 || ha[i] == 1 || hs[i] == 1 || he[i] == 1) ? 1 : 0 for i in classes]\n",
    "\n",
    "# Making matrix of GIR requirements \n",
    "G = hcat(ha, hs, hh, cih, hass, bio, phys1, phys2, calc1, calc2, chem, rest, lab)\n",
    "G_sat = [1, 1, 1, 2, 8, 1, 1, 1, 1, 1, 1, 12, 12]\n",
    "\n",
    "# Making matrix for fall/spring classes\n",
    "A = hcat(fall, spring)\n",
    "\n",
    "# Make vector indicating whether a semester is a fall (1) or spring (2) semester\n",
    "S = [ (j%2 == 1) ? 1 : 2 for j in semesters]\n",
    "\n",
    "# Get 1801A and 1802A indices\n",
    "calc1A = findfirst(item -> item == \"18.01A\", names)\n",
    "calc2A = findfirst(item -> item == \"18.02A\", names)\n",
    "\n",
    "# Making matrices for 6-4 requirements. \n",
    "center = [ (datac[i] == 1 || mod[i] == 1 || decision[i] == 1 || compute[i] == 1 || human[i] == 1) ? 1 : 0 for i in classes]\n",
    "aus_cim6_4 = [ (aus[i] == 1 || cim_6_4[i] == 1) ? 1 : 0 for i in classes]\n",
    "aus_cim2 = [ (aus[i] == 1 || cim2[i] == 1) ? 1 : 0 for i in classes]\n",
    "\n",
    "M = hcat(programming, foundation, math2, math3, center, datac, mod, decision, compute, human, serc, cim_6_4, cim2, aus_cim6_4, aus_cim2)\n",
    "M_sat = [1, 3, 1, 1, 5, 1, 1, 1, 1, 1, 1, 1, 2, 2, 3]        \n",
    "EM = [ (eecs[i] == 1 || names[i][1:2] == \"18\") ? 1 : 0 for i in classes]\n",
    "\n",
    "# Making matrix for pre-reqs\n",
    "max_prs = 1:8"
   ]
  },
  {
   "cell_type": "markdown",
   "id": "8ae2fed9-a067-40f7-b5e7-976c847486a8",
   "metadata": {},
   "source": [
    "## Tweakable variables"
   ]
  },
  {
   "cell_type": "code",
   "execution_count": 28,
   "id": "52d3858e-3ebf-4c04-8c76-6f59b575593c",
   "metadata": {},
   "outputs": [
    {
     "data": {
      "text/plain": [
       "0.0"
      ]
     },
     "execution_count": 28,
     "metadata": {},
     "output_type": "execute_result"
    }
   ],
   "source": [
    "a = 0.5"
   ]
  },
  {
   "cell_type": "markdown",
   "id": "d78ea435-e426-499e-892d-c363ef3d5dc9",
   "metadata": {},
   "source": [
    "## Building the Model"
   ]
  },
  {
   "cell_type": "markdown",
   "id": "44ef17ec-22c2-4b58-b59b-d9e62e0f21bf",
   "metadata": {},
   "source": [
    "### Index references\n",
    "i: class\n",
    "\n",
    "j: semester\n",
    "\n",
    "k: index of GIR requirement\n",
    "\n",
    "l: index of 6-4 requirement"
   ]
  },
  {
   "cell_type": "markdown",
   "id": "78eaef05-1137-4778-8bbd-cf9168cb1239",
   "metadata": {},
   "source": [
    "### Model Definition"
   ]
  },
  {
   "cell_type": "code",
   "execution_count": 50,
   "id": "9d5cc7b9-a413-4ad5-8c9e-b30296d766b7",
   "metadata": {},
   "outputs": [
    {
     "name": "stdout",
     "output_type": "stream",
     "text": [
      "Set parameter Username\n",
      "Academic license - for non-commercial use only - expires 2024-09-07\n",
      "objectivegeneral2 left"
     ]
    },
    {
     "ename": "LoadError",
     "evalue": "MethodError: no method matching isless(::Int64, ::AffExpr)\n\u001b[0mClosest candidates are:\n\u001b[0m  isless(::Integer, \u001b[91m::ForwardDiff.Dual{Ty}\u001b[39m) where Ty at ~/.julia/packages/ForwardDiff/QdStj/src/dual.jl:145\n\u001b[0m  isless(::Real, \u001b[91m::AbstractFloat\u001b[39m) at operators.jl:185\n\u001b[0m  isless(::Real, \u001b[91m::ForwardDiff.Dual{Ty}\u001b[39m) where Ty at ~/.julia/packages/ForwardDiff/QdStj/src/dual.jl:145\n\u001b[0m  ...",
     "output_type": "error",
     "traceback": [
      "MethodError: no method matching isless(::Int64, ::AffExpr)\n\u001b[0mClosest candidates are:\n\u001b[0m  isless(::Integer, \u001b[91m::ForwardDiff.Dual{Ty}\u001b[39m) where Ty at ~/.julia/packages/ForwardDiff/QdStj/src/dual.jl:145\n\u001b[0m  isless(::Real, \u001b[91m::AbstractFloat\u001b[39m) at operators.jl:185\n\u001b[0m  isless(::Real, \u001b[91m::ForwardDiff.Dual{Ty}\u001b[39m) where Ty at ~/.julia/packages/ForwardDiff/QdStj/src/dual.jl:145\n\u001b[0m  ...",
      "",
      "Stacktrace:",
      "  [1] <(x::Int64, y::AffExpr)",
      "    @ Base ./operators.jl:356",
      "  [2] <=(x::Int64, y::AffExpr)",
      "    @ Base ./operators.jl:405",
      "  [3] >=(x::AffExpr, y::Int64)",
      "    @ Base ./operators.jl:429",
      "  [4] macro expansion",
      "    @ ~/.julia/packages/MutableArithmetics/cnvbo/src/rewrite.jl:326 [inlined]",
      "  [5] macro expansion",
      "    @ ~/.julia/packages/JuMP/mvUVO/src/macros.jl:1080 [inlined]",
      "  [6] (::var\"#465#469\")(l::Int64)",
      "    @ Main ~/.julia/packages/JuMP/mvUVO/src/Containers/macro.jl:301",
      "  [7] #87",
      "    @ ~/.julia/packages/JuMP/mvUVO/src/Containers/container.jl:124 [inlined]",
      "  [8] iterate",
      "    @ ./generator.jl:47 [inlined]",
      "  [9] collect(itr::Base.Generator{JuMP.Containers.VectorizedProductIterator{Tuple{UnitRange{Int64}}}, JuMP.Containers.var\"#87#89\"{var\"#465#469\"}})",
      "    @ Base ./array.jl:787",
      " [10] map(f::Function, A::JuMP.Containers.VectorizedProductIterator{Tuple{UnitRange{Int64}}})",
      "    @ Base ./abstractarray.jl:2961",
      " [11] container(f::Function, indices::JuMP.Containers.VectorizedProductIterator{Tuple{UnitRange{Int64}}}, ::Type{JuMP.Containers.DenseAxisArray}, names::Vector{Any})",
      "    @ JuMP.Containers ~/.julia/packages/JuMP/mvUVO/src/Containers/container.jl:123",
      " [12] container(f::Function, indices::JuMP.Containers.VectorizedProductIterator{Tuple{UnitRange{Int64}}}, #unused#::Type{JuMP.Containers.AutoContainerType}, names::Vector{Any})",
      "    @ JuMP.Containers ~/.julia/packages/JuMP/mvUVO/src/Containers/container.jl:75",
      " [13] macro expansion",
      "    @ ~/.julia/packages/JuMP/mvUVO/src/macros.jl:136 [inlined]",
      " [14] top-level scope",
      "    @ In[50]:60",
      " [15] eval",
      "    @ ./boot.jl:368 [inlined]",
      " [16] include_string(mapexpr::typeof(REPL.softscope), mod::Module, code::String, filename::String)",
      "    @ Base ./loading.jl:1428"
     ]
    }
   ],
   "source": [
    "model = Model(Gurobi.Optimizer)\n",
    "\n",
    "# Decision variables\n",
    "@variable(model, X[classes, semesters], Bin);\n",
    "\n",
    "# Objective\n",
    "@objective(model, Min, a*sum(H[i]*sum(X[i,j] for j in semesters) for i in classes) + (1- a)*sum(R[i]*sum(X[i,j] for j in semesters) for i in classes));\n",
    "\n",
    "print(\"objective\")\n",
    "# ---- General Constraints ------\n",
    "\n",
    "# Cannot take a class more than once\n",
    "@constraint(model, num_times[i in classes], sum(X[i,j] for j in semesters) <= 1);\n",
    "\n",
    "# Maximum and minimum number of units per semester\n",
    "@constraint(model, max_units[j in semesters], sum(U[i]*X[i,j] for i in classes) <= 60);\n",
    "@constraint(model, min_units[j in semesters], sum(U[i]*X[i,j] for i in classes) >= 36);\n",
    "\n",
    "# Fall classes taken in fall, spring classes taken in spring\n",
    "@constraint(model, fall_spring[i in classes, j in semesters], X[i,j] - A[i, S[j]] <= 0);\n",
    "\n",
    "# Pre-reqs\n",
    "# @constraint(model, pre_req_constraint[i in classes, j in semesters, k in max_prs], X[i,j]*sum(sum(X[z,w] for w in j:8)*P[i, z, k] for z in classes) >= X[i,j]*1)\n",
    "print(\"general\")\n",
    "# ---- GIR Constraints ------\n",
    "\n",
    "# # GIR requirements by classes\n",
    "@constraint(model, gir_classes[k in 1:11], sum(sum(G[i,k]X[i,j] for j in semesters) for i in classes) >= G_sat[k]);\n",
    "\n",
    "# # GIR requirements by units\n",
    "@constraint(model, gir_units[k in 12:13], sum(sum(G[i,k]X[i,j]U[i] for j in semesters) for i in classes) >= G_sat[k]);\n",
    "\n",
    "print(\"2 left\")\n",
    "# # at least 180 units beyond GIR\n",
    "@constraint(model, units_beyond_GIR, sum(\n",
    "        sum(U[i]*X[i,j] for j in semesters)\n",
    "        - sum(U[i]*X[i,j] for j in semesters)\n",
    "        * (sum(G[i,k] for k in 1:13) >= 1 ? 1 : 0) for i in classes) >= 180);\n",
    "\n",
    "# Takes 1801A and 1802A consecutively\n",
    "@constraint(model, calcA_sameas[j in 1:7], X[calc1A,j] == X[calc2A,j])\n",
    "\n",
    "\n",
    "# # ---- 6-4 Constraints ------\n",
    "\n",
    "# General requirements satisfied\n",
    "@constraint(model, general_64[l in 3:15], sum(M[i, l]*sum(X[i,j] for j in semesters) for i in classes) >= M_sat[l])\n",
    "\n",
    "# One additional math/eecs course\n",
    "@constraint(model, math_eecs[l in 3:15], sum(EM[i] * sum(X[i,j] for j in semesters) * M[i,l] >= 1 ? ((sum(M[b,l] * sum(X[b,j] for j in semesters) for b in classes)) <= 0 ? 0 : 1) : 1 for i in classes) >= 1)\n",
    "\n"
   ]
  },
  {
   "cell_type": "code",
   "execution_count": 42,
   "id": "83703a5b-bd4d-4924-8e0c-d9a1febf3f2e",
   "metadata": {},
   "outputs": [
    {
     "name": "stdout",
     "output_type": "stream",
     "text": [
      "Gurobi Optimizer version 10.0.2 build v10.0.2rc0 (mac64[arm])\n",
      "\n",
      "CPU model: Apple M1\n",
      "Thread count: 8 physical cores, 8 logical processors, using up to 8 threads\n",
      "\n",
      "Optimize a model with 31866 rows, 28280 columns and 160670 nonzeros\n",
      "Model fingerprint: 0x29701b00\n",
      "Variable types: 0 continuous, 28280 integer (28280 binary)\n",
      "Coefficient statistics:\n",
      "  Matrix range     [1e+00, 4e+01]\n",
      "  Objective range  [2e+00, 7e+00]\n",
      "  Bounds range     [0e+00, 0e+00]\n",
      "  RHS range        [1e+00, 2e+02]\n",
      "Presolve removed 28918 rows and 14577 columns\n",
      "Presolve time: 0.11s\n",
      "Presolved: 2948 rows, 13703 columns, 72170 nonzeros\n",
      "Variable types: 0 continuous, 13703 integer (13703 binary)\n",
      "\n",
      "Root relaxation: infeasible, 116 iterations, 0.01 seconds (0.01 work units)\n",
      "\n",
      "    Nodes    |    Current Node    |     Objective Bounds      |     Work\n",
      " Expl Unexpl |  Obj  Depth IntInf | Incumbent    BestBd   Gap | It/Node Time\n",
      "\n",
      "     0     0 infeasible    0               - infeasible      -     -    0s\n",
      "\n",
      "Explored 1 nodes (116 simplex iterations) in 0.16 seconds (0.29 work units)\n",
      "Thread count was 8 (of 8 available processors)\n",
      "\n",
      "Solution count 0\n",
      "\n",
      "Model is infeasible or unbounded\n",
      "Best objective -, best bound -, gap -\n",
      "\n",
      "User-callback calls 293, time in user-callback 0.00 sec\n"
     ]
    }
   ],
   "source": [
    "optimize!(model)"
   ]
  },
  {
   "cell_type": "code",
   "execution_count": 40,
   "id": "a76a280c-5cd5-4042-8ec7-5898095d65b2",
   "metadata": {},
   "outputs": [
    {
     "data": {
      "text/plain": [
       "60.870000000000005"
      ]
     },
     "execution_count": 40,
     "metadata": {},
     "output_type": "execute_result"
    }
   ],
   "source": [
    "objective_value(model)"
   ]
  },
  {
   "cell_type": "code",
   "execution_count": 32,
   "id": "d439ca70-5e52-42fc-ae9f-283b7e2dad41",
   "metadata": {},
   "outputs": [
    {
     "name": "stdout",
     "output_type": "stream",
     "text": [
      "semester1: Any[String7(\"6.3900\"), String7(\"6.4110\"), String7(\"6.7201\"), String7(\"6.8611\"), String7(\"6.S084\")]\n",
      "semester2: Any[String7(\"11.045\"), String7(\"15.076\"), String7(\"18.05\"), String7(\"5.111\"), String7(\"6.3720\")]\n",
      "semester3: Any[String7(\"18.01A\"), String7(\"18.02A\"), String7(\"21L.040\"), String7(\"6.4120\"), String7(\"6.8701\")]\n",
      "semester4: Any[String7(\"6.8301\"), String7(\"7.014\"), String7(\"HST.034\")]\n",
      "semester5: Any[String7(\"10.S28\"), String7(\"8.02\"), String7(\"HST.030\"), String7(\"STS.053\")]\n",
      "semester6: Any[String7(\"HST.035\"), String7(\"HST.207\")]\n",
      "semester7: Any[String7(\"21M.150\"), String7(\"4.685\"), String7(\"HST.031\")]\n",
      "semester8: Any[String7(\"21A.502\"), String7(\"21L.002\"), String7(\"21M.470\"), String7(\"21M.475\"), String7(\"8.011\")]\n"
     ]
    }
   ],
   "source": [
    "X_vals = convert(Matrix, value.(X))\n",
    "\n",
    "for j in semesters\n",
    "    classes_taken = []\n",
    "    for i in classes\n",
    "        if X_vals[i,j] == 1\n",
    "            push!(classes_taken, names[i])\n",
    "        end\n",
    "    end\n",
    "    println(\"semester\", j, \": \", classes_taken)\n",
    "end"
   ]
  },
  {
   "cell_type": "code",
   "execution_count": null,
   "id": "3430676a",
   "metadata": {},
   "outputs": [],
   "source": []
  },
  {
   "cell_type": "code",
   "execution_count": null,
   "id": "f2b19664",
   "metadata": {},
   "outputs": [],
   "source": []
  }
 ],
 "metadata": {
  "kernelspec": {
   "display_name": "Julia 1.8.0",
   "language": "julia",
   "name": "julia-1.8"
  },
  "language_info": {
   "file_extension": ".jl",
   "mimetype": "application/julia",
   "name": "julia",
   "version": "1.8.0"
  }
 },
 "nbformat": 4,
 "nbformat_minor": 5
}
