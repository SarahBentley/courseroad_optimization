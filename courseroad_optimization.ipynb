{
 "cells": [
  {
   "cell_type": "markdown",
   "id": "387eb458-ff17-4adb-a170-ecf8dea9cb8f",
   "metadata": {},
   "source": [
    "# Courseroad Optimization"
   ]
  },
  {
   "cell_type": "markdown",
   "id": "a01da3ff-9e00-467a-b85e-ba31508175ef",
   "metadata": {},
   "source": [
    "## Installing Packages"
   ]
  },
  {
   "cell_type": "code",
   "execution_count": 1,
   "id": "9a8eae44-5561-4ae3-8365-a5fc386ef36f",
   "metadata": {},
   "outputs": [
    {
     "name": "stderr",
     "output_type": "stream",
     "text": [
      "\u001b[32m\u001b[1m    Updating\u001b[22m\u001b[39m registry at `~/.julia/registries/General.toml`\n",
      "\u001b[32m\u001b[1m   Resolving\u001b[22m\u001b[39m package versions...\n",
      "\u001b[32m\u001b[1m  No Changes\u001b[22m\u001b[39m to `~/.julia/environments/v1.9/Project.toml`\n",
      "\u001b[32m\u001b[1m  No Changes\u001b[22m\u001b[39m to `~/.julia/environments/v1.9/Manifest.toml`\n",
      "\u001b[32m\u001b[1m   Resolving\u001b[22m\u001b[39m package versions...\n",
      "\u001b[32m\u001b[1m  No Changes\u001b[22m\u001b[39m to `~/.julia/environments/v1.9/Project.toml`\n",
      "\u001b[32m\u001b[1m  No Changes\u001b[22m\u001b[39m to `~/.julia/environments/v1.9/Manifest.toml`\n",
      "\u001b[32m\u001b[1m   Resolving\u001b[22m\u001b[39m package versions...\n",
      "\u001b[32m\u001b[1m  No Changes\u001b[22m\u001b[39m to `~/.julia/environments/v1.9/Project.toml`\n",
      "\u001b[32m\u001b[1m  No Changes\u001b[22m\u001b[39m to `~/.julia/environments/v1.9/Manifest.toml`\n",
      "\u001b[32m\u001b[1m   Resolving\u001b[22m\u001b[39m package versions...\n",
      "\u001b[32m\u001b[1m  No Changes\u001b[22m\u001b[39m to `~/.julia/environments/v1.9/Project.toml`\n",
      "\u001b[32m\u001b[1m  No Changes\u001b[22m\u001b[39m to `~/.julia/environments/v1.9/Manifest.toml`\n",
      "\u001b[32m\u001b[1m   Resolving\u001b[22m\u001b[39m package versions...\n",
      "\u001b[32m\u001b[1m  No Changes\u001b[22m\u001b[39m to `~/.julia/environments/v1.9/Project.toml`\n",
      "\u001b[32m\u001b[1m  No Changes\u001b[22m\u001b[39m to `~/.julia/environments/v1.9/Manifest.toml`\n",
      "\u001b[32m\u001b[1m   Resolving\u001b[22m\u001b[39m package versions...\n",
      "\u001b[32m\u001b[1m  No Changes\u001b[22m\u001b[39m to `~/.julia/environments/v1.9/Project.toml`\n",
      "\u001b[32m\u001b[1m  No Changes\u001b[22m\u001b[39m to `~/.julia/environments/v1.9/Manifest.toml`\n",
      "\u001b[32m\u001b[1m   Resolving\u001b[22m\u001b[39m package versions...\n",
      "\u001b[32m\u001b[1m   Installed\u001b[22m\u001b[39m PyCall ─ v1.96.2\n",
      "\u001b[32m\u001b[1m    Updating\u001b[22m\u001b[39m `~/.julia/environments/v1.9/Project.toml`\n",
      "  \u001b[90m[438e738f] \u001b[39m\u001b[92m+ PyCall v1.96.2\u001b[39m\n",
      "\u001b[32m\u001b[1m    Updating\u001b[22m\u001b[39m `~/.julia/environments/v1.9/Manifest.toml`\n",
      "  \u001b[90m[438e738f] \u001b[39m\u001b[92m+ PyCall v1.96.2\u001b[39m\n",
      "\u001b[32m\u001b[1m    Building\u001b[22m\u001b[39m PyCall → `~/.julia/scratchspaces/44cfe95a-1eb2-52ea-b672-e2afdf69b78f/1cb97fa63a3629c6d892af4f76fcc4ad8191837c/build.log`\n",
      "\u001b[32m\u001b[1mPrecompiling\u001b[22m\u001b[39m project...\n",
      "\u001b[32m  ✓ \u001b[39mPyCall\n",
      "\u001b[32m  ✓ \u001b[39m\u001b[90mSciMLBase → SciMLBasePyCallExt\u001b[39m\n",
      "  2 dependencies successfully precompiled in 19 seconds. 436 already precompiled.\n"
     ]
    }
   ],
   "source": [
    "# Install packages\n",
    "using Pkg\n",
    "Pkg.add(\"CSV\")\n",
    "Pkg.add(\"DataFrames\")\n",
    "Pkg.add(\"JuMP\")\n",
    "Pkg.add(\"Gurobi\")\n",
    "Pkg.add(\"Plots\")\n",
    "Pkg.add(\"JSON\")\n",
    "Pkg.add(\"PyCall\")"
   ]
  },
  {
   "cell_type": "code",
   "execution_count": 3,
   "id": "04569e45-2dbb-434d-a0a1-956e4c53e56d",
   "metadata": {},
   "outputs": [],
   "source": [
    "using CSV, DataFrames, JuMP, Gurobi, Plots, PyCall"
   ]
  },
  {
   "cell_type": "code",
   "execution_count": 4,
   "id": "423d3fd3-9a37-4ae9-bf18-f0bd0f708256",
   "metadata": {},
   "outputs": [
    {
     "data": {
      "text/plain": [
       "PyObject <module 'numpy' from '/Users/sarahbentley/.julia/conda/3/lib/python3.10/site-packages/numpy/__init__.py'>"
      ]
     },
     "execution_count": 4,
     "metadata": {},
     "output_type": "execute_result"
    }
   ],
   "source": [
    "np = pyimport(\"numpy\")"
   ]
  },
  {
   "cell_type": "markdown",
   "id": "4c03d2b8-0bb0-4600-a8c9-e61b9f8bfd6a",
   "metadata": {},
   "source": [
    "## Importing and Setting up Data"
   ]
  },
  {
   "cell_type": "code",
   "execution_count": 54,
   "id": "f6bce596-0f88-4d46-ac63-1d1d360628be",
   "metadata": {},
   "outputs": [
    {
     "data": {
      "text/html": [
       "<div><div style = \"float: left;\"><span>3535×49 DataFrame</span></div><div style = \"float: right;\"><span style = \"font-style: italic;\">3510 rows omitted</span></div><div style = \"clear: both;\"></div></div><div class = \"data-frame\" style = \"overflow-x: scroll;\"><table class = \"data-frame\" style = \"margin-bottom: 6px;\"><thead><tr class = \"header\"><th class = \"rowNumber\" style = \"font-weight: bold; text-align: right;\">Row</th><th style = \"text-align: left;\">no</th><th style = \"text-align: left;\">co</th><th style = \"text-align: left;\">cl</th><th style = \"text-align: left;\">hh</th><th style = \"text-align: left;\">ha</th><th style = \"text-align: left;\">hs</th><th style = \"text-align: left;\">he</th><th style = \"text-align: left;\">ci</th><th style = \"text-align: left;\">cw</th><th style = \"text-align: left;\">re</th><th style = \"text-align: left;\">la</th><th style = \"text-align: left;\">u1</th><th style = \"text-align: left;\">u2</th><th style = \"text-align: left;\">u3</th><th style = \"text-align: left;\">le</th><th style = \"text-align: left;\">sa</th><th style = \"text-align: left;\">mw</th><th style = \"text-align: left;\">pr</th><th style = \"text-align: left;\">on</th><th style = \"text-align: left;\">ra</th><th style = \"text-align: left;\">h</th><th style = \"text-align: left;\">si</th><th style = \"text-align: left;\">nx</th><th style = \"text-align: left;\">rp</th><th style = \"text-align: left;\">f</th><th style = \"text-align: left;\">hf</th><th style = \"text-align: left;\">vu</th><th style = \"text-align: left;\">fa</th><th style = \"text-align: left;\">sp</th><th style = \"text-align: left;\">c1</th><th style = \"text-align: left;\">c2</th><th style = \"text-align: left;\">ch</th><th style = \"text-align: left;\">bio</th><th style = \"text-align: left;\">p1</th><th style = \"text-align: left;\">p2</th><th style = \"text-align: left;\">p-64</th><th style = \"text-align: left;\">f-64</th><th style = \"text-align: left;\">m2-64</th><th style = \"text-align: left;\">m3-64</th><th style = \"text-align: left;\">dac-64</th><th style = \"text-align: left;\">moc-64</th><th style = \"text-align: left;\">dec-64</th><th style = \"text-align: left;\">coc-64</th><th style = \"text-align: left;\">huc-64</th><th style = \"text-align: left;\">cim-64</th><th style = \"text-align: left;\">cim2-64</th><th style = \"text-align: left;\">serc</th><th style = \"text-align: left;\">aus</th><th style = \"text-align: left;\">eecs</th></tr><tr class = \"subheader headerLastRow\"><th class = \"rowNumber\" style = \"font-weight: bold; text-align: right;\"></th><th title = \"String7\" style = \"text-align: left;\">String7</th><th title = \"String3\" style = \"text-align: left;\">String3</th><th title = \"String7\" style = \"text-align: left;\">String7</th><th title = \"Int64\" style = \"text-align: left;\">Int64</th><th title = \"Int64\" style = \"text-align: left;\">Int64</th><th title = \"Int64\" style = \"text-align: left;\">Int64</th><th title = \"Int64\" style = \"text-align: left;\">Int64</th><th title = \"Int64\" style = \"text-align: left;\">Int64</th><th title = \"Int64\" style = \"text-align: left;\">Int64</th><th title = \"Int64\" style = \"text-align: left;\">Int64</th><th title = \"Int64\" style = \"text-align: left;\">Int64</th><th title = \"Int64\" style = \"text-align: left;\">Int64</th><th title = \"Int64\" style = \"text-align: left;\">Int64</th><th title = \"Int64\" style = \"text-align: left;\">Int64</th><th title = \"String1\" style = \"text-align: left;\">String1</th><th title = \"String\" style = \"text-align: left;\">String</th><th title = \"String\" style = \"text-align: left;\">String</th><th title = \"String\" style = \"text-align: left;\">String</th><th title = \"Union{Missing, String7}\" style = \"text-align: left;\">String7?</th><th title = \"Float64\" style = \"text-align: left;\">Float64</th><th title = \"Float64\" style = \"text-align: left;\">Float64</th><th title = \"Float64\" style = \"text-align: left;\">Float64</th><th title = \"Int64\" style = \"text-align: left;\">Int64</th><th title = \"Int64\" style = \"text-align: left;\">Int64</th><th title = \"Int64\" style = \"text-align: left;\">Int64</th><th title = \"Int64\" style = \"text-align: left;\">Int64</th><th title = \"Float64\" style = \"text-align: left;\">Float64</th><th title = \"Int64\" style = \"text-align: left;\">Int64</th><th title = \"Int64\" style = \"text-align: left;\">Int64</th><th title = \"Int64\" style = \"text-align: left;\">Int64</th><th title = \"Int64\" style = \"text-align: left;\">Int64</th><th title = \"Int64\" style = \"text-align: left;\">Int64</th><th title = \"Int64\" style = \"text-align: left;\">Int64</th><th title = \"Int64\" style = \"text-align: left;\">Int64</th><th title = \"Int64\" style = \"text-align: left;\">Int64</th><th title = \"Int64\" style = \"text-align: left;\">Int64</th><th title = \"Int64\" style = \"text-align: left;\">Int64</th><th title = \"Int64\" style = \"text-align: left;\">Int64</th><th title = \"Int64\" style = \"text-align: left;\">Int64</th><th title = \"Int64\" style = \"text-align: left;\">Int64</th><th title = \"Int64\" style = \"text-align: left;\">Int64</th><th title = \"Int64\" style = \"text-align: left;\">Int64</th><th title = \"Int64\" style = \"text-align: left;\">Int64</th><th title = \"Int64\" style = \"text-align: left;\">Int64</th><th title = \"Int64\" style = \"text-align: left;\">Int64</th><th title = \"Int64\" style = \"text-align: left;\">Int64</th><th title = \"Int64\" style = \"text-align: left;\">Int64</th><th title = \"Int64\" style = \"text-align: left;\">Int64</th><th title = \"Int64\" style = \"text-align: left;\">Int64</th></tr></thead><tbody><tr><td class = \"rowNumber\" style = \"font-weight: bold; text-align: right;\">1</td><td style = \"text-align: left;\">1.00</td><td style = \"text-align: left;\">1</td><td style = \"text-align: left;\">00</td><td style = \"text-align: right;\">0</td><td style = \"text-align: right;\">0</td><td style = \"text-align: right;\">0</td><td style = \"text-align: right;\">0</td><td style = \"text-align: right;\">0</td><td style = \"text-align: right;\">0</td><td style = \"text-align: right;\">1</td><td style = \"text-align: right;\">0</td><td style = \"text-align: right;\">3</td><td style = \"text-align: right;\">2</td><td style = \"text-align: right;\">7</td><td style = \"text-align: left;\">U</td><td style = \"text-align: left;\">[&apos;&apos;]</td><td style = \"text-align: left;\">[&apos;1.001&apos;]</td><td style = \"text-align: left;\">[[&apos;18.01&apos;, &apos;18.01A&apos;]]</td><td style = \"font-style: italic; text-align: left;\">missing</td><td style = \"text-align: right;\">5.57</td><td style = \"text-align: right;\">13.33</td><td style = \"text-align: right;\">32.75</td><td style = \"text-align: right;\">0</td><td style = \"text-align: right;\">0</td><td style = \"text-align: right;\">0</td><td style = \"text-align: right;\">0</td><td style = \"text-align: right;\">12.0</td><td style = \"text-align: right;\">0</td><td style = \"text-align: right;\">1</td><td style = \"text-align: right;\">0</td><td style = \"text-align: right;\">0</td><td style = \"text-align: right;\">0</td><td style = \"text-align: right;\">0</td><td style = \"text-align: right;\">0</td><td style = \"text-align: right;\">0</td><td style = \"text-align: right;\">0</td><td style = \"text-align: right;\">0</td><td style = \"text-align: right;\">0</td><td style = \"text-align: right;\">0</td><td style = \"text-align: right;\">0</td><td style = \"text-align: right;\">0</td><td style = \"text-align: right;\">0</td><td style = \"text-align: right;\">0</td><td style = \"text-align: right;\">0</td><td style = \"text-align: right;\">0</td><td style = \"text-align: right;\">0</td><td style = \"text-align: right;\">0</td><td style = \"text-align: right;\">0</td><td style = \"text-align: right;\">0</td></tr><tr><td class = \"rowNumber\" style = \"font-weight: bold; text-align: right;\">2</td><td style = \"text-align: left;\">1.000</td><td style = \"text-align: left;\">1</td><td style = \"text-align: left;\">000</td><td style = \"text-align: right;\">0</td><td style = \"text-align: right;\">0</td><td style = \"text-align: right;\">0</td><td style = \"text-align: right;\">0</td><td style = \"text-align: right;\">0</td><td style = \"text-align: right;\">0</td><td style = \"text-align: right;\">1</td><td style = \"text-align: right;\">0</td><td style = \"text-align: right;\">3</td><td style = \"text-align: right;\">2</td><td style = \"text-align: right;\">7</td><td style = \"text-align: left;\">U</td><td style = \"text-align: left;\">[&apos;&apos;]</td><td style = \"text-align: left;\">[&apos;&apos;]</td><td style = \"text-align: left;\">[[&apos;18.03&apos;]]</td><td style = \"font-style: italic; text-align: left;\">missing</td><td style = \"text-align: right;\">5.7</td><td style = \"text-align: right;\">9.6</td><td style = \"text-align: right;\">13.3</td><td style = \"text-align: right;\">0</td><td style = \"text-align: right;\">0</td><td style = \"text-align: right;\">1</td><td style = \"text-align: right;\">0</td><td style = \"text-align: right;\">12.0</td><td style = \"text-align: right;\">1</td><td style = \"text-align: right;\">0</td><td style = \"text-align: right;\">0</td><td style = \"text-align: right;\">0</td><td style = \"text-align: right;\">0</td><td style = \"text-align: right;\">0</td><td style = \"text-align: right;\">0</td><td style = \"text-align: right;\">0</td><td style = \"text-align: right;\">0</td><td style = \"text-align: right;\">0</td><td style = \"text-align: right;\">0</td><td style = \"text-align: right;\">0</td><td style = \"text-align: right;\">0</td><td style = \"text-align: right;\">0</td><td style = \"text-align: right;\">0</td><td style = \"text-align: right;\">0</td><td style = \"text-align: right;\">0</td><td style = \"text-align: right;\">0</td><td style = \"text-align: right;\">0</td><td style = \"text-align: right;\">0</td><td style = \"text-align: right;\">0</td><td style = \"text-align: right;\">0</td></tr><tr><td class = \"rowNumber\" style = \"font-weight: bold; text-align: right;\">3</td><td style = \"text-align: left;\">1.001</td><td style = \"text-align: left;\">1</td><td style = \"text-align: left;\">001</td><td style = \"text-align: right;\">0</td><td style = \"text-align: right;\">0</td><td style = \"text-align: right;\">0</td><td style = \"text-align: right;\">0</td><td style = \"text-align: right;\">0</td><td style = \"text-align: right;\">0</td><td style = \"text-align: right;\">0</td><td style = \"text-align: right;\">0</td><td style = \"text-align: right;\">3</td><td style = \"text-align: right;\">2</td><td style = \"text-align: right;\">7</td><td style = \"text-align: left;\">G</td><td style = \"text-align: left;\">[&apos;&apos;]</td><td style = \"text-align: left;\">[&apos;1.00&apos;]</td><td style = \"text-align: left;\">[[&apos;18.01&apos;, &apos;18.01A&apos;]]</td><td style = \"font-style: italic; text-align: left;\">missing</td><td style = \"text-align: right;\">5.57</td><td style = \"text-align: right;\">13.33</td><td style = \"text-align: right;\">32.75</td><td style = \"text-align: right;\">0</td><td style = \"text-align: right;\">0</td><td style = \"text-align: right;\">0</td><td style = \"text-align: right;\">0</td><td style = \"text-align: right;\">12.0</td><td style = \"text-align: right;\">0</td><td style = \"text-align: right;\">1</td><td style = \"text-align: right;\">0</td><td style = \"text-align: right;\">0</td><td style = \"text-align: right;\">0</td><td style = \"text-align: right;\">0</td><td style = \"text-align: right;\">0</td><td style = \"text-align: right;\">0</td><td style = \"text-align: right;\">0</td><td style = \"text-align: right;\">0</td><td style = \"text-align: right;\">0</td><td style = \"text-align: right;\">0</td><td style = \"text-align: right;\">0</td><td style = \"text-align: right;\">0</td><td style = \"text-align: right;\">0</td><td style = \"text-align: right;\">0</td><td style = \"text-align: right;\">0</td><td style = \"text-align: right;\">0</td><td style = \"text-align: right;\">0</td><td style = \"text-align: right;\">0</td><td style = \"text-align: right;\">0</td><td style = \"text-align: right;\">0</td></tr><tr><td class = \"rowNumber\" style = \"font-weight: bold; text-align: right;\">4</td><td style = \"text-align: left;\">1.005</td><td style = \"text-align: left;\">1</td><td style = \"text-align: left;\">005</td><td style = \"text-align: right;\">0</td><td style = \"text-align: right;\">0</td><td style = \"text-align: right;\">0</td><td style = \"text-align: right;\">0</td><td style = \"text-align: right;\">0</td><td style = \"text-align: right;\">0</td><td style = \"text-align: right;\">0</td><td style = \"text-align: right;\">0</td><td style = \"text-align: right;\">1</td><td style = \"text-align: right;\">0</td><td style = \"text-align: right;\">2</td><td style = \"text-align: left;\">U</td><td style = \"text-align: left;\">[&apos;&apos;]</td><td style = \"text-align: left;\">[&apos;&apos;]</td><td style = \"text-align: left;\">[]</td><td style = \"font-style: italic; text-align: left;\">missing</td><td style = \"text-align: right;\">6.1</td><td style = \"text-align: right;\">2.7</td><td style = \"text-align: right;\">19.0</td><td style = \"text-align: right;\">0</td><td style = \"text-align: right;\">0</td><td style = \"text-align: right;\">0</td><td style = \"text-align: right;\">0</td><td style = \"text-align: right;\">3.0</td><td style = \"text-align: right;\">1</td><td style = \"text-align: right;\">0</td><td style = \"text-align: right;\">0</td><td style = \"text-align: right;\">0</td><td style = \"text-align: right;\">0</td><td style = \"text-align: right;\">0</td><td style = \"text-align: right;\">0</td><td style = \"text-align: right;\">0</td><td style = \"text-align: right;\">0</td><td style = \"text-align: right;\">0</td><td style = \"text-align: right;\">0</td><td style = \"text-align: right;\">0</td><td style = \"text-align: right;\">0</td><td style = \"text-align: right;\">0</td><td style = \"text-align: right;\">0</td><td style = \"text-align: right;\">0</td><td style = \"text-align: right;\">0</td><td style = \"text-align: right;\">0</td><td style = \"text-align: right;\">0</td><td style = \"text-align: right;\">0</td><td style = \"text-align: right;\">0</td><td style = \"text-align: right;\">0</td></tr><tr><td class = \"rowNumber\" style = \"font-weight: bold; text-align: right;\">5</td><td style = \"text-align: left;\">1.008</td><td style = \"text-align: left;\">1</td><td style = \"text-align: left;\">008</td><td style = \"text-align: right;\">0</td><td style = \"text-align: right;\">0</td><td style = \"text-align: right;\">0</td><td style = \"text-align: right;\">0</td><td style = \"text-align: right;\">0</td><td style = \"text-align: right;\">0</td><td style = \"text-align: right;\">0</td><td style = \"text-align: right;\">0</td><td style = \"text-align: right;\">1</td><td style = \"text-align: right;\">1</td><td style = \"text-align: right;\">1</td><td style = \"text-align: left;\">U</td><td style = \"text-align: left;\">[&apos;&apos;]</td><td style = \"text-align: left;\">[&apos;&apos;]</td><td style = \"text-align: left;\">[]</td><td style = \"font-style: italic; text-align: left;\">missing</td><td style = \"text-align: right;\">6.5</td><td style = \"text-align: right;\">2.4</td><td style = \"text-align: right;\">13.0</td><td style = \"text-align: right;\">0</td><td style = \"text-align: right;\">0</td><td style = \"text-align: right;\">0</td><td style = \"text-align: right;\">0</td><td style = \"text-align: right;\">3.0</td><td style = \"text-align: right;\">1</td><td style = \"text-align: right;\">0</td><td style = \"text-align: right;\">0</td><td style = \"text-align: right;\">0</td><td style = \"text-align: right;\">0</td><td style = \"text-align: right;\">0</td><td style = \"text-align: right;\">0</td><td style = \"text-align: right;\">0</td><td style = \"text-align: right;\">0</td><td style = \"text-align: right;\">0</td><td style = \"text-align: right;\">0</td><td style = \"text-align: right;\">0</td><td style = \"text-align: right;\">0</td><td style = \"text-align: right;\">0</td><td style = \"text-align: right;\">0</td><td style = \"text-align: right;\">0</td><td style = \"text-align: right;\">0</td><td style = \"text-align: right;\">0</td><td style = \"text-align: right;\">0</td><td style = \"text-align: right;\">0</td><td style = \"text-align: right;\">0</td><td style = \"text-align: right;\">0</td></tr><tr><td class = \"rowNumber\" style = \"font-weight: bold; text-align: right;\">6</td><td style = \"text-align: left;\">1.009</td><td style = \"text-align: left;\">1</td><td style = \"text-align: left;\">009</td><td style = \"text-align: right;\">0</td><td style = \"text-align: right;\">0</td><td style = \"text-align: right;\">0</td><td style = \"text-align: right;\">0</td><td style = \"text-align: right;\">0</td><td style = \"text-align: right;\">0</td><td style = \"text-align: right;\">0</td><td style = \"text-align: right;\">0</td><td style = \"text-align: right;\">1</td><td style = \"text-align: right;\">0</td><td style = \"text-align: right;\">2</td><td style = \"text-align: left;\">U</td><td style = \"text-align: left;\">[&apos;&apos;]</td><td style = \"text-align: left;\">[&apos;&apos;]</td><td style = \"text-align: left;\">[]</td><td style = \"font-style: italic; text-align: left;\">missing</td><td style = \"text-align: right;\">5.7</td><td style = \"text-align: right;\">2.8</td><td style = \"text-align: right;\">27.0</td><td style = \"text-align: right;\">0</td><td style = \"text-align: right;\">0</td><td style = \"text-align: right;\">0</td><td style = \"text-align: right;\">0</td><td style = \"text-align: right;\">3.0</td><td style = \"text-align: right;\">1</td><td style = \"text-align: right;\">0</td><td style = \"text-align: right;\">0</td><td style = \"text-align: right;\">0</td><td style = \"text-align: right;\">0</td><td style = \"text-align: right;\">0</td><td style = \"text-align: right;\">0</td><td style = \"text-align: right;\">0</td><td style = \"text-align: right;\">0</td><td style = \"text-align: right;\">0</td><td style = \"text-align: right;\">0</td><td style = \"text-align: right;\">0</td><td style = \"text-align: right;\">0</td><td style = \"text-align: right;\">0</td><td style = \"text-align: right;\">0</td><td style = \"text-align: right;\">0</td><td style = \"text-align: right;\">0</td><td style = \"text-align: right;\">0</td><td style = \"text-align: right;\">0</td><td style = \"text-align: right;\">0</td><td style = \"text-align: right;\">0</td><td style = \"text-align: right;\">0</td></tr><tr><td class = \"rowNumber\" style = \"font-weight: bold; text-align: right;\">7</td><td style = \"text-align: left;\">1.010</td><td style = \"text-align: left;\">1</td><td style = \"text-align: left;\">010</td><td style = \"text-align: right;\">0</td><td style = \"text-align: right;\">0</td><td style = \"text-align: right;\">0</td><td style = \"text-align: right;\">0</td><td style = \"text-align: right;\">0</td><td style = \"text-align: right;\">0</td><td style = \"text-align: right;\">0</td><td style = \"text-align: right;\">0</td><td style = \"text-align: right;\">5</td><td style = \"text-align: right;\">0</td><td style = \"text-align: right;\">7</td><td style = \"text-align: left;\">U</td><td style = \"text-align: left;\">[&apos;&apos;]</td><td style = \"text-align: left;\">[&apos;&apos;]</td><td style = \"text-align: left;\">[[&apos;18.02&apos;, &apos;18.02A&apos;, &apos;18.022&apos;]]</td><td style = \"font-style: italic; text-align: left;\">missing</td><td style = \"text-align: right;\">5.4</td><td style = \"text-align: right;\">8.8</td><td style = \"text-align: right;\">21.0</td><td style = \"text-align: right;\">0</td><td style = \"text-align: right;\">0</td><td style = \"text-align: right;\">0</td><td style = \"text-align: right;\">0</td><td style = \"text-align: right;\">12.0</td><td style = \"text-align: right;\">1</td><td style = \"text-align: right;\">0</td><td style = \"text-align: right;\">0</td><td style = \"text-align: right;\">0</td><td style = \"text-align: right;\">0</td><td style = \"text-align: right;\">0</td><td style = \"text-align: right;\">0</td><td style = \"text-align: right;\">0</td><td style = \"text-align: right;\">0</td><td style = \"text-align: right;\">0</td><td style = \"text-align: right;\">0</td><td style = \"text-align: right;\">0</td><td style = \"text-align: right;\">0</td><td style = \"text-align: right;\">0</td><td style = \"text-align: right;\">0</td><td style = \"text-align: right;\">0</td><td style = \"text-align: right;\">0</td><td style = \"text-align: right;\">0</td><td style = \"text-align: right;\">0</td><td style = \"text-align: right;\">0</td><td style = \"text-align: right;\">0</td><td style = \"text-align: right;\">0</td></tr><tr><td class = \"rowNumber\" style = \"font-weight: bold; text-align: right;\">8</td><td style = \"text-align: left;\">1.013</td><td style = \"text-align: left;\">1</td><td style = \"text-align: left;\">013</td><td style = \"text-align: right;\">0</td><td style = \"text-align: right;\">0</td><td style = \"text-align: right;\">0</td><td style = \"text-align: right;\">0</td><td style = \"text-align: right;\">0</td><td style = \"text-align: right;\">0</td><td style = \"text-align: right;\">0</td><td style = \"text-align: right;\">0</td><td style = \"text-align: right;\">1</td><td style = \"text-align: right;\">3</td><td style = \"text-align: right;\">2</td><td style = \"text-align: left;\">U</td><td style = \"text-align: left;\">[&apos;&apos;]</td><td style = \"text-align: left;\">[&apos;&apos;]</td><td style = \"text-align: left;\">[]</td><td style = \"font-style: italic; text-align: left;\">missing</td><td style = \"text-align: right;\">3.52</td><td style = \"text-align: right;\">11.17</td><td style = \"text-align: right;\">19.5</td><td style = \"text-align: right;\">0</td><td style = \"text-align: right;\">1</td><td style = \"text-align: right;\">0</td><td style = \"text-align: right;\">0</td><td style = \"text-align: right;\">6.0</td><td style = \"text-align: right;\">1</td><td style = \"text-align: right;\">1</td><td style = \"text-align: right;\">0</td><td style = \"text-align: right;\">0</td><td style = \"text-align: right;\">0</td><td style = \"text-align: right;\">0</td><td style = \"text-align: right;\">0</td><td style = \"text-align: right;\">0</td><td style = \"text-align: right;\">0</td><td style = \"text-align: right;\">0</td><td style = \"text-align: right;\">0</td><td style = \"text-align: right;\">0</td><td style = \"text-align: right;\">0</td><td style = \"text-align: right;\">0</td><td style = \"text-align: right;\">0</td><td style = \"text-align: right;\">0</td><td style = \"text-align: right;\">0</td><td style = \"text-align: right;\">0</td><td style = \"text-align: right;\">0</td><td style = \"text-align: right;\">0</td><td style = \"text-align: right;\">0</td><td style = \"text-align: right;\">0</td></tr><tr><td class = \"rowNumber\" style = \"font-weight: bold; text-align: right;\">9</td><td style = \"text-align: left;\">1.015</td><td style = \"text-align: left;\">1</td><td style = \"text-align: left;\">015</td><td style = \"text-align: right;\">0</td><td style = \"text-align: right;\">0</td><td style = \"text-align: right;\">0</td><td style = \"text-align: right;\">0</td><td style = \"text-align: right;\">0</td><td style = \"text-align: right;\">0</td><td style = \"text-align: right;\">0</td><td style = \"text-align: right;\">0</td><td style = \"text-align: right;\">3</td><td style = \"text-align: right;\">3</td><td style = \"text-align: right;\">6</td><td style = \"text-align: left;\">U</td><td style = \"text-align: left;\">[&apos;2.017&apos;]</td><td style = \"text-align: left;\">[&apos;&apos;]</td><td style = \"text-align: left;\">[[&apos;2.003&apos;], [&apos;2.016&apos;], [&apos;2.678&apos;]]</td><td style = \"font-style: italic; text-align: left;\">missing</td><td style = \"text-align: right;\">5.8</td><td style = \"text-align: right;\">13.26</td><td style = \"text-align: right;\">18.75</td><td style = \"text-align: right;\">0</td><td style = \"text-align: right;\">0</td><td style = \"text-align: right;\">0</td><td style = \"text-align: right;\">0</td><td style = \"text-align: right;\">12.0</td><td style = \"text-align: right;\">0</td><td style = \"text-align: right;\">1</td><td style = \"text-align: right;\">0</td><td style = \"text-align: right;\">0</td><td style = \"text-align: right;\">0</td><td style = \"text-align: right;\">0</td><td style = \"text-align: right;\">0</td><td style = \"text-align: right;\">0</td><td style = \"text-align: right;\">0</td><td style = \"text-align: right;\">0</td><td style = \"text-align: right;\">0</td><td style = \"text-align: right;\">0</td><td style = \"text-align: right;\">0</td><td style = \"text-align: right;\">0</td><td style = \"text-align: right;\">0</td><td style = \"text-align: right;\">0</td><td style = \"text-align: right;\">0</td><td style = \"text-align: right;\">0</td><td style = \"text-align: right;\">0</td><td style = \"text-align: right;\">0</td><td style = \"text-align: right;\">0</td><td style = \"text-align: right;\">0</td></tr><tr><td class = \"rowNumber\" style = \"font-weight: bold; text-align: right;\">10</td><td style = \"text-align: left;\">1.016</td><td style = \"text-align: left;\">1</td><td style = \"text-align: left;\">016</td><td style = \"text-align: right;\">0</td><td style = \"text-align: right;\">0</td><td style = \"text-align: right;\">0</td><td style = \"text-align: right;\">0</td><td style = \"text-align: right;\">0</td><td style = \"text-align: right;\">0</td><td style = \"text-align: right;\">0</td><td style = \"text-align: right;\">0</td><td style = \"text-align: right;\">3</td><td style = \"text-align: right;\">1</td><td style = \"text-align: right;\">5</td><td style = \"text-align: left;\">U</td><td style = \"text-align: left;\">[&apos;2.00C&apos;, &apos; EC.746&apos;]</td><td style = \"text-align: left;\">[&apos;&apos;]</td><td style = \"text-align: left;\">[]</td><td style = \"font-style: italic; text-align: left;\">missing</td><td style = \"text-align: right;\">5.97</td><td style = \"text-align: right;\">8.55</td><td style = \"text-align: right;\">13.0</td><td style = \"text-align: right;\">0</td><td style = \"text-align: right;\">0</td><td style = \"text-align: right;\">0</td><td style = \"text-align: right;\">0</td><td style = \"text-align: right;\">9.0</td><td style = \"text-align: right;\">0</td><td style = \"text-align: right;\">1</td><td style = \"text-align: right;\">0</td><td style = \"text-align: right;\">0</td><td style = \"text-align: right;\">0</td><td style = \"text-align: right;\">0</td><td style = \"text-align: right;\">0</td><td style = \"text-align: right;\">0</td><td style = \"text-align: right;\">0</td><td style = \"text-align: right;\">0</td><td style = \"text-align: right;\">0</td><td style = \"text-align: right;\">0</td><td style = \"text-align: right;\">0</td><td style = \"text-align: right;\">0</td><td style = \"text-align: right;\">0</td><td style = \"text-align: right;\">0</td><td style = \"text-align: right;\">0</td><td style = \"text-align: right;\">0</td><td style = \"text-align: right;\">0</td><td style = \"text-align: right;\">0</td><td style = \"text-align: right;\">0</td><td style = \"text-align: right;\">0</td></tr><tr><td class = \"rowNumber\" style = \"font-weight: bold; text-align: right;\">11</td><td style = \"text-align: left;\">1.018</td><td style = \"text-align: left;\">1</td><td style = \"text-align: left;\">018</td><td style = \"text-align: right;\">0</td><td style = \"text-align: right;\">0</td><td style = \"text-align: right;\">0</td><td style = \"text-align: right;\">0</td><td style = \"text-align: right;\">0</td><td style = \"text-align: right;\">0</td><td style = \"text-align: right;\">1</td><td style = \"text-align: right;\">0</td><td style = \"text-align: right;\">4</td><td style = \"text-align: right;\">0</td><td style = \"text-align: right;\">8</td><td style = \"text-align: left;\">U</td><td style = \"text-align: left;\">[&apos;7.30&apos;, &apos; 12.031&apos;]</td><td style = \"text-align: left;\">[&apos;&apos;]</td><td style = \"text-align: left;\">[]</td><td style = \"font-style: italic; text-align: left;\">missing</td><td style = \"text-align: right;\">5.9</td><td style = \"text-align: right;\">7.9</td><td style = \"text-align: right;\">19.5</td><td style = \"text-align: right;\">0</td><td style = \"text-align: right;\">0</td><td style = \"text-align: right;\">1</td><td style = \"text-align: right;\">0</td><td style = \"text-align: right;\">12.0</td><td style = \"text-align: right;\">1</td><td style = \"text-align: right;\">0</td><td style = \"text-align: right;\">0</td><td style = \"text-align: right;\">0</td><td style = \"text-align: right;\">0</td><td style = \"text-align: right;\">0</td><td style = \"text-align: right;\">0</td><td style = \"text-align: right;\">0</td><td style = \"text-align: right;\">0</td><td style = \"text-align: right;\">0</td><td style = \"text-align: right;\">0</td><td style = \"text-align: right;\">0</td><td style = \"text-align: right;\">0</td><td style = \"text-align: right;\">0</td><td style = \"text-align: right;\">0</td><td style = \"text-align: right;\">0</td><td style = \"text-align: right;\">0</td><td style = \"text-align: right;\">0</td><td style = \"text-align: right;\">0</td><td style = \"text-align: right;\">0</td><td style = \"text-align: right;\">0</td><td style = \"text-align: right;\">0</td></tr><tr><td class = \"rowNumber\" style = \"font-weight: bold; text-align: right;\">12</td><td style = \"text-align: left;\">1.021</td><td style = \"text-align: left;\">1</td><td style = \"text-align: left;\">021</td><td style = \"text-align: right;\">0</td><td style = \"text-align: right;\">0</td><td style = \"text-align: right;\">0</td><td style = \"text-align: right;\">0</td><td style = \"text-align: right;\">0</td><td style = \"text-align: right;\">0</td><td style = \"text-align: right;\">1</td><td style = \"text-align: right;\">0</td><td style = \"text-align: right;\">4</td><td style = \"text-align: right;\">0</td><td style = \"text-align: right;\">8</td><td style = \"text-align: left;\">U</td><td style = \"text-align: left;\">[&apos;&apos;]</td><td style = \"text-align: left;\">[&apos;&apos;]</td><td style = \"text-align: left;\">[[&apos;18.03&apos;, &apos;3.016B&apos;]]</td><td style = \"font-style: italic; text-align: left;\">missing</td><td style = \"text-align: right;\">5.23</td><td style = \"text-align: right;\">8.94</td><td style = \"text-align: right;\">10.33</td><td style = \"text-align: right;\">0</td><td style = \"text-align: right;\">0</td><td style = \"text-align: right;\">0</td><td style = \"text-align: right;\">0</td><td style = \"text-align: right;\">12.0</td><td style = \"text-align: right;\">0</td><td style = \"text-align: right;\">1</td><td style = \"text-align: right;\">0</td><td style = \"text-align: right;\">0</td><td style = \"text-align: right;\">0</td><td style = \"text-align: right;\">0</td><td style = \"text-align: right;\">0</td><td style = \"text-align: right;\">0</td><td style = \"text-align: right;\">0</td><td style = \"text-align: right;\">0</td><td style = \"text-align: right;\">0</td><td style = \"text-align: right;\">0</td><td style = \"text-align: right;\">0</td><td style = \"text-align: right;\">0</td><td style = \"text-align: right;\">0</td><td style = \"text-align: right;\">0</td><td style = \"text-align: right;\">0</td><td style = \"text-align: right;\">0</td><td style = \"text-align: right;\">0</td><td style = \"text-align: right;\">0</td><td style = \"text-align: right;\">0</td><td style = \"text-align: right;\">0</td></tr><tr><td class = \"rowNumber\" style = \"font-weight: bold; text-align: right;\">13</td><td style = \"text-align: left;\">1.022</td><td style = \"text-align: left;\">1</td><td style = \"text-align: left;\">022</td><td style = \"text-align: right;\">0</td><td style = \"text-align: right;\">0</td><td style = \"text-align: right;\">0</td><td style = \"text-align: right;\">0</td><td style = \"text-align: right;\">0</td><td style = \"text-align: right;\">0</td><td style = \"text-align: right;\">0</td><td style = \"text-align: right;\">0</td><td style = \"text-align: right;\">4</td><td style = \"text-align: right;\">0</td><td style = \"text-align: right;\">8</td><td style = \"text-align: left;\">U</td><td style = \"text-align: left;\">[&apos;&apos;]</td><td style = \"text-align: left;\">[&apos;&apos;]</td><td style = \"text-align: left;\">[[&apos;1.010&apos;], [&apos;18.03&apos;], [&apos;1.00&apos;], [&apos;1.000&apos;]]</td><td style = \"font-style: italic; text-align: left;\">missing</td><td style = \"text-align: right;\">5.8</td><td style = \"text-align: right;\">8.0</td><td style = \"text-align: right;\">4.3</td><td style = \"text-align: right;\">0</td><td style = \"text-align: right;\">0</td><td style = \"text-align: right;\">0</td><td style = \"text-align: right;\">0</td><td style = \"text-align: right;\">12.0</td><td style = \"text-align: right;\">1</td><td style = \"text-align: right;\">0</td><td style = \"text-align: right;\">0</td><td style = \"text-align: right;\">0</td><td style = \"text-align: right;\">0</td><td style = \"text-align: right;\">0</td><td style = \"text-align: right;\">0</td><td style = \"text-align: right;\">0</td><td style = \"text-align: right;\">0</td><td style = \"text-align: right;\">0</td><td style = \"text-align: right;\">0</td><td style = \"text-align: right;\">0</td><td style = \"text-align: right;\">0</td><td style = \"text-align: right;\">0</td><td style = \"text-align: right;\">0</td><td style = \"text-align: right;\">0</td><td style = \"text-align: right;\">0</td><td style = \"text-align: right;\">0</td><td style = \"text-align: right;\">0</td><td style = \"text-align: right;\">0</td><td style = \"text-align: right;\">0</td><td style = \"text-align: right;\">0</td></tr><tr><td style = \"text-align: right;\">&vellip;</td><td style = \"text-align: right;\">&vellip;</td><td style = \"text-align: right;\">&vellip;</td><td style = \"text-align: right;\">&vellip;</td><td style = \"text-align: right;\">&vellip;</td><td style = \"text-align: right;\">&vellip;</td><td style = \"text-align: right;\">&vellip;</td><td style = \"text-align: right;\">&vellip;</td><td style = \"text-align: right;\">&vellip;</td><td style = \"text-align: right;\">&vellip;</td><td style = \"text-align: right;\">&vellip;</td><td style = \"text-align: right;\">&vellip;</td><td style = \"text-align: right;\">&vellip;</td><td style = \"text-align: right;\">&vellip;</td><td style = \"text-align: right;\">&vellip;</td><td style = \"text-align: right;\">&vellip;</td><td style = \"text-align: right;\">&vellip;</td><td style = \"text-align: right;\">&vellip;</td><td style = \"text-align: right;\">&vellip;</td><td style = \"text-align: right;\">&vellip;</td><td style = \"text-align: right;\">&vellip;</td><td style = \"text-align: right;\">&vellip;</td><td style = \"text-align: right;\">&vellip;</td><td style = \"text-align: right;\">&vellip;</td><td style = \"text-align: right;\">&vellip;</td><td style = \"text-align: right;\">&vellip;</td><td style = \"text-align: right;\">&vellip;</td><td style = \"text-align: right;\">&vellip;</td><td style = \"text-align: right;\">&vellip;</td><td style = \"text-align: right;\">&vellip;</td><td style = \"text-align: right;\">&vellip;</td><td style = \"text-align: right;\">&vellip;</td><td style = \"text-align: right;\">&vellip;</td><td style = \"text-align: right;\">&vellip;</td><td style = \"text-align: right;\">&vellip;</td><td style = \"text-align: right;\">&vellip;</td><td style = \"text-align: right;\">&vellip;</td><td style = \"text-align: right;\">&vellip;</td><td style = \"text-align: right;\">&vellip;</td><td style = \"text-align: right;\">&vellip;</td><td style = \"text-align: right;\">&vellip;</td><td style = \"text-align: right;\">&vellip;</td><td style = \"text-align: right;\">&vellip;</td><td style = \"text-align: right;\">&vellip;</td><td style = \"text-align: right;\">&vellip;</td><td style = \"text-align: right;\">&vellip;</td><td style = \"text-align: right;\">&vellip;</td><td style = \"text-align: right;\">&vellip;</td><td style = \"text-align: right;\">&vellip;</td><td style = \"text-align: right;\">&vellip;</td></tr><tr><td class = \"rowNumber\" style = \"font-weight: bold; text-align: right;\">3524</td><td style = \"text-align: left;\">WGS.303</td><td style = \"text-align: left;\">WGS</td><td style = \"text-align: left;\">303</td><td style = \"text-align: right;\">1</td><td style = \"text-align: right;\">0</td><td style = \"text-align: right;\">0</td><td style = \"text-align: right;\">0</td><td style = \"text-align: right;\">0</td><td style = \"text-align: right;\">0</td><td style = \"text-align: right;\">0</td><td style = \"text-align: right;\">0</td><td style = \"text-align: right;\">3</td><td style = \"text-align: right;\">0</td><td style = \"text-align: right;\">9</td><td style = \"text-align: left;\">U</td><td style = \"text-align: left;\">[&apos;21H.109&apos;]</td><td style = \"text-align: left;\">[&apos;21H.983&apos;, &apos; WGS.310&apos;]</td><td style = \"text-align: left;\">[]</td><td style = \"font-style: italic; text-align: left;\">missing</td><td style = \"text-align: right;\">0.0</td><td style = \"text-align: right;\">0.0</td><td style = \"text-align: right;\">0.0</td><td style = \"text-align: right;\">1</td><td style = \"text-align: right;\">0</td><td style = \"text-align: right;\">0</td><td style = \"text-align: right;\">0</td><td style = \"text-align: right;\">12.0</td><td style = \"text-align: right;\">0</td><td style = \"text-align: right;\">1</td><td style = \"text-align: right;\">0</td><td style = \"text-align: right;\">0</td><td style = \"text-align: right;\">0</td><td style = \"text-align: right;\">0</td><td style = \"text-align: right;\">0</td><td style = \"text-align: right;\">0</td><td style = \"text-align: right;\">0</td><td style = \"text-align: right;\">0</td><td style = \"text-align: right;\">0</td><td style = \"text-align: right;\">0</td><td style = \"text-align: right;\">0</td><td style = \"text-align: right;\">0</td><td style = \"text-align: right;\">0</td><td style = \"text-align: right;\">0</td><td style = \"text-align: right;\">0</td><td style = \"text-align: right;\">0</td><td style = \"text-align: right;\">0</td><td style = \"text-align: right;\">0</td><td style = \"text-align: right;\">0</td><td style = \"text-align: right;\">0</td></tr><tr><td class = \"rowNumber\" style = \"font-weight: bold; text-align: right;\">3525</td><td style = \"text-align: left;\">WGS.310</td><td style = \"text-align: left;\">WGS</td><td style = \"text-align: left;\">310</td><td style = \"text-align: right;\">0</td><td style = \"text-align: right;\">0</td><td style = \"text-align: right;\">0</td><td style = \"text-align: right;\">0</td><td style = \"text-align: right;\">0</td><td style = \"text-align: right;\">0</td><td style = \"text-align: right;\">0</td><td style = \"text-align: right;\">0</td><td style = \"text-align: right;\">3</td><td style = \"text-align: right;\">0</td><td style = \"text-align: right;\">9</td><td style = \"text-align: left;\">G</td><td style = \"text-align: left;\">[&apos;21H.983&apos;]</td><td style = \"text-align: left;\">[&apos;21H.109&apos;, &apos; WGS.303&apos;]</td><td style = \"text-align: left;\">[]</td><td style = \"font-style: italic; text-align: left;\">missing</td><td style = \"text-align: right;\">0.0</td><td style = \"text-align: right;\">0.0</td><td style = \"text-align: right;\">0.0</td><td style = \"text-align: right;\">1</td><td style = \"text-align: right;\">0</td><td style = \"text-align: right;\">0</td><td style = \"text-align: right;\">0</td><td style = \"text-align: right;\">12.0</td><td style = \"text-align: right;\">0</td><td style = \"text-align: right;\">1</td><td style = \"text-align: right;\">0</td><td style = \"text-align: right;\">0</td><td style = \"text-align: right;\">0</td><td style = \"text-align: right;\">0</td><td style = \"text-align: right;\">0</td><td style = \"text-align: right;\">0</td><td style = \"text-align: right;\">0</td><td style = \"text-align: right;\">0</td><td style = \"text-align: right;\">0</td><td style = \"text-align: right;\">0</td><td style = \"text-align: right;\">0</td><td style = \"text-align: right;\">0</td><td style = \"text-align: right;\">0</td><td style = \"text-align: right;\">0</td><td style = \"text-align: right;\">0</td><td style = \"text-align: right;\">0</td><td style = \"text-align: right;\">0</td><td style = \"text-align: right;\">0</td><td style = \"text-align: right;\">0</td><td style = \"text-align: right;\">0</td></tr><tr><td class = \"rowNumber\" style = \"font-weight: bold; text-align: right;\">3526</td><td style = \"text-align: left;\">WGS.321</td><td style = \"text-align: left;\">WGS</td><td style = \"text-align: left;\">321</td><td style = \"text-align: right;\">1</td><td style = \"text-align: right;\">0</td><td style = \"text-align: right;\">0</td><td style = \"text-align: right;\">0</td><td style = \"text-align: right;\">0</td><td style = \"text-align: right;\">0</td><td style = \"text-align: right;\">0</td><td style = \"text-align: right;\">0</td><td style = \"text-align: right;\">3</td><td style = \"text-align: right;\">0</td><td style = \"text-align: right;\">9</td><td style = \"text-align: left;\">U</td><td style = \"text-align: left;\">[&apos;21G.344&apos;, &apos; 21L.621&apos;]</td><td style = \"text-align: left;\">[&apos;&apos;]</td><td style = \"text-align: left;\">[]</td><td style = \"font-style: italic; text-align: left;\">missing</td><td style = \"text-align: right;\">0.0</td><td style = \"text-align: right;\">0.0</td><td style = \"text-align: right;\">0.0</td><td style = \"text-align: right;\">1</td><td style = \"text-align: right;\">0</td><td style = \"text-align: right;\">0</td><td style = \"text-align: right;\">0</td><td style = \"text-align: right;\">12.0</td><td style = \"text-align: right;\">1</td><td style = \"text-align: right;\">0</td><td style = \"text-align: right;\">0</td><td style = \"text-align: right;\">0</td><td style = \"text-align: right;\">0</td><td style = \"text-align: right;\">0</td><td style = \"text-align: right;\">0</td><td style = \"text-align: right;\">0</td><td style = \"text-align: right;\">0</td><td style = \"text-align: right;\">0</td><td style = \"text-align: right;\">0</td><td style = \"text-align: right;\">0</td><td style = \"text-align: right;\">0</td><td style = \"text-align: right;\">0</td><td style = \"text-align: right;\">0</td><td style = \"text-align: right;\">0</td><td style = \"text-align: right;\">0</td><td style = \"text-align: right;\">0</td><td style = \"text-align: right;\">0</td><td style = \"text-align: right;\">0</td><td style = \"text-align: right;\">0</td><td style = \"text-align: right;\">0</td></tr><tr><td class = \"rowNumber\" style = \"font-weight: bold; text-align: right;\">3527</td><td style = \"text-align: left;\">WGS.400</td><td style = \"text-align: left;\">WGS</td><td style = \"text-align: left;\">400</td><td style = \"text-align: right;\">0</td><td style = \"text-align: right;\">0</td><td style = \"text-align: right;\">0</td><td style = \"text-align: right;\">0</td><td style = \"text-align: right;\">0</td><td style = \"text-align: right;\">0</td><td style = \"text-align: right;\">0</td><td style = \"text-align: right;\">0</td><td style = \"text-align: right;\">0</td><td style = \"text-align: right;\">0</td><td style = \"text-align: right;\">0</td><td style = \"text-align: left;\">U</td><td style = \"text-align: left;\">[&apos;&apos;]</td><td style = \"text-align: left;\">[&apos;&apos;]</td><td style = \"text-align: left;\">[]</td><td style = \"font-style: italic; text-align: left;\">missing</td><td style = \"text-align: right;\">0.0</td><td style = \"text-align: right;\">0.0</td><td style = \"text-align: right;\">0.0</td><td style = \"text-align: right;\">0</td><td style = \"text-align: right;\">1</td><td style = \"text-align: right;\">0</td><td style = \"text-align: right;\">0</td><td style = \"text-align: right;\">0.0</td><td style = \"text-align: right;\">1</td><td style = \"text-align: right;\">1</td><td style = \"text-align: right;\">0</td><td style = \"text-align: right;\">0</td><td style = \"text-align: right;\">0</td><td style = \"text-align: right;\">0</td><td style = \"text-align: right;\">0</td><td style = \"text-align: right;\">0</td><td style = \"text-align: right;\">0</td><td style = \"text-align: right;\">0</td><td style = \"text-align: right;\">0</td><td style = \"text-align: right;\">0</td><td style = \"text-align: right;\">0</td><td style = \"text-align: right;\">0</td><td style = \"text-align: right;\">0</td><td style = \"text-align: right;\">0</td><td style = \"text-align: right;\">0</td><td style = \"text-align: right;\">0</td><td style = \"text-align: right;\">0</td><td style = \"text-align: right;\">0</td><td style = \"text-align: right;\">0</td><td style = \"text-align: right;\">0</td></tr><tr><td class = \"rowNumber\" style = \"font-weight: bold; text-align: right;\">3528</td><td style = \"text-align: left;\">WGS.610</td><td style = \"text-align: left;\">WGS</td><td style = \"text-align: left;\">610</td><td style = \"text-align: right;\">0</td><td style = \"text-align: right;\">0</td><td style = \"text-align: right;\">0</td><td style = \"text-align: right;\">0</td><td style = \"text-align: right;\">0</td><td style = \"text-align: right;\">0</td><td style = \"text-align: right;\">0</td><td style = \"text-align: right;\">0</td><td style = \"text-align: right;\">3</td><td style = \"text-align: right;\">0</td><td style = \"text-align: right;\">9</td><td style = \"text-align: left;\">G</td><td style = \"text-align: left;\">[&apos;&apos;]</td><td style = \"text-align: left;\">[&apos;&apos;]</td><td style = \"text-align: left;\">[]</td><td style = \"font-style: italic; text-align: left;\">missing</td><td style = \"text-align: right;\">0.0</td><td style = \"text-align: right;\">0.0</td><td style = \"text-align: right;\">0.0</td><td style = \"text-align: right;\">0</td><td style = \"text-align: right;\">1</td><td style = \"text-align: right;\">0</td><td style = \"text-align: right;\">0</td><td style = \"text-align: right;\">12.0</td><td style = \"text-align: right;\">1</td><td style = \"text-align: right;\">0</td><td style = \"text-align: right;\">0</td><td style = \"text-align: right;\">0</td><td style = \"text-align: right;\">0</td><td style = \"text-align: right;\">0</td><td style = \"text-align: right;\">0</td><td style = \"text-align: right;\">0</td><td style = \"text-align: right;\">0</td><td style = \"text-align: right;\">0</td><td style = \"text-align: right;\">0</td><td style = \"text-align: right;\">0</td><td style = \"text-align: right;\">0</td><td style = \"text-align: right;\">0</td><td style = \"text-align: right;\">0</td><td style = \"text-align: right;\">0</td><td style = \"text-align: right;\">0</td><td style = \"text-align: right;\">0</td><td style = \"text-align: right;\">0</td><td style = \"text-align: right;\">0</td><td style = \"text-align: right;\">0</td><td style = \"text-align: right;\">0</td></tr><tr><td class = \"rowNumber\" style = \"font-weight: bold; text-align: right;\">3529</td><td style = \"text-align: left;\">WGS.615</td><td style = \"text-align: left;\">WGS</td><td style = \"text-align: left;\">615</td><td style = \"text-align: right;\">0</td><td style = \"text-align: right;\">0</td><td style = \"text-align: right;\">0</td><td style = \"text-align: right;\">0</td><td style = \"text-align: right;\">0</td><td style = \"text-align: right;\">0</td><td style = \"text-align: right;\">0</td><td style = \"text-align: right;\">0</td><td style = \"text-align: right;\">3</td><td style = \"text-align: right;\">0</td><td style = \"text-align: right;\">9</td><td style = \"text-align: left;\">G</td><td style = \"text-align: left;\">[&apos;&apos;]</td><td style = \"text-align: left;\">[&apos;&apos;]</td><td style = \"text-align: left;\">[]</td><td style = \"font-style: italic; text-align: left;\">missing</td><td style = \"text-align: right;\">0.0</td><td style = \"text-align: right;\">0.0</td><td style = \"text-align: right;\">0.0</td><td style = \"text-align: right;\">0</td><td style = \"text-align: right;\">1</td><td style = \"text-align: right;\">0</td><td style = \"text-align: right;\">0</td><td style = \"text-align: right;\">12.0</td><td style = \"text-align: right;\">0</td><td style = \"text-align: right;\">1</td><td style = \"text-align: right;\">0</td><td style = \"text-align: right;\">0</td><td style = \"text-align: right;\">0</td><td style = \"text-align: right;\">0</td><td style = \"text-align: right;\">0</td><td style = \"text-align: right;\">0</td><td style = \"text-align: right;\">0</td><td style = \"text-align: right;\">0</td><td style = \"text-align: right;\">0</td><td style = \"text-align: right;\">0</td><td style = \"text-align: right;\">0</td><td style = \"text-align: right;\">0</td><td style = \"text-align: right;\">0</td><td style = \"text-align: right;\">0</td><td style = \"text-align: right;\">0</td><td style = \"text-align: right;\">0</td><td style = \"text-align: right;\">0</td><td style = \"text-align: right;\">0</td><td style = \"text-align: right;\">0</td><td style = \"text-align: right;\">0</td></tr><tr><td class = \"rowNumber\" style = \"font-weight: bold; text-align: right;\">3530</td><td style = \"text-align: left;\">WGS.640</td><td style = \"text-align: left;\">WGS</td><td style = \"text-align: left;\">640</td><td style = \"text-align: right;\">0</td><td style = \"text-align: right;\">0</td><td style = \"text-align: right;\">0</td><td style = \"text-align: right;\">0</td><td style = \"text-align: right;\">0</td><td style = \"text-align: right;\">0</td><td style = \"text-align: right;\">0</td><td style = \"text-align: right;\">0</td><td style = \"text-align: right;\">3</td><td style = \"text-align: right;\">0</td><td style = \"text-align: right;\">9</td><td style = \"text-align: left;\">G</td><td style = \"text-align: left;\">[&apos;&apos;]</td><td style = \"text-align: left;\">[&apos;&apos;]</td><td style = \"text-align: left;\">[]</td><td style = \"font-style: italic; text-align: left;\">missing</td><td style = \"text-align: right;\">0.0</td><td style = \"text-align: right;\">0.0</td><td style = \"text-align: right;\">0.0</td><td style = \"text-align: right;\">0</td><td style = \"text-align: right;\">1</td><td style = \"text-align: right;\">0</td><td style = \"text-align: right;\">0</td><td style = \"text-align: right;\">12.0</td><td style = \"text-align: right;\">0</td><td style = \"text-align: right;\">1</td><td style = \"text-align: right;\">0</td><td style = \"text-align: right;\">0</td><td style = \"text-align: right;\">0</td><td style = \"text-align: right;\">0</td><td style = \"text-align: right;\">0</td><td style = \"text-align: right;\">0</td><td style = \"text-align: right;\">0</td><td style = \"text-align: right;\">0</td><td style = \"text-align: right;\">0</td><td style = \"text-align: right;\">0</td><td style = \"text-align: right;\">0</td><td style = \"text-align: right;\">0</td><td style = \"text-align: right;\">0</td><td style = \"text-align: right;\">0</td><td style = \"text-align: right;\">0</td><td style = \"text-align: right;\">0</td><td style = \"text-align: right;\">0</td><td style = \"text-align: right;\">0</td><td style = \"text-align: right;\">0</td><td style = \"text-align: right;\">0</td></tr><tr><td class = \"rowNumber\" style = \"font-weight: bold; text-align: right;\">3531</td><td style = \"text-align: left;\">WGS.645</td><td style = \"text-align: left;\">WGS</td><td style = \"text-align: left;\">645</td><td style = \"text-align: right;\">0</td><td style = \"text-align: right;\">0</td><td style = \"text-align: right;\">0</td><td style = \"text-align: right;\">0</td><td style = \"text-align: right;\">0</td><td style = \"text-align: right;\">0</td><td style = \"text-align: right;\">0</td><td style = \"text-align: right;\">0</td><td style = \"text-align: right;\">3</td><td style = \"text-align: right;\">0</td><td style = \"text-align: right;\">9</td><td style = \"text-align: left;\">G</td><td style = \"text-align: left;\">[&apos;&apos;]</td><td style = \"text-align: left;\">[&apos;&apos;]</td><td style = \"text-align: left;\">[]</td><td style = \"font-style: italic; text-align: left;\">missing</td><td style = \"text-align: right;\">0.0</td><td style = \"text-align: right;\">0.0</td><td style = \"text-align: right;\">0.0</td><td style = \"text-align: right;\">0</td><td style = \"text-align: right;\">1</td><td style = \"text-align: right;\">0</td><td style = \"text-align: right;\">0</td><td style = \"text-align: right;\">12.0</td><td style = \"text-align: right;\">0</td><td style = \"text-align: right;\">1</td><td style = \"text-align: right;\">0</td><td style = \"text-align: right;\">0</td><td style = \"text-align: right;\">0</td><td style = \"text-align: right;\">0</td><td style = \"text-align: right;\">0</td><td style = \"text-align: right;\">0</td><td style = \"text-align: right;\">0</td><td style = \"text-align: right;\">0</td><td style = \"text-align: right;\">0</td><td style = \"text-align: right;\">0</td><td style = \"text-align: right;\">0</td><td style = \"text-align: right;\">0</td><td style = \"text-align: right;\">0</td><td style = \"text-align: right;\">0</td><td style = \"text-align: right;\">0</td><td style = \"text-align: right;\">0</td><td style = \"text-align: right;\">0</td><td style = \"text-align: right;\">0</td><td style = \"text-align: right;\">0</td><td style = \"text-align: right;\">0</td></tr><tr><td class = \"rowNumber\" style = \"font-weight: bold; text-align: right;\">3532</td><td style = \"text-align: left;\">WGS.700</td><td style = \"text-align: left;\">WGS</td><td style = \"text-align: left;\">700</td><td style = \"text-align: right;\">0</td><td style = \"text-align: right;\">0</td><td style = \"text-align: right;\">0</td><td style = \"text-align: right;\">0</td><td style = \"text-align: right;\">0</td><td style = \"text-align: right;\">0</td><td style = \"text-align: right;\">0</td><td style = \"text-align: right;\">0</td><td style = \"text-align: right;\">3</td><td style = \"text-align: right;\">0</td><td style = \"text-align: right;\">9</td><td style = \"text-align: left;\">G</td><td style = \"text-align: left;\">[&apos;&apos;]</td><td style = \"text-align: left;\">[&apos;&apos;]</td><td style = \"text-align: left;\">[]</td><td style = \"font-style: italic; text-align: left;\">missing</td><td style = \"text-align: right;\">0.0</td><td style = \"text-align: right;\">0.0</td><td style = \"text-align: right;\">0.0</td><td style = \"text-align: right;\">0</td><td style = \"text-align: right;\">1</td><td style = \"text-align: right;\">0</td><td style = \"text-align: right;\">0</td><td style = \"text-align: right;\">12.0</td><td style = \"text-align: right;\">1</td><td style = \"text-align: right;\">0</td><td style = \"text-align: right;\">0</td><td style = \"text-align: right;\">0</td><td style = \"text-align: right;\">0</td><td style = \"text-align: right;\">0</td><td style = \"text-align: right;\">0</td><td style = \"text-align: right;\">0</td><td style = \"text-align: right;\">0</td><td style = \"text-align: right;\">0</td><td style = \"text-align: right;\">0</td><td style = \"text-align: right;\">0</td><td style = \"text-align: right;\">0</td><td style = \"text-align: right;\">0</td><td style = \"text-align: right;\">0</td><td style = \"text-align: right;\">0</td><td style = \"text-align: right;\">0</td><td style = \"text-align: right;\">0</td><td style = \"text-align: right;\">0</td><td style = \"text-align: right;\">0</td><td style = \"text-align: right;\">0</td><td style = \"text-align: right;\">0</td></tr><tr><td class = \"rowNumber\" style = \"font-weight: bold; text-align: right;\">3533</td><td style = \"text-align: left;\">WGS.S10</td><td style = \"text-align: left;\">WGS</td><td style = \"text-align: left;\">S10</td><td style = \"text-align: right;\">0</td><td style = \"text-align: right;\">0</td><td style = \"text-align: right;\">0</td><td style = \"text-align: right;\">0</td><td style = \"text-align: right;\">0</td><td style = \"text-align: right;\">0</td><td style = \"text-align: right;\">0</td><td style = \"text-align: right;\">0</td><td style = \"text-align: right;\">3</td><td style = \"text-align: right;\">0</td><td style = \"text-align: right;\">9</td><td style = \"text-align: left;\">G</td><td style = \"text-align: left;\">[&apos;&apos;]</td><td style = \"text-align: left;\">[&apos;&apos;]</td><td style = \"text-align: left;\">[]</td><td style = \"font-style: italic; text-align: left;\">missing</td><td style = \"text-align: right;\">5.83</td><td style = \"text-align: right;\">10.13</td><td style = \"text-align: right;\">6.67</td><td style = \"text-align: right;\">0</td><td style = \"text-align: right;\">1</td><td style = \"text-align: right;\">0</td><td style = \"text-align: right;\">0</td><td style = \"text-align: right;\">12.0</td><td style = \"text-align: right;\">1</td><td style = \"text-align: right;\">1</td><td style = \"text-align: right;\">0</td><td style = \"text-align: right;\">0</td><td style = \"text-align: right;\">0</td><td style = \"text-align: right;\">0</td><td style = \"text-align: right;\">0</td><td style = \"text-align: right;\">0</td><td style = \"text-align: right;\">0</td><td style = \"text-align: right;\">0</td><td style = \"text-align: right;\">0</td><td style = \"text-align: right;\">0</td><td style = \"text-align: right;\">0</td><td style = \"text-align: right;\">0</td><td style = \"text-align: right;\">0</td><td style = \"text-align: right;\">0</td><td style = \"text-align: right;\">0</td><td style = \"text-align: right;\">0</td><td style = \"text-align: right;\">0</td><td style = \"text-align: right;\">0</td><td style = \"text-align: right;\">0</td><td style = \"text-align: right;\">0</td></tr><tr><td class = \"rowNumber\" style = \"font-weight: bold; text-align: right;\">3534</td><td style = \"text-align: left;\">WGS.UR</td><td style = \"text-align: left;\">WGS</td><td style = \"text-align: left;\">UR</td><td style = \"text-align: right;\">0</td><td style = \"text-align: right;\">0</td><td style = \"text-align: right;\">0</td><td style = \"text-align: right;\">0</td><td style = \"text-align: right;\">0</td><td style = \"text-align: right;\">0</td><td style = \"text-align: right;\">0</td><td style = \"text-align: right;\">0</td><td style = \"text-align: right;\">0</td><td style = \"text-align: right;\">0</td><td style = \"text-align: right;\">0</td><td style = \"text-align: left;\">U</td><td style = \"text-align: left;\">[&apos;&apos;]</td><td style = \"text-align: left;\">[&apos;&apos;]</td><td style = \"text-align: left;\">[]</td><td style = \"font-style: italic; text-align: left;\">missing</td><td style = \"text-align: right;\">0.0</td><td style = \"text-align: right;\">0.0</td><td style = \"text-align: right;\">0.0</td><td style = \"text-align: right;\">0</td><td style = \"text-align: right;\">1</td><td style = \"text-align: right;\">0</td><td style = \"text-align: right;\">0</td><td style = \"text-align: right;\">0.0</td><td style = \"text-align: right;\">1</td><td style = \"text-align: right;\">1</td><td style = \"text-align: right;\">0</td><td style = \"text-align: right;\">0</td><td style = \"text-align: right;\">0</td><td style = \"text-align: right;\">0</td><td style = \"text-align: right;\">0</td><td style = \"text-align: right;\">0</td><td style = \"text-align: right;\">0</td><td style = \"text-align: right;\">0</td><td style = \"text-align: right;\">0</td><td style = \"text-align: right;\">0</td><td style = \"text-align: right;\">0</td><td style = \"text-align: right;\">0</td><td style = \"text-align: right;\">0</td><td style = \"text-align: right;\">0</td><td style = \"text-align: right;\">0</td><td style = \"text-align: right;\">0</td><td style = \"text-align: right;\">0</td><td style = \"text-align: right;\">0</td><td style = \"text-align: right;\">0</td><td style = \"text-align: right;\">0</td></tr><tr><td class = \"rowNumber\" style = \"font-weight: bold; text-align: right;\">3535</td><td style = \"text-align: left;\">WGS.URG</td><td style = \"text-align: left;\">WGS</td><td style = \"text-align: left;\">URG</td><td style = \"text-align: right;\">0</td><td style = \"text-align: right;\">0</td><td style = \"text-align: right;\">0</td><td style = \"text-align: right;\">0</td><td style = \"text-align: right;\">0</td><td style = \"text-align: right;\">0</td><td style = \"text-align: right;\">0</td><td style = \"text-align: right;\">0</td><td style = \"text-align: right;\">0</td><td style = \"text-align: right;\">0</td><td style = \"text-align: right;\">0</td><td style = \"text-align: left;\">U</td><td style = \"text-align: left;\">[&apos;&apos;]</td><td style = \"text-align: left;\">[&apos;&apos;]</td><td style = \"text-align: left;\">[]</td><td style = \"font-style: italic; text-align: left;\">missing</td><td style = \"text-align: right;\">0.0</td><td style = \"text-align: right;\">0.0</td><td style = \"text-align: right;\">0.0</td><td style = \"text-align: right;\">0</td><td style = \"text-align: right;\">1</td><td style = \"text-align: right;\">0</td><td style = \"text-align: right;\">0</td><td style = \"text-align: right;\">0.0</td><td style = \"text-align: right;\">1</td><td style = \"text-align: right;\">1</td><td style = \"text-align: right;\">0</td><td style = \"text-align: right;\">0</td><td style = \"text-align: right;\">0</td><td style = \"text-align: right;\">0</td><td style = \"text-align: right;\">0</td><td style = \"text-align: right;\">0</td><td style = \"text-align: right;\">0</td><td style = \"text-align: right;\">0</td><td style = \"text-align: right;\">0</td><td style = \"text-align: right;\">0</td><td style = \"text-align: right;\">0</td><td style = \"text-align: right;\">0</td><td style = \"text-align: right;\">0</td><td style = \"text-align: right;\">0</td><td style = \"text-align: right;\">0</td><td style = \"text-align: right;\">0</td><td style = \"text-align: right;\">0</td><td style = \"text-align: right;\">0</td><td style = \"text-align: right;\">0</td><td style = \"text-align: right;\">0</td></tr></tbody></table></div>"
      ],
      "text/latex": [
       "\\begin{tabular}{r|cccccccccccc}\n",
       "\t& no & co & cl & hh & ha & hs & he & ci & cw & re & la & \\\\\n",
       "\t\\hline\n",
       "\t& String7 & String3 & String7 & Int64 & Int64 & Int64 & Int64 & Int64 & Int64 & Int64 & Int64 & \\\\\n",
       "\t\\hline\n",
       "\t1 & 1.00 & 1 & 00 & 0 & 0 & 0 & 0 & 0 & 0 & 1 & 0 & $\\dots$ \\\\\n",
       "\t2 & 1.000 & 1 & 000 & 0 & 0 & 0 & 0 & 0 & 0 & 1 & 0 & $\\dots$ \\\\\n",
       "\t3 & 1.001 & 1 & 001 & 0 & 0 & 0 & 0 & 0 & 0 & 0 & 0 & $\\dots$ \\\\\n",
       "\t4 & 1.005 & 1 & 005 & 0 & 0 & 0 & 0 & 0 & 0 & 0 & 0 & $\\dots$ \\\\\n",
       "\t5 & 1.008 & 1 & 008 & 0 & 0 & 0 & 0 & 0 & 0 & 0 & 0 & $\\dots$ \\\\\n",
       "\t6 & 1.009 & 1 & 009 & 0 & 0 & 0 & 0 & 0 & 0 & 0 & 0 & $\\dots$ \\\\\n",
       "\t7 & 1.010 & 1 & 010 & 0 & 0 & 0 & 0 & 0 & 0 & 0 & 0 & $\\dots$ \\\\\n",
       "\t8 & 1.013 & 1 & 013 & 0 & 0 & 0 & 0 & 0 & 0 & 0 & 0 & $\\dots$ \\\\\n",
       "\t9 & 1.015 & 1 & 015 & 0 & 0 & 0 & 0 & 0 & 0 & 0 & 0 & $\\dots$ \\\\\n",
       "\t10 & 1.016 & 1 & 016 & 0 & 0 & 0 & 0 & 0 & 0 & 0 & 0 & $\\dots$ \\\\\n",
       "\t11 & 1.018 & 1 & 018 & 0 & 0 & 0 & 0 & 0 & 0 & 1 & 0 & $\\dots$ \\\\\n",
       "\t12 & 1.021 & 1 & 021 & 0 & 0 & 0 & 0 & 0 & 0 & 1 & 0 & $\\dots$ \\\\\n",
       "\t13 & 1.022 & 1 & 022 & 0 & 0 & 0 & 0 & 0 & 0 & 0 & 0 & $\\dots$ \\\\\n",
       "\t14 & 1.032 & 1 & 032 & 0 & 0 & 0 & 0 & 0 & 0 & 0 & 0 & $\\dots$ \\\\\n",
       "\t15 & 1.036 & 1 & 036 & 0 & 0 & 0 & 0 & 0 & 0 & 0 & 0 & $\\dots$ \\\\\n",
       "\t16 & 1.041 & 1 & 041 & 0 & 0 & 0 & 0 & 0 & 0 & 0 & 0 & $\\dots$ \\\\\n",
       "\t17 & 1.050 & 1 & 050 & 0 & 0 & 0 & 0 & 0 & 0 & 1 & 0 & $\\dots$ \\\\\n",
       "\t18 & 1.052 & 1 & 052 & 0 & 0 & 0 & 0 & 0 & 0 & 0 & 0 & $\\dots$ \\\\\n",
       "\t19 & 1.053 & 1 & 053 & 0 & 0 & 0 & 0 & 0 & 0 & 1 & 0 & $\\dots$ \\\\\n",
       "\t20 & 1.054 & 1 & 054 & 0 & 0 & 0 & 0 & 0 & 0 & 0 & 0 & $\\dots$ \\\\\n",
       "\t21 & 1.056 & 1 & 056 & 0 & 0 & 0 & 0 & 0 & 0 & 1 & 0 & $\\dots$ \\\\\n",
       "\t22 & 1.057 & 1 & 057 & 0 & 0 & 0 & 0 & 0 & 0 & 0 & 0 & $\\dots$ \\\\\n",
       "\t23 & 1.058 & 1 & 058 & 0 & 0 & 0 & 0 & 0 & 0 & 0 & 0 & $\\dots$ \\\\\n",
       "\t24 & 1.060 & 1 & 060 & 0 & 0 & 0 & 0 & 0 & 0 & 0 & 0 & $\\dots$ \\\\\n",
       "\t25 & 1.060A & 1 & 060A & 0 & 0 & 0 & 0 & 0 & 0 & 0 & 0 & $\\dots$ \\\\\n",
       "\t26 & 1.061 & 1 & 061 & 0 & 0 & 0 & 0 & 0 & 0 & 0 & 0 & $\\dots$ \\\\\n",
       "\t27 & 1.061A & 1 & 061A & 0 & 0 & 0 & 0 & 0 & 0 & 0 & 0 & $\\dots$ \\\\\n",
       "\t28 & 1.062 & 1 & 062 & 0 & 0 & 0 & 0 & 0 & 0 & 0 & 0 & $\\dots$ \\\\\n",
       "\t29 & 1.063 & 1 & 063 & 0 & 0 & 0 & 0 & 0 & 0 & 0 & 0 & $\\dots$ \\\\\n",
       "\t30 & 1.066 & 1 & 066 & 0 & 0 & 0 & 0 & 0 & 0 & 0 & 0 & $\\dots$ \\\\\n",
       "\t$\\dots$ & $\\dots$ & $\\dots$ & $\\dots$ & $\\dots$ & $\\dots$ & $\\dots$ & $\\dots$ & $\\dots$ & $\\dots$ & $\\dots$ & $\\dots$ &  \\\\\n",
       "\\end{tabular}\n"
      ],
      "text/plain": [
       "\u001b[1m3535×49 DataFrame\u001b[0m\n",
       "\u001b[1m  Row \u001b[0m│\u001b[1m no      \u001b[0m\u001b[1m co      \u001b[0m\u001b[1m cl      \u001b[0m\u001b[1m hh    \u001b[0m\u001b[1m ha    \u001b[0m\u001b[1m hs    \u001b[0m\u001b[1m he    \u001b[0m\u001b[1m ci    \u001b[0m\u001b[1m cw    \u001b[0m\u001b[1m r\u001b[0m ⋯\n",
       "      │\u001b[90m String7 \u001b[0m\u001b[90m String3 \u001b[0m\u001b[90m String7 \u001b[0m\u001b[90m Int64 \u001b[0m\u001b[90m Int64 \u001b[0m\u001b[90m Int64 \u001b[0m\u001b[90m Int64 \u001b[0m\u001b[90m Int64 \u001b[0m\u001b[90m Int64 \u001b[0m\u001b[90m I\u001b[0m ⋯\n",
       "──────┼─────────────────────────────────────────────────────────────────────────\n",
       "    1 │ 1.00     1        00           0      0      0      0      0      0    ⋯\n",
       "    2 │ 1.000    1        000          0      0      0      0      0      0\n",
       "    3 │ 1.001    1        001          0      0      0      0      0      0\n",
       "    4 │ 1.005    1        005          0      0      0      0      0      0\n",
       "    5 │ 1.008    1        008          0      0      0      0      0      0    ⋯\n",
       "    6 │ 1.009    1        009          0      0      0      0      0      0\n",
       "    7 │ 1.010    1        010          0      0      0      0      0      0\n",
       "    8 │ 1.013    1        013          0      0      0      0      0      0\n",
       "    9 │ 1.015    1        015          0      0      0      0      0      0    ⋯\n",
       "   10 │ 1.016    1        016          0      0      0      0      0      0\n",
       "   11 │ 1.018    1        018          0      0      0      0      0      0\n",
       "  ⋮   │    ⋮        ⋮        ⋮       ⋮      ⋮      ⋮      ⋮      ⋮      ⋮      ⋱\n",
       " 3526 │ WGS.321  WGS      321          1      0      0      0      0      0\n",
       " 3527 │ WGS.400  WGS      400          0      0      0      0      0      0    ⋯\n",
       " 3528 │ WGS.610  WGS      610          0      0      0      0      0      0\n",
       " 3529 │ WGS.615  WGS      615          0      0      0      0      0      0\n",
       " 3530 │ WGS.640  WGS      640          0      0      0      0      0      0\n",
       " 3531 │ WGS.645  WGS      645          0      0      0      0      0      0    ⋯\n",
       " 3532 │ WGS.700  WGS      700          0      0      0      0      0      0\n",
       " 3533 │ WGS.S10  WGS      S10          0      0      0      0      0      0\n",
       " 3534 │ WGS.UR   WGS      UR           0      0      0      0      0      0\n",
       " 3535 │ WGS.URG  WGS      URG          0      0      0      0      0      0    ⋯\n",
       "\u001b[36m                                                40 columns and 3514 rows omitted\u001b[0m"
      ]
     },
     "execution_count": 54,
     "metadata": {},
     "output_type": "execute_result"
    }
   ],
   "source": [
    "data_6_4  = CSV.read(\"6-4_requirements.csv\", DataFrame)\n",
    "course_data = CSV.read(\"course_data.csv\", DataFrame)\n",
    "data = innerjoin(course_data, data_6_4, on = :no)\n",
    "sort!(data, :no)"
   ]
  },
  {
   "cell_type": "code",
   "execution_count": 8,
   "id": "deea7fae-37d2-4581-be2e-aa58ad823af0",
   "metadata": {},
   "outputs": [],
   "source": [
    "# my attempt at loading in pre_reqs.txt but this runs into issues between np and julia\n",
    "# loaded_arr = np.loadtxt(\"pre_reqs.txt\") \n",
    "# PR = np.reshape(loaded_arr, (size(loaded_arr, 0), size(loaded_arr, 1) // arr.shape[2], arr.shape[2]))"
   ]
  },
  {
   "cell_type": "code",
   "execution_count": 55,
   "id": "adb32e4b-5184-4c2a-8f80-c8727ad1a555",
   "metadata": {},
   "outputs": [
    {
     "data": {
      "text/plain": [
       "1:8"
      ]
     },
     "execution_count": 55,
     "metadata": {},
     "output_type": "execute_result"
    }
   ],
   "source": [
    "# Build sets\n",
    "classes = 1:nrow(data)\n",
    "semesters = 1:8"
   ]
  },
  {
   "cell_type": "markdown",
   "id": "869b1a5e-038c-4636-9716-917dd85949f0",
   "metadata": {},
   "source": [
    "### Data Directly from CSV"
   ]
  },
  {
   "cell_type": "code",
   "execution_count": 58,
   "id": "a96038b3-79e9-4070-8381-02eb87c222c5",
   "metadata": {},
   "outputs": [
    {
     "ename": "LoadError",
     "evalue": "MethodError: no method matching getproperty(::Vector{Int64}, ::String)\n\n\u001b[0mClosest candidates are:\n\u001b[0m  getproperty(\u001b[91m::DataFrames.DataFrameRows\u001b[39m, ::AbstractString)\n\u001b[0m\u001b[90m   @\u001b[39m \u001b[33mDataFrames\u001b[39m \u001b[90m~/.julia/packages/DataFrames/58MUJ/src/abstractdataframe/\u001b[39m\u001b[90m\u001b[4miteration.jl:90\u001b[24m\u001b[39m\n\u001b[0m  getproperty(\u001b[91m::AbstractDataFrame\u001b[39m, ::AbstractString)\n\u001b[0m\u001b[90m   @\u001b[39m \u001b[33mDataFrames\u001b[39m \u001b[90m~/.julia/packages/DataFrames/58MUJ/src/abstractdataframe/\u001b[39m\u001b[90m\u001b[4mabstractdataframe.jl:432\u001b[24m\u001b[39m\n\u001b[0m  getproperty(\u001b[91m::DataFrameRow\u001b[39m, ::AbstractString)\n\u001b[0m\u001b[90m   @\u001b[39m \u001b[33mDataFrames\u001b[39m \u001b[90m~/.julia/packages/DataFrames/58MUJ/src/dataframerow/\u001b[39m\u001b[90m\u001b[4mdataframerow.jl:303\u001b[24m\u001b[39m\n\u001b[0m  ...\n",
     "output_type": "error",
     "traceback": [
      "MethodError: no method matching getproperty(::Vector{Int64}, ::String)\n\n\u001b[0mClosest candidates are:\n\u001b[0m  getproperty(\u001b[91m::DataFrames.DataFrameRows\u001b[39m, ::AbstractString)\n\u001b[0m\u001b[90m   @\u001b[39m \u001b[33mDataFrames\u001b[39m \u001b[90m~/.julia/packages/DataFrames/58MUJ/src/abstractdataframe/\u001b[39m\u001b[90m\u001b[4miteration.jl:90\u001b[24m\u001b[39m\n\u001b[0m  getproperty(\u001b[91m::AbstractDataFrame\u001b[39m, ::AbstractString)\n\u001b[0m\u001b[90m   @\u001b[39m \u001b[33mDataFrames\u001b[39m \u001b[90m~/.julia/packages/DataFrames/58MUJ/src/abstractdataframe/\u001b[39m\u001b[90m\u001b[4mabstractdataframe.jl:432\u001b[24m\u001b[39m\n\u001b[0m  getproperty(\u001b[91m::DataFrameRow\u001b[39m, ::AbstractString)\n\u001b[0m\u001b[90m   @\u001b[39m \u001b[33mDataFrames\u001b[39m \u001b[90m~/.julia/packages/DataFrames/58MUJ/src/dataframerow/\u001b[39m\u001b[90m\u001b[4mdataframerow.jl:303\u001b[24m\u001b[39m\n\u001b[0m  ...\n",
      "",
      "Stacktrace:",
      " [1] top-level scope",
      "   @ In[58]:2"
     ]
    }
   ],
   "source": [
    "# Get basic class information\n",
    "names = data.\"no\"\n",
    "fall = data.\"fa\"\n",
    "spring = data.\"sp\"\n",
    "U = data.\"vu\" # units\n",
    "R = data.\"ra\" # ratings\n",
    "H = data.\"h\" # hours\n",
    "same_as = data.\"sa\"\n",
    "pre_reqs = data.\"pr\"\n",
    "\n",
    "\n",
    "# Get GIR-related information\n",
    "hh = data.\"hh\"\n",
    "ha = data.\"ha\"\n",
    "hs = data.\"hs\"\n",
    "he = data.\"he\"\n",
    "cih = data.\"ci\"\n",
    "ci_hw = data.\"cw\"\n",
    "rest = data.\"re\"\n",
    "lab = data.\"la\"\n",
    "bio = data.\"bio\"\n",
    "chem = data.\"ch\"\n",
    "phys1 = data.\"p1\"\n",
    "phys2 = data.\"p2\"\n",
    "calc1 = data.\"c1\"\n",
    "calc2 = data.\"c2\"\n",
    "\n",
    "# Get 6-4-related information\n",
    "programming = data.\"p-64\"\n",
    "foundation = data.\"f-64\"\n",
    "math2 = data.\"m2-64\"\n",
    "math3 = data.\"m3-64\"\n",
    "data = data.\"dac-64\"\n",
    "mod = data.\"moc-64\"\n",
    "decision = data.\"dec-64\"\n",
    "compute = data.\"coc-64\"\n",
    "human = data.\"huc-64\"\n",
    "cim_6_4 = data.\"cim-64\"\n",
    "cim2 = data.\"cim2-64\"\n",
    "serc = data.\"serc\"\n",
    "aus = data.\"aus\"\n",
    "eecs = data.\"eecs\""
   ]
  },
  {
   "cell_type": "markdown",
   "id": "21ac3fab-75d7-447f-8c74-dc42ef018922",
   "metadata": {},
   "source": [
    "### Data Processing"
   ]
  },
  {
   "cell_type": "code",
   "execution_count": 59,
   "id": "44ede74e-c6ff-431a-b121-c690e1b7e770",
   "metadata": {},
   "outputs": [
    {
     "data": {
      "text/plain": [
       "1:8"
      ]
     },
     "execution_count": 59,
     "metadata": {},
     "output_type": "execute_result"
    }
   ],
   "source": [
    "# Determining which classes are hasses\n",
    "hass = [(hh[i] == 1 || ha[i] == 1 || hs[i] == 1 || he[i] == 1) ? 1 : 0 for i in classes]\n",
    "\n",
    "# Making matrix of GIR requirements \n",
    "G = hcat(ha, hs, hh, cih, hass, bio, phys1, phys2, calc1, calc2, chem, rest, lab)\n",
    "G_sat = [1, 1, 1, 2, 8, 1, 1, 1, 1, 1, 1, 12, 12]\n",
    "\n",
    "# Making matrix for fall/spring classes\n",
    "A = hcat(fall, spring)\n",
    "\n",
    "# Make vector indicating whether a semester is a fall (1) or spring (2) semester\n",
    "S = [ (j%2 == 1) ? 1 : 2 for j in semesters]\n",
    "\n",
    "# Get 1801A and 1802A indices\n",
    "calc1A = findfirst(item -> item == \"18.01A\", names)\n",
    "calc2A = findfirst(item -> item == \"18.02A\", names)\n",
    "\n",
    "# Making matrices for 6-4 requirements. \n",
    "center = [ (data[i] == 1 || mod[i] == 1 || decision[i] == 1 || compute[i] == 1 || human[i] == 1) ? 1 : 0 for i in classes]\n",
    "M = hcat(programming, foundation, math2, math3, center, data, mod, decision, compute, human, cim_6_4, cim2, serc)\n",
    "M_sat = [1, 3, 1, 1, 5, 1, 1, 1, 1, 1, 1, 2, 1]        \n",
    "EM = [ (eecs[i] == 1 || names[i][1:2] == \"18\") ? 1 : 0 for i in classes]\n",
    "\n",
    "# Making matrix for pre-reqs\n",
    "max_prs = 1:8"
   ]
  },
  {
   "cell_type": "markdown",
   "id": "8ae2fed9-a067-40f7-b5e7-976c847486a8",
   "metadata": {},
   "source": [
    "## Tweakable variables"
   ]
  },
  {
   "cell_type": "code",
   "execution_count": 60,
   "id": "52d3858e-3ebf-4c04-8c76-6f59b575593c",
   "metadata": {},
   "outputs": [
    {
     "data": {
      "text/plain": [
       "0.5"
      ]
     },
     "execution_count": 60,
     "metadata": {},
     "output_type": "execute_result"
    }
   ],
   "source": [
    "a = 0.5"
   ]
  },
  {
   "cell_type": "markdown",
   "id": "d78ea435-e426-499e-892d-c363ef3d5dc9",
   "metadata": {},
   "source": [
    "## Building the Model"
   ]
  },
  {
   "cell_type": "markdown",
   "id": "44ef17ec-22c2-4b58-b59b-d9e62e0f21bf",
   "metadata": {},
   "source": [
    "### Index references\n",
    "i: class\n",
    "\n",
    "j: semester\n",
    "\n",
    "k: index of GIR requirement\n",
    "\n",
    "l: index of 6-4 requirement"
   ]
  },
  {
   "cell_type": "markdown",
   "id": "78eaef05-1137-4778-8bbd-cf9168cb1239",
   "metadata": {},
   "source": [
    "### Model Definition"
   ]
  },
  {
   "cell_type": "code",
   "execution_count": 87,
   "id": "9d5cc7b9-a413-4ad5-8c9e-b30296d766b7",
   "metadata": {},
   "outputs": [
    {
     "name": "stdout",
     "output_type": "stream",
     "text": [
      "Set parameter Username\n",
      "Academic license - for non-commercial use only - expires 2024-09-07\n"
     ]
    },
    {
     "data": {
      "text/latex": [
       "$$ -X_{13,1}\\times CIM\\_option - X_{16,1}\\times CIM\\_option - X_{147,1}\\times CIM\\_option - X_{470,1}\\times CIM\\_option - X_{556,1}\\times CIM\\_option - X_{569,1}\\times CIM\\_option - X_{574,1}\\times CIM\\_option - X_{901,1}\\times CIM\\_option - X_{986,1}\\times CIM\\_option - X_{1026,1}\\times CIM\\_option - X_{1274,1}\\times CIM\\_option - X_{1723,1}\\times CIM\\_option - X_{2983,1}\\times CIM\\_option - X_{2984,1}\\times CIM\\_option - X_{2997,1}\\times CIM\\_option - X_{3004,1}\\times CIM\\_option - X_{3044,1}\\times CIM\\_option - X_{13,2}\\times CIM\\_option - X_{16,2}\\times CIM\\_option - X_{147,2}\\times CIM\\_option - X_{470,2}\\times CIM\\_option - X_{556,2}\\times CIM\\_option - X_{569,2}\\times CIM\\_option - X_{574,2}\\times CIM\\_option - X_{901,2}\\times CIM\\_option - X_{986,2}\\times CIM\\_option - X_{1026,2}\\times CIM\\_option - X_{1274,2}\\times CIM\\_option - X_{1723,2}\\times CIM\\_option - X_{2983,2}\\times CIM\\_option - X_{2984,2}\\times CIM\\_option - X_{2997,2}\\times CIM\\_option - X_{3004,2}\\times CIM\\_option - X_{3044,2}\\times CIM\\_option - X_{13,3}\\times CIM\\_option - X_{16,3}\\times CIM\\_option - X_{147,3}\\times CIM\\_option - X_{470,3}\\times CIM\\_option - X_{556,3}\\times CIM\\_option - X_{569,3}\\times CIM\\_option - X_{574,3}\\times CIM\\_option - X_{901,3}\\times CIM\\_option - X_{986,3}\\times CIM\\_option - X_{1026,3}\\times CIM\\_option - X_{1274,3}\\times CIM\\_option - X_{1723,3}\\times CIM\\_option - X_{2983,3}\\times CIM\\_option - X_{2984,3}\\times CIM\\_option - X_{2997,3}\\times CIM\\_option - X_{3004,3}\\times CIM\\_option - X_{3044,3}\\times CIM\\_option - X_{13,4}\\times CIM\\_option - X_{16,4}\\times CIM\\_option - X_{147,4}\\times CIM\\_option - X_{470,4}\\times CIM\\_option - X_{556,4}\\times CIM\\_option - X_{569,4}\\times CIM\\_option - X_{574,4}\\times CIM\\_option - X_{901,4}\\times CIM\\_option - X_{986,4}\\times CIM\\_option - X_{1026,4}\\times CIM\\_option - X_{1274,4}\\times CIM\\_option - X_{1723,4}\\times CIM\\_option - X_{2983,4}\\times CIM\\_option - X_{2984,4}\\times CIM\\_option - X_{2997,4}\\times CIM\\_option - X_{3004,4}\\times CIM\\_option - X_{3044,4}\\times CIM\\_option - X_{13,5}\\times CIM\\_option - X_{16,5}\\times CIM\\_option - X_{147,5}\\times CIM\\_option - X_{470,5}\\times CIM\\_option - X_{556,5}\\times CIM\\_option - X_{569,5}\\times CIM\\_option - X_{574,5}\\times CIM\\_option - X_{901,5}\\times CIM\\_option - X_{986,5}\\times CIM\\_option - X_{1026,5}\\times CIM\\_option - X_{1274,5}\\times CIM\\_option - X_{1723,5}\\times CIM\\_option - X_{2983,5}\\times CIM\\_option - X_{2984,5}\\times CIM\\_option - X_{2997,5}\\times CIM\\_option - X_{3004,5}\\times CIM\\_option - X_{3044,5}\\times CIM\\_option - X_{13,6}\\times CIM\\_option - X_{16,6}\\times CIM\\_option - X_{147,6}\\times CIM\\_option - X_{470,6}\\times CIM\\_option - X_{556,6}\\times CIM\\_option - X_{569,6}\\times CIM\\_option - X_{574,6}\\times CIM\\_option - X_{901,6}\\times CIM\\_option - X_{986,6}\\times CIM\\_option - X_{1026,6}\\times CIM\\_option - X_{1274,6}\\times CIM\\_option - X_{1723,6}\\times CIM\\_option - X_{2983,6}\\times CIM\\_option - X_{2984,6}\\times CIM\\_option - X_{2997,6}\\times CIM\\_option - X_{3004,6}\\times CIM\\_option - X_{3044,6}\\times CIM\\_option - X_{13,7}\\times CIM\\_option - X_{16,7}\\times CIM\\_option - X_{147,7}\\times CIM\\_option - X_{470,7}\\times CIM\\_option - X_{556,7}\\times CIM\\_option - X_{569,7}\\times CIM\\_option - X_{574,7}\\times CIM\\_option - X_{901,7}\\times CIM\\_option - X_{986,7}\\times CIM\\_option - X_{1026,7}\\times CIM\\_option - X_{1274,7}\\times CIM\\_option - X_{1723,7}\\times CIM\\_option - X_{2983,7}\\times CIM\\_option - X_{2984,7}\\times CIM\\_option - X_{2997,7}\\times CIM\\_option - X_{3004,7}\\times CIM\\_option - X_{3044,7}\\times CIM\\_option - X_{13,8}\\times CIM\\_option - X_{16,8}\\times CIM\\_option - X_{147,8}\\times CIM\\_option - X_{470,8}\\times CIM\\_option - X_{556,8}\\times CIM\\_option - X_{569,8}\\times CIM\\_option - X_{574,8}\\times CIM\\_option - X_{901,8}\\times CIM\\_option - X_{986,8}\\times CIM\\_option - X_{1026,8}\\times CIM\\_option - X_{1274,8}\\times CIM\\_option - X_{1723,8}\\times CIM\\_option - X_{2983,8}\\times CIM\\_option - X_{2984,8}\\times CIM\\_option - X_{2997,8}\\times CIM\\_option - X_{3004,8}\\times CIM\\_option - X_{3044,8}\\times CIM\\_option + X_{13,1} + X_{16,1} + X_{147,1} + X_{470,1} + X_{556,1} + X_{569,1} + X_{574,1} + X_{901,1} + X_{986,1} + X_{1026,1} + X_{1274,1} + X_{1723,1} + X_{2983,1} + X_{2984,1} + X_{2997,1} + X_{3004,1} + X_{3044,1} + X_{13,2} + X_{16,2} + X_{147,2} + X_{470,2} + X_{556,2} + X_{569,2} + X_{574,2} + X_{901,2} + X_{986,2} + X_{1026,2} + X_{1274,2} + X_{1723,2} + X_{2983,2} + X_{2984,2} + X_{2997,2} + X_{3004,2} + X_{3044,2} + X_{13,3} + X_{16,3} + X_{147,3} + X_{470,3} + X_{556,3} + X_{569,3} + X_{574,3} + X_{901,3} + X_{986,3} + X_{1026,3} + X_{1274,3} + X_{1723,3} + X_{2983,3} + X_{2984,3} + X_{2997,3} + X_{3004,3} + X_{3044,3} + X_{13,4} + X_{16,4} + X_{147,4} + X_{470,4} + X_{556,4} + X_{569,4} + X_{574,4} + X_{901,4} + X_{986,4} + X_{1026,4} + X_{1274,4} + X_{1723,4} + X_{2983,4} + X_{2984,4} + X_{2997,4} + X_{3004,4} + X_{3044,4} + X_{13,5} + X_{16,5} + X_{147,5} + X_{470,5} + X_{556,5} + X_{569,5} + X_{574,5} + X_{901,5} + X_{986,5} + X_{1026,5} + X_{1274,5} + X_{1723,5} + X_{2983,5} + X_{2984,5} + X_{2997,5} + X_{3004,5} + X_{3044,5} + X_{13,6} + X_{16,6} + X_{147,6} + X_{470,6} + X_{556,6} + X_{569,6} + X_{574,6} + X_{901,6} + X_{986,6} + X_{1026,6} + X_{1274,6} + X_{1723,6} + X_{2983,6} + X_{2984,6} + X_{2997,6} + X_{3004,6} + X_{3044,6} + X_{13,7} + X_{16,7} + X_{147,7} + X_{470,7} + X_{556,7} + X_{569,7} + X_{574,7} + X_{901,7} + X_{986,7} + X_{1026,7} + X_{1274,7} + X_{1723,7} + X_{2983,7} + X_{2984,7} + X_{2997,7} + X_{3004,7} + X_{3044,7} + X_{13,8} + X_{16,8} + X_{147,8} + X_{470,8} + X_{556,8} + X_{569,8} + X_{574,8} + X_{901,8} + X_{986,8} + X_{1026,8} + X_{1274,8} + X_{1723,8} + X_{2983,8} + X_{2984,8} + X_{2997,8} + X_{3004,8} + X_{3044,8} + 3 CIM\\_option \\geq 3 $$"
      ],
      "text/plain": [
       "cim_option_2_2 : -X[13,1]*CIM_option - X[16,1]*CIM_option - X[147,1]*CIM_option - X[470,1]*CIM_option - X[556,1]*CIM_option - X[569,1]*CIM_option - X[574,1]*CIM_option - X[901,1]*CIM_option - X[986,1]*CIM_option - X[1026,1]*CIM_option - X[1274,1]*CIM_option - X[1723,1]*CIM_option - X[2983,1]*CIM_option - X[2984,1]*CIM_option - X[2997,1]*CIM_option - X[3004,1]*CIM_option - X[3044,1]*CIM_option - X[13,2]*CIM_option - X[16,2]*CIM_option - X[147,2]*CIM_option - X[470,2]*CIM_option - X[556,2]*CIM_option - X[569,2]*CIM_option - X[574,2]*CIM_option - X[901,2]*CIM_option - X[986,2]*CIM_option - X[1026,2]*CIM_option - X[1274,2]*CIM_option - X[1723,2]*CIM_option - X[2983,2]*CIM_option - X[2984,2]*CIM_option - X[2997,2]*CIM_option - X[3004,2]*CIM_option - X[3044,2]*CIM_option - X[13,3]*CIM_option - X[16,3]*CIM_option - X[147,3]*CIM_option - X[470,3]*CIM_option - X[556,3]*CIM_option - X[569,3]*CIM_option - X[574,3]*CIM_option - X[901,3]*CIM_option - X[986,3]*CIM_option - X[1026,3]*CIM_option - X[1274,3]*CIM_option - X[1723,3]*CIM_option - X[2983,3]*CIM_option - X[2984,3]*CIM_option - X[2997,3]*CIM_option - X[3004,3]*CIM_option - X[3044,3]*CIM_option - X[13,4]*CIM_option - X[16,4]*CIM_option - X[147,4]*CIM_option - X[470,4]*CIM_option - X[556,4]*CIM_option - X[569,4]*CIM_option - X[574,4]*CIM_option - X[901,4]*CIM_option - X[986,4]*CIM_option - X[1026,4]*CIM_option - X[1274,4]*CIM_option - X[1723,4]*CIM_option - X[2983,4]*CIM_option - X[2984,4]*CIM_option - X[2997,4]*CIM_option - X[3004,4]*CIM_option - X[3044,4]*CIM_option - X[13,5]*CIM_option - X[16,5]*CIM_option - X[147,5]*CIM_option - X[470,5]*CIM_option - X[556,5]*CIM_option - X[569,5]*CIM_option - X[574,5]*CIM_option - X[901,5]*CIM_option - X[986,5]*CIM_option - X[1026,5]*CIM_option - X[1274,5]*CIM_option - X[1723,5]*CIM_option - X[2983,5]*CIM_option - X[2984,5]*CIM_option - X[2997,5]*CIM_option - X[3004,5]*CIM_option - X[3044,5]*CIM_option - X[13,6]*CIM_option - X[16,6]*CIM_option - X[147,6]*CIM_option - X[470,6]*CIM_option - X[556,6]*CIM_option - X[569,6]*CIM_option - X[574,6]*CIM_option - X[901,6]*CIM_option - X[986,6]*CIM_option - X[1026,6]*CIM_option - X[1274,6]*CIM_option - X[1723,6]*CIM_option - X[2983,6]*CIM_option - X[2984,6]*CIM_option - X[2997,6]*CIM_option - X[3004,6]*CIM_option - X[3044,6]*CIM_option - X[13,7]*CIM_option - X[16,7]*CIM_option - X[147,7]*CIM_option - X[470,7]*CIM_option - X[556,7]*CIM_option - X[569,7]*CIM_option - X[574,7]*CIM_option - X[901,7]*CIM_option - X[986,7]*CIM_option - X[1026,7]*CIM_option - X[1274,7]*CIM_option - X[1723,7]*CIM_option - X[2983,7]*CIM_option - X[2984,7]*CIM_option - X[2997,7]*CIM_option - X[3004,7]*CIM_option - X[3044,7]*CIM_option - X[13,8]*CIM_option - X[16,8]*CIM_option - X[147,8]*CIM_option - X[470,8]*CIM_option - X[556,8]*CIM_option - X[569,8]*CIM_option - X[574,8]*CIM_option - X[901,8]*CIM_option - X[986,8]*CIM_option - X[1026,8]*CIM_option - X[1274,8]*CIM_option - X[1723,8]*CIM_option - X[2983,8]*CIM_option - X[2984,8]*CIM_option - X[2997,8]*CIM_option - X[3004,8]*CIM_option - X[3044,8]*CIM_option + X[13,1] + X[16,1] + X[147,1] + X[470,1] + X[556,1] + X[569,1] + X[574,1] + X[901,1] + X[986,1] + X[1026,1] + X[1274,1] + X[1723,1] + X[2983,1] + X[2984,1] + X[2997,1] + X[3004,1] + X[3044,1] + X[13,2] + X[16,2] + X[147,2] + X[470,2] + X[556,2] + X[569,2] + X[574,2] + X[901,2] + X[986,2] + X[1026,2] + X[1274,2] + X[1723,2] + X[2983,2] + X[2984,2] + X[2997,2] + X[3004,2] + X[3044,2] + X[13,3] + X[16,3] + X[147,3] + X[470,3] + X[556,3] + X[569,3] + X[574,3] + X[901,3] + X[986,3] + X[1026,3] + X[1274,3] + X[1723,3] + X[2983,3] + X[2984,3] + X[2997,3] + X[3004,3] + X[3044,3] + X[13,4] + X[16,4] + X[147,4] + X[470,4] + X[556,4] + X[569,4] + X[574,4] + X[901,4] + X[986,4] + X[1026,4] + X[1274,4] + X[1723,4] + X[2983,4] + X[2984,4] + X[2997,4] + X[3004,4] + X[3044,4] + X[13,5] + X[16,5] + X[147,5] + X[470,5] + X[556,5] + X[569,5] + X[574,5] + X[901,5] + X[986,5] + X[1026,5] + X[1274,5] + X[1723,5] + X[2983,5] + X[2984,5] + X[2997,5] + X[3004,5] + X[3044,5] + X[13,6] + X[16,6] + X[147,6] + X[470,6] + X[556,6] + X[569,6] + X[574,6] + X[901,6] + X[986,6] + X[1026,6] + X[1274,6] + X[1723,6] + X[2983,6] + X[2984,6] + X[2997,6] + X[3004,6] + X[3044,6] + X[13,7] + X[16,7] + X[147,7] + X[470,7] + X[556,7] + X[569,7] + X[574,7] + X[901,7] + X[986,7] + X[1026,7] + X[1274,7] + X[1723,7] + X[2983,7] + X[2984,7] + X[2997,7] + X[3004,7] + X[3044,7] + X[13,8] + X[16,8] + X[147,8] + X[470,8] + X[556,8] + X[569,8] + X[574,8] + X[901,8] + X[986,8] + X[1026,8] + X[1274,8] + X[1723,8] + X[2983,8] + X[2984,8] + X[2997,8] + X[3004,8] + X[3044,8] + 3 CIM_option ≥ 3"
      ]
     },
     "execution_count": 87,
     "metadata": {},
     "output_type": "execute_result"
    }
   ],
   "source": [
    "model = Model(Gurobi.Optimizer)\n",
    "\n",
    "# Decision variables\n",
    "@variable(model, X[classes, semesters], Bin);\n",
    "\n",
    "# Binary variable describing whether student does CIM option 1 (val = 1) or 2 (val = 0)\n",
    "@variable(model, CIM_option, Bin);\n",
    "\n",
    "# Objective\n",
    "@objective(model, Min, a*sum(H[i]*sum(X[i,j] for j in semesters) for i in classes) + (1- a)*sum(R[i]*sum(X[i,j] for j in semesters) for i in classes));\n",
    "\n",
    "# ---- General Constraints ------\n",
    "\n",
    "# Cannot take a class more than once\n",
    "@constraint(model, num_times[i in classes], sum(X[i,j] for j in semesters) <= 1);\n",
    "\n",
    "# Maximum and minimum number of units per semester\n",
    "@constraint(model, max_units[j in semesters], sum(U[i]*X[i,j] for i in classes) <= 60);\n",
    "@constraint(model, min_units[j in semesters], sum(U[i]*X[i,j] for i in classes) >= 36);\n",
    "\n",
    "# Fall classes taken in fall, spring classes taken in spring\n",
    "@constraint(model, fall_spring[i in classes, j in semesters], X[i,j] - A[i, S[j]] <= 0);\n",
    "\n",
    "# Pre-reqs\n",
    "# @constraint(model, pre_req_constraint[i in classes, j in semesters, k in max_prs], X[i,j]*sum(sum(X[z,w] for w in j:8)*P[i, z, k] for z in classes) >= X[i,j]*1)\n",
    "\n",
    "# ---- GIR Constraints ------\n",
    "\n",
    "# # GIR requirements by classes\n",
    "@constraint(model, gir_classes[k in 1:11], sum(sum(G[i,k]X[i,j] for j in semesters) for i in classes) >= G_sat[k]);\n",
    "\n",
    "# # GIR requirements by units\n",
    "@constraint(model, gir_units[k in 12:13], sum(sum(G[i,k]X[i,j]U[i] for j in semesters) for i in classes) >= G_sat[k]);\n",
    "\n",
    "# # at least 180 units beyond GIR\n",
    "@constraint(model, units_beyond_GIR, sum(\n",
    "        sum(U[i]*X[i,j] for j in semesters)\n",
    "        - sum(U[i]*X[i,j] for j in semesters)\n",
    "        * (sum(G[i,k] for k in 1:13) >= 1 ? 1 : 0) for i in classes) >= 180);\n",
    "\n",
    "# Takes 1801A and 1802A consecutively\n",
    "# @constraint(model, calcA_lessthan, sum(X[calc1A, j] for j in semesters) <= sum(X[calc2A, j] for j in semesters))\n",
    "# @constraint(model, calcA_greaterthan, sum(X[calc1A, j] for j in semesters) >= sum(X[calc2A, j] for j in semesters))\n",
    "@constraint(model, calcA_lessthan[j in 1:7], X[calc1A,j] <= X[calc2A,j+1])\n",
    "@constraint(model, calcA_greaterthan[j in 1:7], X[calc1A,j] >= X[calc2A,j+1])\n",
    "\n",
    "# # ---- 6-4 Constraints ------\n",
    "\n",
    "# General requirements satisfied\n",
    "# @constraint(model, general_64[l in 1:13], sum(M[i, l]*sum(X[i,j] for j in semesters) for i in classes) >= M_sat[l])\n",
    "\n",
    "# One additional 6-4 CIM (option 1) or AIDUS (option 2)\n",
    "@constraint(model, cim_option_1, sum((aus[i] - cim_6_4[i]) * sum(X[i,j] for j in semesters) for i in classes)*CIM_option >= 1*CIM_option) \n",
    "@constraint(model, cim_option_2_1, sum((cim_6_4[i]) * sum(X[i,j] for j in semesters) for i in classes)*(1-CIM_option) >= 2*(1-CIM_option))\n",
    "@constraint(model, cim_option_2_2, sum((cim2[i]) * sum(X[i,j] for j in semesters) for i in classes)*(1-CIM_option) >= 3*(1-CIM_option))\n",
    "\n",
    "# One additional math/eecs course\n",
    "# @constraint(model, math_eecs, sum(EM[i] - (sum(M[i,l] for l in 1:13) >= 1 ? 1 : 0)*sum(X[i,j] for j in semesters) + sum(M[i,l]*sum(X[i,j] for j in semesters) - M_sat[l] for l in 1:13) for i in classes) >= 1)\n",
    "\n"
   ]
  },
  {
   "cell_type": "code",
   "execution_count": 88,
   "id": "83703a5b-bd4d-4924-8e0c-d9a1febf3f2e",
   "metadata": {},
   "outputs": [
    {
     "name": "stdout",
     "output_type": "stream",
     "text": [
      "Gurobi Optimizer version 10.0.2 build v10.0.2rc0 (mac64[x86])\n",
      "\n",
      "CPU model: Intel(R) Core(TM) i7-9750H CPU @ 2.60GHz\n",
      "Thread count: 6 physical cores, 12 logical processors, using up to 12 threads\n",
      "\n",
      "Optimize a model with 31859 rows, 28281 columns and 131692 nonzeros\n",
      "Model fingerprint: 0x0c59295e\n",
      "Model has 3 quadratic constraints\n",
      "Variable types: 0 continuous, 28281 integer (28281 binary)\n",
      "Coefficient statistics:\n",
      "  Matrix range     [1e+00, 4e+01]\n",
      "  QMatrix range    [1e+00, 1e+00]\n",
      "  QLMatrix range   [1e+00, 3e+00]\n",
      "  Objective range  [2e+00, 5e+01]\n",
      "  Bounds range     [0e+00, 0e+00]\n",
      "  RHS range        [1e+00, 2e+02]\n",
      "  QRHS range       [2e+00, 3e+00]\n",
      "Presolve removed 28922 rows and 14574 columns\n",
      "Presolve time: 0.16s\n",
      "Presolved: 2937 rows, 13707 columns, 58143 nonzeros\n",
      "Variable types: 0 continuous, 13707 integer (13706 binary)\n",
      "Found heuristic solution: objective 133.5750000\n",
      "\n",
      "Root relaxation: objective 3.761000e+01, 90 iterations, 0.01 seconds (0.01 work units)\n",
      "\n",
      "    Nodes    |    Current Node    |     Objective Bounds      |     Work\n",
      " Expl Unexpl |  Obj  Depth IntInf | Incumbent    BestBd   Gap | It/Node Time\n",
      "\n",
      "     0     0   37.61000    0    9  133.57500   37.61000  71.8%     -    0s\n",
      "H    0     0                      37.6100000   37.61000  0.00%     -    0s\n",
      "     0     0   37.61000    0    9   37.61000   37.61000  0.00%     -    0s\n",
      "\n",
      "Explored 1 nodes (90 simplex iterations) in 0.22 seconds (0.21 work units)\n",
      "Thread count was 12 (of 12 available processors)\n",
      "\n",
      "Solution count 2: 37.61 133.575 \n",
      "\n",
      "Optimal solution found (tolerance 1.00e-04)\n",
      "Best objective 3.761000000000e+01, best bound 3.761000000000e+01, gap 0.0000%\n",
      "\n",
      "User-callback calls 303, time in user-callback 0.00 sec\n"
     ]
    }
   ],
   "source": [
    "optimize!(model)"
   ]
  },
  {
   "cell_type": "code",
   "execution_count": 89,
   "id": "a76a280c-5cd5-4042-8ec7-5898095d65b2",
   "metadata": {},
   "outputs": [
    {
     "data": {
      "text/plain": [
       "37.61"
      ]
     },
     "execution_count": 89,
     "metadata": {},
     "output_type": "execute_result"
    }
   ],
   "source": [
    "objective_value(model)"
   ]
  },
  {
   "cell_type": "code",
   "execution_count": 90,
   "id": "d439ca70-5e52-42fc-ae9f-283b7e2dad41",
   "metadata": {},
   "outputs": [
    {
     "name": "stdout",
     "output_type": "stream",
     "text": [
      "semester1: Any[String7(\"11.122\"), String7(\"11.138\"), String7(\"21G.041\"), String7(\"21M.470\"), String7(\"3.091\")]\n",
      "semester2: Any[String7(\"15.076\"), String7(\"3.020\"), String7(\"8.011\"), String7(\"8.02\")]\n",
      "semester3: Any[String7(\"21G.708\"), String7(\"7.012\"), String7(\"HST.030\"), String7(\"HST.130\")]\n",
      "semester4: Any[String7(\"6.8301\"), String7(\"HST.034\"), String7(\"HST.035\")]\n",
      "semester5: Any[String7(\"18.01A\"), String7(\"21M.475\"), String7(\"4.685\"), String7(\"HST.031\"), String7(\"STS.053\")]\n",
      "semester6: Any[String7(\"18.02A\"), String7(\"21L.002\"), String7(\"HST.090\"), String7(\"HST.091\")]\n",
      "semester7: Any[String7(\"10.S28\"), String7(\"21M.150\"), String7(\"CC.S20\"), String7(\"HST.131\")]\n",
      "semester8: Any[String7(\"HST.207\"), String7(\"WGS.645\")]\n"
     ]
    }
   ],
   "source": [
    "X_vals = convert(Matrix, value.(X))\n",
    "\n",
    "for j in semesters\n",
    "    classes_taken = []\n",
    "    for i in classes\n",
    "        if X_vals[i,j] == 1\n",
    "            push!(classes_taken, names[i])\n",
    "        end\n",
    "    end\n",
    "    println(\"semester\", j, \": \", classes_taken)\n",
    "end"
   ]
  }
 ],
 "metadata": {
  "kernelspec": {
   "display_name": "Julia 1.9.3",
   "language": "julia",
   "name": "julia-1.9"
  },
  "language_info": {
   "file_extension": ".jl",
   "mimetype": "application/julia",
   "name": "julia",
   "version": "1.9.3"
  }
 },
 "nbformat": 4,
 "nbformat_minor": 5
}
